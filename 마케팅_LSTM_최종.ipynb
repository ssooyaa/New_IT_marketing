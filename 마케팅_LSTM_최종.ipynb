{
  "nbformat": 4,
  "nbformat_minor": 0,
  "metadata": {
    "colab": {
      "provenance": [],
      "collapsed_sections": [],
      "machine_shape": "hm",
      "include_colab_link": true
    },
    "kernelspec": {
      "name": "python3",
      "display_name": "Python 3"
    },
    "language_info": {
      "name": "python"
    },
    "accelerator": "GPU",
    "gpuClass": "premium"
  },
  "cells": [
    {
      "cell_type": "markdown",
      "metadata": {
        "id": "view-in-github",
        "colab_type": "text"
      },
      "source": [
        "<a href=\"https://colab.research.google.com/github/ssooyaa/New_IT_marketing/blob/main/%EB%A7%88%EC%BC%80%ED%8C%85_LSTM_%EC%B5%9C%EC%A2%85.ipynb\" target=\"_parent\"><img src=\"https://colab.research.google.com/assets/colab-badge.svg\" alt=\"Open In Colab\"/></a>"
      ]
    },
    {
      "cell_type": "markdown",
      "source": [
        "사전만들기"
      ],
      "metadata": {
        "id": "s0T_3sbh2MwS"
      }
    },
    {
      "cell_type": "code",
      "execution_count": null,
      "metadata": {
        "colab": {
          "base_uri": "https://localhost:8080/"
        },
        "id": "VDTTPFO0CsL2",
        "outputId": "c5a32de5-045e-4e99-aa1e-031af72b37a5"
      },
      "outputs": [
        {
          "output_type": "stream",
          "name": "stdout",
          "text": [
            "Cloning into 'customized_konlpy'...\n",
            "remote: Enumerating objects: 618, done.\u001b[K\n",
            "remote: Total 618 (delta 0), reused 0 (delta 0), pack-reused 618\u001b[K\n",
            "Receiving objects: 100% (618/618), 950.06 KiB | 15.32 MiB/s, done.\n",
            "Resolving deltas: 100% (345/345), done.\n"
          ]
        }
      ],
      "source": [
        "!git clone https://github.com/lovit/customized_konlpy.git"
      ]
    },
    {
      "cell_type": "code",
      "source": [
        "!pip install customized_konlpy"
      ],
      "metadata": {
        "colab": {
          "base_uri": "https://localhost:8080/"
        },
        "id": "UFcD_kdNDLBP",
        "outputId": "a55f77b6-35f6-4bb2-ea58-e93308e94b3a"
      },
      "execution_count": null,
      "outputs": [
        {
          "output_type": "stream",
          "name": "stdout",
          "text": [
            "Looking in indexes: https://pypi.org/simple, https://us-python.pkg.dev/colab-wheels/public/simple/\n",
            "Collecting customized_konlpy\n",
            "  Downloading customized_konlpy-0.0.64-py3-none-any.whl (881 kB)\n",
            "\u001b[K     |████████████████████████████████| 881 kB 11.2 MB/s \n",
            "\u001b[?25hCollecting Jpype1>=0.6.1\n",
            "  Downloading JPype1-1.4.0-cp37-cp37m-manylinux_2_5_x86_64.manylinux1_x86_64.whl (453 kB)\n",
            "\u001b[K     |████████████████████████████████| 453 kB 61.5 MB/s \n",
            "\u001b[?25hCollecting konlpy>=0.4.4\n",
            "  Downloading konlpy-0.6.0-py2.py3-none-any.whl (19.4 MB)\n",
            "\u001b[K     |████████████████████████████████| 19.4 MB 26.4 MB/s \n",
            "\u001b[?25hRequirement already satisfied: typing-extensions in /usr/local/lib/python3.7/dist-packages (from Jpype1>=0.6.1->customized_konlpy) (4.1.1)\n",
            "Requirement already satisfied: lxml>=4.1.0 in /usr/local/lib/python3.7/dist-packages (from konlpy>=0.4.4->customized_konlpy) (4.9.1)\n",
            "Requirement already satisfied: numpy>=1.6 in /usr/local/lib/python3.7/dist-packages (from konlpy>=0.4.4->customized_konlpy) (1.21.6)\n",
            "Installing collected packages: Jpype1, konlpy, customized-konlpy\n",
            "Successfully installed Jpype1-1.4.0 customized-konlpy-0.0.64 konlpy-0.6.0\n"
          ]
        }
      ]
    },
    {
      "cell_type": "code",
      "source": [
        "from google.colab import files\n",
        "myfile = files.upload()"
      ],
      "metadata": {
        "colab": {
          "base_uri": "https://localhost:8080/",
          "height": 76
        },
        "id": "nhYi_4AmDOuu",
        "outputId": "7561917d-e3af-44f2-a7ab-b678734b8381"
      },
      "execution_count": null,
      "outputs": [
        {
          "output_type": "display_data",
          "data": {
            "text/plain": [
              "<IPython.core.display.HTML object>"
            ],
            "text/html": [
              "\n",
              "     <input type=\"file\" id=\"files-ff50eac3-fc46-4c7a-aa97-f41328cc77d1\" name=\"files[]\" multiple disabled\n",
              "        style=\"border:none\" />\n",
              "     <output id=\"result-ff50eac3-fc46-4c7a-aa97-f41328cc77d1\">\n",
              "      Upload widget is only available when the cell has been executed in the\n",
              "      current browser session. Please rerun this cell to enable.\n",
              "      </output>\n",
              "      <script>// Copyright 2017 Google LLC\n",
              "//\n",
              "// Licensed under the Apache License, Version 2.0 (the \"License\");\n",
              "// you may not use this file except in compliance with the License.\n",
              "// You may obtain a copy of the License at\n",
              "//\n",
              "//      http://www.apache.org/licenses/LICENSE-2.0\n",
              "//\n",
              "// Unless required by applicable law or agreed to in writing, software\n",
              "// distributed under the License is distributed on an \"AS IS\" BASIS,\n",
              "// WITHOUT WARRANTIES OR CONDITIONS OF ANY KIND, either express or implied.\n",
              "// See the License for the specific language governing permissions and\n",
              "// limitations under the License.\n",
              "\n",
              "/**\n",
              " * @fileoverview Helpers for google.colab Python module.\n",
              " */\n",
              "(function(scope) {\n",
              "function span(text, styleAttributes = {}) {\n",
              "  const element = document.createElement('span');\n",
              "  element.textContent = text;\n",
              "  for (const key of Object.keys(styleAttributes)) {\n",
              "    element.style[key] = styleAttributes[key];\n",
              "  }\n",
              "  return element;\n",
              "}\n",
              "\n",
              "// Max number of bytes which will be uploaded at a time.\n",
              "const MAX_PAYLOAD_SIZE = 100 * 1024;\n",
              "\n",
              "function _uploadFiles(inputId, outputId) {\n",
              "  const steps = uploadFilesStep(inputId, outputId);\n",
              "  const outputElement = document.getElementById(outputId);\n",
              "  // Cache steps on the outputElement to make it available for the next call\n",
              "  // to uploadFilesContinue from Python.\n",
              "  outputElement.steps = steps;\n",
              "\n",
              "  return _uploadFilesContinue(outputId);\n",
              "}\n",
              "\n",
              "// This is roughly an async generator (not supported in the browser yet),\n",
              "// where there are multiple asynchronous steps and the Python side is going\n",
              "// to poll for completion of each step.\n",
              "// This uses a Promise to block the python side on completion of each step,\n",
              "// then passes the result of the previous step as the input to the next step.\n",
              "function _uploadFilesContinue(outputId) {\n",
              "  const outputElement = document.getElementById(outputId);\n",
              "  const steps = outputElement.steps;\n",
              "\n",
              "  const next = steps.next(outputElement.lastPromiseValue);\n",
              "  return Promise.resolve(next.value.promise).then((value) => {\n",
              "    // Cache the last promise value to make it available to the next\n",
              "    // step of the generator.\n",
              "    outputElement.lastPromiseValue = value;\n",
              "    return next.value.response;\n",
              "  });\n",
              "}\n",
              "\n",
              "/**\n",
              " * Generator function which is called between each async step of the upload\n",
              " * process.\n",
              " * @param {string} inputId Element ID of the input file picker element.\n",
              " * @param {string} outputId Element ID of the output display.\n",
              " * @return {!Iterable<!Object>} Iterable of next steps.\n",
              " */\n",
              "function* uploadFilesStep(inputId, outputId) {\n",
              "  const inputElement = document.getElementById(inputId);\n",
              "  inputElement.disabled = false;\n",
              "\n",
              "  const outputElement = document.getElementById(outputId);\n",
              "  outputElement.innerHTML = '';\n",
              "\n",
              "  const pickedPromise = new Promise((resolve) => {\n",
              "    inputElement.addEventListener('change', (e) => {\n",
              "      resolve(e.target.files);\n",
              "    });\n",
              "  });\n",
              "\n",
              "  const cancel = document.createElement('button');\n",
              "  inputElement.parentElement.appendChild(cancel);\n",
              "  cancel.textContent = 'Cancel upload';\n",
              "  const cancelPromise = new Promise((resolve) => {\n",
              "    cancel.onclick = () => {\n",
              "      resolve(null);\n",
              "    };\n",
              "  });\n",
              "\n",
              "  // Wait for the user to pick the files.\n",
              "  const files = yield {\n",
              "    promise: Promise.race([pickedPromise, cancelPromise]),\n",
              "    response: {\n",
              "      action: 'starting',\n",
              "    }\n",
              "  };\n",
              "\n",
              "  cancel.remove();\n",
              "\n",
              "  // Disable the input element since further picks are not allowed.\n",
              "  inputElement.disabled = true;\n",
              "\n",
              "  if (!files) {\n",
              "    return {\n",
              "      response: {\n",
              "        action: 'complete',\n",
              "      }\n",
              "    };\n",
              "  }\n",
              "\n",
              "  for (const file of files) {\n",
              "    const li = document.createElement('li');\n",
              "    li.append(span(file.name, {fontWeight: 'bold'}));\n",
              "    li.append(span(\n",
              "        `(${file.type || 'n/a'}) - ${file.size} bytes, ` +\n",
              "        `last modified: ${\n",
              "            file.lastModifiedDate ? file.lastModifiedDate.toLocaleDateString() :\n",
              "                                    'n/a'} - `));\n",
              "    const percent = span('0% done');\n",
              "    li.appendChild(percent);\n",
              "\n",
              "    outputElement.appendChild(li);\n",
              "\n",
              "    const fileDataPromise = new Promise((resolve) => {\n",
              "      const reader = new FileReader();\n",
              "      reader.onload = (e) => {\n",
              "        resolve(e.target.result);\n",
              "      };\n",
              "      reader.readAsArrayBuffer(file);\n",
              "    });\n",
              "    // Wait for the data to be ready.\n",
              "    let fileData = yield {\n",
              "      promise: fileDataPromise,\n",
              "      response: {\n",
              "        action: 'continue',\n",
              "      }\n",
              "    };\n",
              "\n",
              "    // Use a chunked sending to avoid message size limits. See b/62115660.\n",
              "    let position = 0;\n",
              "    do {\n",
              "      const length = Math.min(fileData.byteLength - position, MAX_PAYLOAD_SIZE);\n",
              "      const chunk = new Uint8Array(fileData, position, length);\n",
              "      position += length;\n",
              "\n",
              "      const base64 = btoa(String.fromCharCode.apply(null, chunk));\n",
              "      yield {\n",
              "        response: {\n",
              "          action: 'append',\n",
              "          file: file.name,\n",
              "          data: base64,\n",
              "        },\n",
              "      };\n",
              "\n",
              "      let percentDone = fileData.byteLength === 0 ?\n",
              "          100 :\n",
              "          Math.round((position / fileData.byteLength) * 100);\n",
              "      percent.textContent = `${percentDone}% done`;\n",
              "\n",
              "    } while (position < fileData.byteLength);\n",
              "  }\n",
              "\n",
              "  // All done.\n",
              "  yield {\n",
              "    response: {\n",
              "      action: 'complete',\n",
              "    }\n",
              "  };\n",
              "}\n",
              "\n",
              "scope.google = scope.google || {};\n",
              "scope.google.colab = scope.google.colab || {};\n",
              "scope.google.colab._files = {\n",
              "  _uploadFiles,\n",
              "  _uploadFilesContinue,\n",
              "};\n",
              "})(self);\n",
              "</script> "
            ]
          },
          "metadata": {}
        },
        {
          "output_type": "stream",
          "name": "stdout",
          "text": [
            "Saving 단어 사전.xlsx to 단어 사전.xlsx\n"
          ]
        }
      ]
    },
    {
      "cell_type": "code",
      "source": [
        "import pandas as pd\n",
        "data_df = pd.read_excel('/content/단어 사전.xlsx') \n",
        "data_df = data_df[['name']]\n",
        "data_df = data_df.dropna()\n",
        "data_df"
      ],
      "metadata": {
        "colab": {
          "base_uri": "https://localhost:8080/",
          "height": 424
        },
        "id": "fNYhOu4VEJaz",
        "outputId": "a4ad5e0d-0b6e-419a-ea69-86865293aa37"
      },
      "execution_count": null,
      "outputs": [
        {
          "output_type": "execute_result",
          "data": {
            "text/plain": [
              "      name\n",
              "0      아이폰\n",
              "1     아이패드\n",
              "2     애플워치\n",
              "3     홍미노트\n",
              "4      샤오미\n",
              "..     ...\n",
              "111     번인\n",
              "112     호갱\n",
              "113    망성비\n",
              "114  스냅드래곤\n",
              "115  메종키츠네\n",
              "\n",
              "[116 rows x 1 columns]"
            ],
            "text/html": [
              "\n",
              "  <div id=\"df-0a584d64-30f7-45a6-8dac-e3dc7bbca128\">\n",
              "    <div class=\"colab-df-container\">\n",
              "      <div>\n",
              "<style scoped>\n",
              "    .dataframe tbody tr th:only-of-type {\n",
              "        vertical-align: middle;\n",
              "    }\n",
              "\n",
              "    .dataframe tbody tr th {\n",
              "        vertical-align: top;\n",
              "    }\n",
              "\n",
              "    .dataframe thead th {\n",
              "        text-align: right;\n",
              "    }\n",
              "</style>\n",
              "<table border=\"1\" class=\"dataframe\">\n",
              "  <thead>\n",
              "    <tr style=\"text-align: right;\">\n",
              "      <th></th>\n",
              "      <th>name</th>\n",
              "    </tr>\n",
              "  </thead>\n",
              "  <tbody>\n",
              "    <tr>\n",
              "      <th>0</th>\n",
              "      <td>아이폰</td>\n",
              "    </tr>\n",
              "    <tr>\n",
              "      <th>1</th>\n",
              "      <td>아이패드</td>\n",
              "    </tr>\n",
              "    <tr>\n",
              "      <th>2</th>\n",
              "      <td>애플워치</td>\n",
              "    </tr>\n",
              "    <tr>\n",
              "      <th>3</th>\n",
              "      <td>홍미노트</td>\n",
              "    </tr>\n",
              "    <tr>\n",
              "      <th>4</th>\n",
              "      <td>샤오미</td>\n",
              "    </tr>\n",
              "    <tr>\n",
              "      <th>...</th>\n",
              "      <td>...</td>\n",
              "    </tr>\n",
              "    <tr>\n",
              "      <th>111</th>\n",
              "      <td>번인</td>\n",
              "    </tr>\n",
              "    <tr>\n",
              "      <th>112</th>\n",
              "      <td>호갱</td>\n",
              "    </tr>\n",
              "    <tr>\n",
              "      <th>113</th>\n",
              "      <td>망성비</td>\n",
              "    </tr>\n",
              "    <tr>\n",
              "      <th>114</th>\n",
              "      <td>스냅드래곤</td>\n",
              "    </tr>\n",
              "    <tr>\n",
              "      <th>115</th>\n",
              "      <td>메종키츠네</td>\n",
              "    </tr>\n",
              "  </tbody>\n",
              "</table>\n",
              "<p>116 rows × 1 columns</p>\n",
              "</div>\n",
              "      <button class=\"colab-df-convert\" onclick=\"convertToInteractive('df-0a584d64-30f7-45a6-8dac-e3dc7bbca128')\"\n",
              "              title=\"Convert this dataframe to an interactive table.\"\n",
              "              style=\"display:none;\">\n",
              "        \n",
              "  <svg xmlns=\"http://www.w3.org/2000/svg\" height=\"24px\"viewBox=\"0 0 24 24\"\n",
              "       width=\"24px\">\n",
              "    <path d=\"M0 0h24v24H0V0z\" fill=\"none\"/>\n",
              "    <path d=\"M18.56 5.44l.94 2.06.94-2.06 2.06-.94-2.06-.94-.94-2.06-.94 2.06-2.06.94zm-11 1L8.5 8.5l.94-2.06 2.06-.94-2.06-.94L8.5 2.5l-.94 2.06-2.06.94zm10 10l.94 2.06.94-2.06 2.06-.94-2.06-.94-.94-2.06-.94 2.06-2.06.94z\"/><path d=\"M17.41 7.96l-1.37-1.37c-.4-.4-.92-.59-1.43-.59-.52 0-1.04.2-1.43.59L10.3 9.45l-7.72 7.72c-.78.78-.78 2.05 0 2.83L4 21.41c.39.39.9.59 1.41.59.51 0 1.02-.2 1.41-.59l7.78-7.78 2.81-2.81c.8-.78.8-2.07 0-2.86zM5.41 20L4 18.59l7.72-7.72 1.47 1.35L5.41 20z\"/>\n",
              "  </svg>\n",
              "      </button>\n",
              "      \n",
              "  <style>\n",
              "    .colab-df-container {\n",
              "      display:flex;\n",
              "      flex-wrap:wrap;\n",
              "      gap: 12px;\n",
              "    }\n",
              "\n",
              "    .colab-df-convert {\n",
              "      background-color: #E8F0FE;\n",
              "      border: none;\n",
              "      border-radius: 50%;\n",
              "      cursor: pointer;\n",
              "      display: none;\n",
              "      fill: #1967D2;\n",
              "      height: 32px;\n",
              "      padding: 0 0 0 0;\n",
              "      width: 32px;\n",
              "    }\n",
              "\n",
              "    .colab-df-convert:hover {\n",
              "      background-color: #E2EBFA;\n",
              "      box-shadow: 0px 1px 2px rgba(60, 64, 67, 0.3), 0px 1px 3px 1px rgba(60, 64, 67, 0.15);\n",
              "      fill: #174EA6;\n",
              "    }\n",
              "\n",
              "    [theme=dark] .colab-df-convert {\n",
              "      background-color: #3B4455;\n",
              "      fill: #D2E3FC;\n",
              "    }\n",
              "\n",
              "    [theme=dark] .colab-df-convert:hover {\n",
              "      background-color: #434B5C;\n",
              "      box-shadow: 0px 1px 3px 1px rgba(0, 0, 0, 0.15);\n",
              "      filter: drop-shadow(0px 1px 2px rgba(0, 0, 0, 0.3));\n",
              "      fill: #FFFFFF;\n",
              "    }\n",
              "  </style>\n",
              "\n",
              "      <script>\n",
              "        const buttonEl =\n",
              "          document.querySelector('#df-0a584d64-30f7-45a6-8dac-e3dc7bbca128 button.colab-df-convert');\n",
              "        buttonEl.style.display =\n",
              "          google.colab.kernel.accessAllowed ? 'block' : 'none';\n",
              "\n",
              "        async function convertToInteractive(key) {\n",
              "          const element = document.querySelector('#df-0a584d64-30f7-45a6-8dac-e3dc7bbca128');\n",
              "          const dataTable =\n",
              "            await google.colab.kernel.invokeFunction('convertToInteractive',\n",
              "                                                     [key], {});\n",
              "          if (!dataTable) return;\n",
              "\n",
              "          const docLinkHtml = 'Like what you see? Visit the ' +\n",
              "            '<a target=\"_blank\" href=https://colab.research.google.com/notebooks/data_table.ipynb>data table notebook</a>'\n",
              "            + ' to learn more about interactive tables.';\n",
              "          element.innerHTML = '';\n",
              "          dataTable['output_type'] = 'display_data';\n",
              "          await google.colab.output.renderOutput(dataTable, element);\n",
              "          const docLink = document.createElement('div');\n",
              "          docLink.innerHTML = docLinkHtml;\n",
              "          element.appendChild(docLink);\n",
              "        }\n",
              "      </script>\n",
              "    </div>\n",
              "  </div>\n",
              "  "
            ]
          },
          "metadata": {},
          "execution_count": 4
        }
      ]
    },
    {
      "cell_type": "code",
      "source": [
        "from ckonlpy.tag import Twitter\n",
        "twitter = Twitter()\n",
        "for i in range(len(data_df['name'])):\n",
        "  twitter.add_dictionary(data_df['name'][i], 'Noun')"
      ],
      "metadata": {
        "colab": {
          "base_uri": "https://localhost:8080/"
        },
        "id": "AZ5EUQxUE5sE",
        "outputId": "f7abb316-23a3-4763-f5be-2b6a8f9c1cd5"
      },
      "execution_count": null,
      "outputs": [
        {
          "output_type": "stream",
          "name": "stderr",
          "text": [
            "/usr/local/lib/python3.7/dist-packages/konlpy/tag/_okt.py:17: UserWarning: \"Twitter\" has changed to \"Okt\" since KoNLPy v0.4.5.\n",
            "  warn('\"Twitter\" has changed to \"Okt\" since KoNLPy v0.4.5.')\n"
          ]
        }
      ]
    },
    {
      "cell_type": "code",
      "source": [
        "Twitter().add_dictionary(['는데','은데','한데','긴한데','음','슴','셈','때메','땜에','니까'], 'Josa')"
      ],
      "metadata": {
        "id": "Fu1QfRohH70-"
      },
      "execution_count": null,
      "outputs": []
    },
    {
      "cell_type": "code",
      "source": [
        "twitter.pos('메종키츠네')"
      ],
      "metadata": {
        "colab": {
          "base_uri": "https://localhost:8080/"
        },
        "id": "nie556sN4-Pr",
        "outputId": "d95121c8-419c-4a6f-cb73-49fb044ec678"
      },
      "execution_count": null,
      "outputs": [
        {
          "output_type": "execute_result",
          "data": {
            "text/plain": [
              "[('메종키츠네', 'Noun')]"
            ]
          },
          "metadata": {},
          "execution_count": 7
        }
      ]
    },
    {
      "cell_type": "markdown",
      "source": [
        "데이터 불러오기"
      ],
      "metadata": {
        "id": "lsPcjBOi2S2N"
      }
    },
    {
      "cell_type": "code",
      "source": [
        "from google.colab import files\n",
        "myfile = files.upload()"
      ],
      "metadata": {
        "colab": {
          "base_uri": "https://localhost:8080/",
          "height": 76
        },
        "id": "plyRpvTMIWl1",
        "outputId": "99f6c594-ebdc-4992-e61e-8771b0718a54"
      },
      "execution_count": null,
      "outputs": [
        {
          "output_type": "display_data",
          "data": {
            "text/plain": [
              "<IPython.core.display.HTML object>"
            ],
            "text/html": [
              "\n",
              "     <input type=\"file\" id=\"files-37bb5b66-448b-4f67-b587-265f99cdfed3\" name=\"files[]\" multiple disabled\n",
              "        style=\"border:none\" />\n",
              "     <output id=\"result-37bb5b66-448b-4f67-b587-265f99cdfed3\">\n",
              "      Upload widget is only available when the cell has been executed in the\n",
              "      current browser session. Please rerun this cell to enable.\n",
              "      </output>\n",
              "      <script>// Copyright 2017 Google LLC\n",
              "//\n",
              "// Licensed under the Apache License, Version 2.0 (the \"License\");\n",
              "// you may not use this file except in compliance with the License.\n",
              "// You may obtain a copy of the License at\n",
              "//\n",
              "//      http://www.apache.org/licenses/LICENSE-2.0\n",
              "//\n",
              "// Unless required by applicable law or agreed to in writing, software\n",
              "// distributed under the License is distributed on an \"AS IS\" BASIS,\n",
              "// WITHOUT WARRANTIES OR CONDITIONS OF ANY KIND, either express or implied.\n",
              "// See the License for the specific language governing permissions and\n",
              "// limitations under the License.\n",
              "\n",
              "/**\n",
              " * @fileoverview Helpers for google.colab Python module.\n",
              " */\n",
              "(function(scope) {\n",
              "function span(text, styleAttributes = {}) {\n",
              "  const element = document.createElement('span');\n",
              "  element.textContent = text;\n",
              "  for (const key of Object.keys(styleAttributes)) {\n",
              "    element.style[key] = styleAttributes[key];\n",
              "  }\n",
              "  return element;\n",
              "}\n",
              "\n",
              "// Max number of bytes which will be uploaded at a time.\n",
              "const MAX_PAYLOAD_SIZE = 100 * 1024;\n",
              "\n",
              "function _uploadFiles(inputId, outputId) {\n",
              "  const steps = uploadFilesStep(inputId, outputId);\n",
              "  const outputElement = document.getElementById(outputId);\n",
              "  // Cache steps on the outputElement to make it available for the next call\n",
              "  // to uploadFilesContinue from Python.\n",
              "  outputElement.steps = steps;\n",
              "\n",
              "  return _uploadFilesContinue(outputId);\n",
              "}\n",
              "\n",
              "// This is roughly an async generator (not supported in the browser yet),\n",
              "// where there are multiple asynchronous steps and the Python side is going\n",
              "// to poll for completion of each step.\n",
              "// This uses a Promise to block the python side on completion of each step,\n",
              "// then passes the result of the previous step as the input to the next step.\n",
              "function _uploadFilesContinue(outputId) {\n",
              "  const outputElement = document.getElementById(outputId);\n",
              "  const steps = outputElement.steps;\n",
              "\n",
              "  const next = steps.next(outputElement.lastPromiseValue);\n",
              "  return Promise.resolve(next.value.promise).then((value) => {\n",
              "    // Cache the last promise value to make it available to the next\n",
              "    // step of the generator.\n",
              "    outputElement.lastPromiseValue = value;\n",
              "    return next.value.response;\n",
              "  });\n",
              "}\n",
              "\n",
              "/**\n",
              " * Generator function which is called between each async step of the upload\n",
              " * process.\n",
              " * @param {string} inputId Element ID of the input file picker element.\n",
              " * @param {string} outputId Element ID of the output display.\n",
              " * @return {!Iterable<!Object>} Iterable of next steps.\n",
              " */\n",
              "function* uploadFilesStep(inputId, outputId) {\n",
              "  const inputElement = document.getElementById(inputId);\n",
              "  inputElement.disabled = false;\n",
              "\n",
              "  const outputElement = document.getElementById(outputId);\n",
              "  outputElement.innerHTML = '';\n",
              "\n",
              "  const pickedPromise = new Promise((resolve) => {\n",
              "    inputElement.addEventListener('change', (e) => {\n",
              "      resolve(e.target.files);\n",
              "    });\n",
              "  });\n",
              "\n",
              "  const cancel = document.createElement('button');\n",
              "  inputElement.parentElement.appendChild(cancel);\n",
              "  cancel.textContent = 'Cancel upload';\n",
              "  const cancelPromise = new Promise((resolve) => {\n",
              "    cancel.onclick = () => {\n",
              "      resolve(null);\n",
              "    };\n",
              "  });\n",
              "\n",
              "  // Wait for the user to pick the files.\n",
              "  const files = yield {\n",
              "    promise: Promise.race([pickedPromise, cancelPromise]),\n",
              "    response: {\n",
              "      action: 'starting',\n",
              "    }\n",
              "  };\n",
              "\n",
              "  cancel.remove();\n",
              "\n",
              "  // Disable the input element since further picks are not allowed.\n",
              "  inputElement.disabled = true;\n",
              "\n",
              "  if (!files) {\n",
              "    return {\n",
              "      response: {\n",
              "        action: 'complete',\n",
              "      }\n",
              "    };\n",
              "  }\n",
              "\n",
              "  for (const file of files) {\n",
              "    const li = document.createElement('li');\n",
              "    li.append(span(file.name, {fontWeight: 'bold'}));\n",
              "    li.append(span(\n",
              "        `(${file.type || 'n/a'}) - ${file.size} bytes, ` +\n",
              "        `last modified: ${\n",
              "            file.lastModifiedDate ? file.lastModifiedDate.toLocaleDateString() :\n",
              "                                    'n/a'} - `));\n",
              "    const percent = span('0% done');\n",
              "    li.appendChild(percent);\n",
              "\n",
              "    outputElement.appendChild(li);\n",
              "\n",
              "    const fileDataPromise = new Promise((resolve) => {\n",
              "      const reader = new FileReader();\n",
              "      reader.onload = (e) => {\n",
              "        resolve(e.target.result);\n",
              "      };\n",
              "      reader.readAsArrayBuffer(file);\n",
              "    });\n",
              "    // Wait for the data to be ready.\n",
              "    let fileData = yield {\n",
              "      promise: fileDataPromise,\n",
              "      response: {\n",
              "        action: 'continue',\n",
              "      }\n",
              "    };\n",
              "\n",
              "    // Use a chunked sending to avoid message size limits. See b/62115660.\n",
              "    let position = 0;\n",
              "    do {\n",
              "      const length = Math.min(fileData.byteLength - position, MAX_PAYLOAD_SIZE);\n",
              "      const chunk = new Uint8Array(fileData, position, length);\n",
              "      position += length;\n",
              "\n",
              "      const base64 = btoa(String.fromCharCode.apply(null, chunk));\n",
              "      yield {\n",
              "        response: {\n",
              "          action: 'append',\n",
              "          file: file.name,\n",
              "          data: base64,\n",
              "        },\n",
              "      };\n",
              "\n",
              "      let percentDone = fileData.byteLength === 0 ?\n",
              "          100 :\n",
              "          Math.round((position / fileData.byteLength) * 100);\n",
              "      percent.textContent = `${percentDone}% done`;\n",
              "\n",
              "    } while (position < fileData.byteLength);\n",
              "  }\n",
              "\n",
              "  // All done.\n",
              "  yield {\n",
              "    response: {\n",
              "      action: 'complete',\n",
              "    }\n",
              "  };\n",
              "}\n",
              "\n",
              "scope.google = scope.google || {};\n",
              "scope.google.colab = scope.google.colab || {};\n",
              "scope.google.colab._files = {\n",
              "  _uploadFiles,\n",
              "  _uploadFilesContinue,\n",
              "};\n",
              "})(self);\n",
              "</script> "
            ]
          },
          "metadata": {}
        },
        {
          "output_type": "stream",
          "name": "stdout",
          "text": [
            "Saving 리뷰_데이터_최종.xlsx to 리뷰_데이터_최종.xlsx\n"
          ]
        }
      ]
    },
    {
      "cell_type": "code",
      "source": [
        "import pandas as pd\n",
        "data_df = pd.read_excel('/content/리뷰_데이터_최종.xlsx') \n",
        "data_df = data_df[['label','comment']]\n",
        "data_df = data_df.dropna()\n",
        "data_df"
      ],
      "metadata": {
        "colab": {
          "base_uri": "https://localhost:8080/",
          "height": 424
        },
        "id": "ti-FaC6HJ3rU",
        "outputId": "e4fb867c-aa67-43c6-9425-240068d35d9f"
      },
      "execution_count": null,
      "outputs": [
        {
          "output_type": "execute_result",
          "data": {
            "text/plain": [
              "       label                                            comment\n",
              "0          0  메종키츠네 테마 폴드3에서는 적용 불가네요;;; 제일 비싼 라인업에서 사용 불가라니...\n",
              "1          1                                          진짜 너무 이쁘다\n",
              "2          1                                           아 너무 예쁘당\n",
              "3          1  솔직히 이거는 돈 하나도 안아까울듯  브랜드 이미지만 있어도 충분히 감성적일텐데, ...\n",
              "4          1       진짜 너무 예쁘네요ㅠㅠ 워치랑 버즈도 이쁜데 폰 테마 진짜 대박. 너무 이뻐요.\n",
              "...      ...                                                ...\n",
              "34167      0                              휴대폰이 휴대성이 떨어짐. 무겁고 크고\n",
              "34168      0                                             개비싸다 끝\n",
              "34169      2        스펙만 보면 사고싶지만 디자인과 특히 색깔....이 구려요.. 그레이 대체;;\n",
              "34170      0  매력이 없음. s10 때는 펀치홀에 온스크린 지문인식이 센세이션이엇는데 s20은 카...\n",
              "34171      0  에휴 소프트 업데이트나 해라좀 제발 어? 그것만 해줘 더도멀고 덜도말고 소프프트웨어...\n",
              "\n",
              "[34172 rows x 2 columns]"
            ],
            "text/html": [
              "\n",
              "  <div id=\"df-7dbb21c6-cdc7-45ea-9294-498dd33493ec\">\n",
              "    <div class=\"colab-df-container\">\n",
              "      <div>\n",
              "<style scoped>\n",
              "    .dataframe tbody tr th:only-of-type {\n",
              "        vertical-align: middle;\n",
              "    }\n",
              "\n",
              "    .dataframe tbody tr th {\n",
              "        vertical-align: top;\n",
              "    }\n",
              "\n",
              "    .dataframe thead th {\n",
              "        text-align: right;\n",
              "    }\n",
              "</style>\n",
              "<table border=\"1\" class=\"dataframe\">\n",
              "  <thead>\n",
              "    <tr style=\"text-align: right;\">\n",
              "      <th></th>\n",
              "      <th>label</th>\n",
              "      <th>comment</th>\n",
              "    </tr>\n",
              "  </thead>\n",
              "  <tbody>\n",
              "    <tr>\n",
              "      <th>0</th>\n",
              "      <td>0</td>\n",
              "      <td>메종키츠네 테마 폴드3에서는 적용 불가네요;;; 제일 비싼 라인업에서 사용 불가라니...</td>\n",
              "    </tr>\n",
              "    <tr>\n",
              "      <th>1</th>\n",
              "      <td>1</td>\n",
              "      <td>진짜 너무 이쁘다</td>\n",
              "    </tr>\n",
              "    <tr>\n",
              "      <th>2</th>\n",
              "      <td>1</td>\n",
              "      <td>아 너무 예쁘당</td>\n",
              "    </tr>\n",
              "    <tr>\n",
              "      <th>3</th>\n",
              "      <td>1</td>\n",
              "      <td>솔직히 이거는 돈 하나도 안아까울듯  브랜드 이미지만 있어도 충분히 감성적일텐데, ...</td>\n",
              "    </tr>\n",
              "    <tr>\n",
              "      <th>4</th>\n",
              "      <td>1</td>\n",
              "      <td>진짜 너무 예쁘네요ㅠㅠ 워치랑 버즈도 이쁜데 폰 테마 진짜 대박. 너무 이뻐요.</td>\n",
              "    </tr>\n",
              "    <tr>\n",
              "      <th>...</th>\n",
              "      <td>...</td>\n",
              "      <td>...</td>\n",
              "    </tr>\n",
              "    <tr>\n",
              "      <th>34167</th>\n",
              "      <td>0</td>\n",
              "      <td>휴대폰이 휴대성이 떨어짐. 무겁고 크고</td>\n",
              "    </tr>\n",
              "    <tr>\n",
              "      <th>34168</th>\n",
              "      <td>0</td>\n",
              "      <td>개비싸다 끝</td>\n",
              "    </tr>\n",
              "    <tr>\n",
              "      <th>34169</th>\n",
              "      <td>2</td>\n",
              "      <td>스펙만 보면 사고싶지만 디자인과 특히 색깔....이 구려요.. 그레이 대체;;</td>\n",
              "    </tr>\n",
              "    <tr>\n",
              "      <th>34170</th>\n",
              "      <td>0</td>\n",
              "      <td>매력이 없음. s10 때는 펀치홀에 온스크린 지문인식이 센세이션이엇는데 s20은 카...</td>\n",
              "    </tr>\n",
              "    <tr>\n",
              "      <th>34171</th>\n",
              "      <td>0</td>\n",
              "      <td>에휴 소프트 업데이트나 해라좀 제발 어? 그것만 해줘 더도멀고 덜도말고 소프프트웨어...</td>\n",
              "    </tr>\n",
              "  </tbody>\n",
              "</table>\n",
              "<p>34172 rows × 2 columns</p>\n",
              "</div>\n",
              "      <button class=\"colab-df-convert\" onclick=\"convertToInteractive('df-7dbb21c6-cdc7-45ea-9294-498dd33493ec')\"\n",
              "              title=\"Convert this dataframe to an interactive table.\"\n",
              "              style=\"display:none;\">\n",
              "        \n",
              "  <svg xmlns=\"http://www.w3.org/2000/svg\" height=\"24px\"viewBox=\"0 0 24 24\"\n",
              "       width=\"24px\">\n",
              "    <path d=\"M0 0h24v24H0V0z\" fill=\"none\"/>\n",
              "    <path d=\"M18.56 5.44l.94 2.06.94-2.06 2.06-.94-2.06-.94-.94-2.06-.94 2.06-2.06.94zm-11 1L8.5 8.5l.94-2.06 2.06-.94-2.06-.94L8.5 2.5l-.94 2.06-2.06.94zm10 10l.94 2.06.94-2.06 2.06-.94-2.06-.94-.94-2.06-.94 2.06-2.06.94z\"/><path d=\"M17.41 7.96l-1.37-1.37c-.4-.4-.92-.59-1.43-.59-.52 0-1.04.2-1.43.59L10.3 9.45l-7.72 7.72c-.78.78-.78 2.05 0 2.83L4 21.41c.39.39.9.59 1.41.59.51 0 1.02-.2 1.41-.59l7.78-7.78 2.81-2.81c.8-.78.8-2.07 0-2.86zM5.41 20L4 18.59l7.72-7.72 1.47 1.35L5.41 20z\"/>\n",
              "  </svg>\n",
              "      </button>\n",
              "      \n",
              "  <style>\n",
              "    .colab-df-container {\n",
              "      display:flex;\n",
              "      flex-wrap:wrap;\n",
              "      gap: 12px;\n",
              "    }\n",
              "\n",
              "    .colab-df-convert {\n",
              "      background-color: #E8F0FE;\n",
              "      border: none;\n",
              "      border-radius: 50%;\n",
              "      cursor: pointer;\n",
              "      display: none;\n",
              "      fill: #1967D2;\n",
              "      height: 32px;\n",
              "      padding: 0 0 0 0;\n",
              "      width: 32px;\n",
              "    }\n",
              "\n",
              "    .colab-df-convert:hover {\n",
              "      background-color: #E2EBFA;\n",
              "      box-shadow: 0px 1px 2px rgba(60, 64, 67, 0.3), 0px 1px 3px 1px rgba(60, 64, 67, 0.15);\n",
              "      fill: #174EA6;\n",
              "    }\n",
              "\n",
              "    [theme=dark] .colab-df-convert {\n",
              "      background-color: #3B4455;\n",
              "      fill: #D2E3FC;\n",
              "    }\n",
              "\n",
              "    [theme=dark] .colab-df-convert:hover {\n",
              "      background-color: #434B5C;\n",
              "      box-shadow: 0px 1px 3px 1px rgba(0, 0, 0, 0.15);\n",
              "      filter: drop-shadow(0px 1px 2px rgba(0, 0, 0, 0.3));\n",
              "      fill: #FFFFFF;\n",
              "    }\n",
              "  </style>\n",
              "\n",
              "      <script>\n",
              "        const buttonEl =\n",
              "          document.querySelector('#df-7dbb21c6-cdc7-45ea-9294-498dd33493ec button.colab-df-convert');\n",
              "        buttonEl.style.display =\n",
              "          google.colab.kernel.accessAllowed ? 'block' : 'none';\n",
              "\n",
              "        async function convertToInteractive(key) {\n",
              "          const element = document.querySelector('#df-7dbb21c6-cdc7-45ea-9294-498dd33493ec');\n",
              "          const dataTable =\n",
              "            await google.colab.kernel.invokeFunction('convertToInteractive',\n",
              "                                                     [key], {});\n",
              "          if (!dataTable) return;\n",
              "\n",
              "          const docLinkHtml = 'Like what you see? Visit the ' +\n",
              "            '<a target=\"_blank\" href=https://colab.research.google.com/notebooks/data_table.ipynb>data table notebook</a>'\n",
              "            + ' to learn more about interactive tables.';\n",
              "          element.innerHTML = '';\n",
              "          dataTable['output_type'] = 'display_data';\n",
              "          await google.colab.output.renderOutput(dataTable, element);\n",
              "          const docLink = document.createElement('div');\n",
              "          docLink.innerHTML = docLinkHtml;\n",
              "          element.appendChild(docLink);\n",
              "        }\n",
              "      </script>\n",
              "    </div>\n",
              "  </div>\n",
              "  "
            ]
          },
          "metadata": {},
          "execution_count": 9
        }
      ]
    },
    {
      "cell_type": "code",
      "source": [
        "data_df = data_df.drop_duplicates(['comment'])\n",
        "data_df.info()"
      ],
      "metadata": {
        "colab": {
          "base_uri": "https://localhost:8080/"
        },
        "id": "obimpiTAJ6dG",
        "outputId": "34fee584-6cf4-4800-c2c2-ce01039ae10a"
      },
      "execution_count": null,
      "outputs": [
        {
          "output_type": "stream",
          "name": "stdout",
          "text": [
            "<class 'pandas.core.frame.DataFrame'>\n",
            "Int64Index: 34172 entries, 0 to 34171\n",
            "Data columns (total 2 columns):\n",
            " #   Column   Non-Null Count  Dtype \n",
            "---  ------   --------------  ----- \n",
            " 0   label    34172 non-null  int64 \n",
            " 1   comment  34172 non-null  object\n",
            "dtypes: int64(1), object(1)\n",
            "memory usage: 800.9+ KB\n"
          ]
        }
      ]
    },
    {
      "cell_type": "code",
      "source": [
        "from google.colab import files\n",
        "myfile = files.upload()"
      ],
      "metadata": {
        "colab": {
          "base_uri": "https://localhost:8080/",
          "height": 76
        },
        "id": "IaV6TfJdJ77W",
        "outputId": "1b05b6bd-c08b-41cb-bc9f-f572ed0f3f34"
      },
      "execution_count": null,
      "outputs": [
        {
          "output_type": "display_data",
          "data": {
            "text/plain": [
              "<IPython.core.display.HTML object>"
            ],
            "text/html": [
              "\n",
              "     <input type=\"file\" id=\"files-751e5e42-c8f4-4274-afcb-8641af6bc9d2\" name=\"files[]\" multiple disabled\n",
              "        style=\"border:none\" />\n",
              "     <output id=\"result-751e5e42-c8f4-4274-afcb-8641af6bc9d2\">\n",
              "      Upload widget is only available when the cell has been executed in the\n",
              "      current browser session. Please rerun this cell to enable.\n",
              "      </output>\n",
              "      <script>// Copyright 2017 Google LLC\n",
              "//\n",
              "// Licensed under the Apache License, Version 2.0 (the \"License\");\n",
              "// you may not use this file except in compliance with the License.\n",
              "// You may obtain a copy of the License at\n",
              "//\n",
              "//      http://www.apache.org/licenses/LICENSE-2.0\n",
              "//\n",
              "// Unless required by applicable law or agreed to in writing, software\n",
              "// distributed under the License is distributed on an \"AS IS\" BASIS,\n",
              "// WITHOUT WARRANTIES OR CONDITIONS OF ANY KIND, either express or implied.\n",
              "// See the License for the specific language governing permissions and\n",
              "// limitations under the License.\n",
              "\n",
              "/**\n",
              " * @fileoverview Helpers for google.colab Python module.\n",
              " */\n",
              "(function(scope) {\n",
              "function span(text, styleAttributes = {}) {\n",
              "  const element = document.createElement('span');\n",
              "  element.textContent = text;\n",
              "  for (const key of Object.keys(styleAttributes)) {\n",
              "    element.style[key] = styleAttributes[key];\n",
              "  }\n",
              "  return element;\n",
              "}\n",
              "\n",
              "// Max number of bytes which will be uploaded at a time.\n",
              "const MAX_PAYLOAD_SIZE = 100 * 1024;\n",
              "\n",
              "function _uploadFiles(inputId, outputId) {\n",
              "  const steps = uploadFilesStep(inputId, outputId);\n",
              "  const outputElement = document.getElementById(outputId);\n",
              "  // Cache steps on the outputElement to make it available for the next call\n",
              "  // to uploadFilesContinue from Python.\n",
              "  outputElement.steps = steps;\n",
              "\n",
              "  return _uploadFilesContinue(outputId);\n",
              "}\n",
              "\n",
              "// This is roughly an async generator (not supported in the browser yet),\n",
              "// where there are multiple asynchronous steps and the Python side is going\n",
              "// to poll for completion of each step.\n",
              "// This uses a Promise to block the python side on completion of each step,\n",
              "// then passes the result of the previous step as the input to the next step.\n",
              "function _uploadFilesContinue(outputId) {\n",
              "  const outputElement = document.getElementById(outputId);\n",
              "  const steps = outputElement.steps;\n",
              "\n",
              "  const next = steps.next(outputElement.lastPromiseValue);\n",
              "  return Promise.resolve(next.value.promise).then((value) => {\n",
              "    // Cache the last promise value to make it available to the next\n",
              "    // step of the generator.\n",
              "    outputElement.lastPromiseValue = value;\n",
              "    return next.value.response;\n",
              "  });\n",
              "}\n",
              "\n",
              "/**\n",
              " * Generator function which is called between each async step of the upload\n",
              " * process.\n",
              " * @param {string} inputId Element ID of the input file picker element.\n",
              " * @param {string} outputId Element ID of the output display.\n",
              " * @return {!Iterable<!Object>} Iterable of next steps.\n",
              " */\n",
              "function* uploadFilesStep(inputId, outputId) {\n",
              "  const inputElement = document.getElementById(inputId);\n",
              "  inputElement.disabled = false;\n",
              "\n",
              "  const outputElement = document.getElementById(outputId);\n",
              "  outputElement.innerHTML = '';\n",
              "\n",
              "  const pickedPromise = new Promise((resolve) => {\n",
              "    inputElement.addEventListener('change', (e) => {\n",
              "      resolve(e.target.files);\n",
              "    });\n",
              "  });\n",
              "\n",
              "  const cancel = document.createElement('button');\n",
              "  inputElement.parentElement.appendChild(cancel);\n",
              "  cancel.textContent = 'Cancel upload';\n",
              "  const cancelPromise = new Promise((resolve) => {\n",
              "    cancel.onclick = () => {\n",
              "      resolve(null);\n",
              "    };\n",
              "  });\n",
              "\n",
              "  // Wait for the user to pick the files.\n",
              "  const files = yield {\n",
              "    promise: Promise.race([pickedPromise, cancelPromise]),\n",
              "    response: {\n",
              "      action: 'starting',\n",
              "    }\n",
              "  };\n",
              "\n",
              "  cancel.remove();\n",
              "\n",
              "  // Disable the input element since further picks are not allowed.\n",
              "  inputElement.disabled = true;\n",
              "\n",
              "  if (!files) {\n",
              "    return {\n",
              "      response: {\n",
              "        action: 'complete',\n",
              "      }\n",
              "    };\n",
              "  }\n",
              "\n",
              "  for (const file of files) {\n",
              "    const li = document.createElement('li');\n",
              "    li.append(span(file.name, {fontWeight: 'bold'}));\n",
              "    li.append(span(\n",
              "        `(${file.type || 'n/a'}) - ${file.size} bytes, ` +\n",
              "        `last modified: ${\n",
              "            file.lastModifiedDate ? file.lastModifiedDate.toLocaleDateString() :\n",
              "                                    'n/a'} - `));\n",
              "    const percent = span('0% done');\n",
              "    li.appendChild(percent);\n",
              "\n",
              "    outputElement.appendChild(li);\n",
              "\n",
              "    const fileDataPromise = new Promise((resolve) => {\n",
              "      const reader = new FileReader();\n",
              "      reader.onload = (e) => {\n",
              "        resolve(e.target.result);\n",
              "      };\n",
              "      reader.readAsArrayBuffer(file);\n",
              "    });\n",
              "    // Wait for the data to be ready.\n",
              "    let fileData = yield {\n",
              "      promise: fileDataPromise,\n",
              "      response: {\n",
              "        action: 'continue',\n",
              "      }\n",
              "    };\n",
              "\n",
              "    // Use a chunked sending to avoid message size limits. See b/62115660.\n",
              "    let position = 0;\n",
              "    do {\n",
              "      const length = Math.min(fileData.byteLength - position, MAX_PAYLOAD_SIZE);\n",
              "      const chunk = new Uint8Array(fileData, position, length);\n",
              "      position += length;\n",
              "\n",
              "      const base64 = btoa(String.fromCharCode.apply(null, chunk));\n",
              "      yield {\n",
              "        response: {\n",
              "          action: 'append',\n",
              "          file: file.name,\n",
              "          data: base64,\n",
              "        },\n",
              "      };\n",
              "\n",
              "      let percentDone = fileData.byteLength === 0 ?\n",
              "          100 :\n",
              "          Math.round((position / fileData.byteLength) * 100);\n",
              "      percent.textContent = `${percentDone}% done`;\n",
              "\n",
              "    } while (position < fileData.byteLength);\n",
              "  }\n",
              "\n",
              "  // All done.\n",
              "  yield {\n",
              "    response: {\n",
              "      action: 'complete',\n",
              "    }\n",
              "  };\n",
              "}\n",
              "\n",
              "scope.google = scope.google || {};\n",
              "scope.google.colab = scope.google.colab || {};\n",
              "scope.google.colab._files = {\n",
              "  _uploadFiles,\n",
              "  _uploadFilesContinue,\n",
              "};\n",
              "})(self);\n",
              "</script> "
            ]
          },
          "metadata": {}
        },
        {
          "output_type": "stream",
          "name": "stdout",
          "text": [
            "Saving korean_stopword.csv to korean_stopword.csv\n"
          ]
        }
      ]
    },
    {
      "cell_type": "code",
      "source": [
        "k_stopword = pd.read_csv('/content/korean_stopword.csv')\n",
        "# list(): \n",
        "stopword = list(k_stopword['불용어'])+['을','은','를','이가','과','의',\n",
        "                                    '는','에','의','가','이','은','들',\n",
        "                                    '는','좀','잘','걍','과','도','를',\n",
        "                                    '을','으로','자', '에','와','한',\n",
        "                                    '하다','있다','되다','에서']\n",
        "stopword[:5]"
      ],
      "metadata": {
        "colab": {
          "base_uri": "https://localhost:8080/"
        },
        "id": "T9OxpZqSKRA7",
        "outputId": "feb6bf4e-23d5-49db-f5f3-842d576f5887"
      },
      "execution_count": null,
      "outputs": [
        {
          "output_type": "execute_result",
          "data": {
            "text/plain": [
              "['이', '있', '하', '것', '들']"
            ]
          },
          "metadata": {},
          "execution_count": 12
        }
      ]
    },
    {
      "cell_type": "code",
      "source": [
        "data_df['comment'] = data_df['comment'].str.replace(\"[^a-zA-Zㄱ-ㅣ가-힣0-9 ]\",\"\")"
      ],
      "metadata": {
        "colab": {
          "base_uri": "https://localhost:8080/"
        },
        "id": "0JzzRuLSKRPR",
        "outputId": "90ba24ad-be8c-4a7d-fa51-02a0de9a9312"
      },
      "execution_count": null,
      "outputs": [
        {
          "output_type": "stream",
          "name": "stderr",
          "text": [
            "/usr/local/lib/python3.7/dist-packages/ipykernel_launcher.py:1: FutureWarning: The default value of regex will change from True to False in a future version.\n",
            "  \"\"\"Entry point for launching an IPython kernel.\n"
          ]
        }
      ]
    },
    {
      "cell_type": "code",
      "source": [
        "from konlpy.tag import Okt\n",
        "twitter = Twitter()\n",
        "\n",
        "morphs_lst = []\n",
        "for i in data_df.index:\n",
        "    #morphs = []\n",
        "    morphs = \"\"\n",
        "    morph = twitter.morphs(data_df.loc[i]['comment'], stem=True)\n",
        "    for txt in morph:\n",
        "      if txt not in stopword:\n",
        "        #morphs.append(txt)\n",
        "        morphs = morphs + \" \" + txt\n",
        "    morphs_lst.append(morphs)\n",
        "data_df['morphs'] = morphs_lst\n",
        "data_df.head()"
      ],
      "metadata": {
        "colab": {
          "base_uri": "https://localhost:8080/",
          "height": 243
        },
        "id": "tisUvlxyKSaK",
        "outputId": "20e52808-ff2b-45f1-b280-8b58f539c896"
      },
      "execution_count": null,
      "outputs": [
        {
          "output_type": "stream",
          "name": "stderr",
          "text": [
            "/usr/local/lib/python3.7/dist-packages/konlpy/tag/_okt.py:17: UserWarning: \"Twitter\" has changed to \"Okt\" since KoNLPy v0.4.5.\n",
            "  warn('\"Twitter\" has changed to \"Okt\" since KoNLPy v0.4.5.')\n"
          ]
        },
        {
          "output_type": "execute_result",
          "data": {
            "text/plain": [
              "   label                                            comment  \\\n",
              "0      0  메종키츠네 테마 폴드3에서는 적용 불가네요 제일 비싼 라인업에서 사용 불가라니 당황스럽네   \n",
              "1      1                                          진짜 너무 이쁘다   \n",
              "2      1                                           아 너무 예쁘당   \n",
              "3      1  솔직히 이거는 돈 하나도 안아까울듯  브랜드 이미지만 있어도 충분히 감성적일텐데 디...   \n",
              "4      1         진짜 너무 예쁘네요ㅠㅠ 워치랑 버즈도 이쁜데 폰 테마 진짜 대박 너무 이뻐요   \n",
              "\n",
              "                                              morphs  \n",
              "0   메종 키츠네 테마 폴드 3 에서는 적용 불가 네 제일 비싸다 라인업 사용 불가라 ...  \n",
              "1                                          진짜 너무 이쁘다  \n",
              "2                                           아 너무 예쁘다  \n",
              "3   솔직 히 돈 아깝다 브랜드 이미지 만 어도 충분 히 감 성적 일텐데 디테일 장난 ...  \n",
              "4         진짜 너무 예쁘다 ㅠㅠ 워치 랑 버즈 이쁘다 폰 테마 진짜 대박 너무 이쁘다  "
            ],
            "text/html": [
              "\n",
              "  <div id=\"df-25a763af-9f7a-4481-90fc-9b86816801e4\">\n",
              "    <div class=\"colab-df-container\">\n",
              "      <div>\n",
              "<style scoped>\n",
              "    .dataframe tbody tr th:only-of-type {\n",
              "        vertical-align: middle;\n",
              "    }\n",
              "\n",
              "    .dataframe tbody tr th {\n",
              "        vertical-align: top;\n",
              "    }\n",
              "\n",
              "    .dataframe thead th {\n",
              "        text-align: right;\n",
              "    }\n",
              "</style>\n",
              "<table border=\"1\" class=\"dataframe\">\n",
              "  <thead>\n",
              "    <tr style=\"text-align: right;\">\n",
              "      <th></th>\n",
              "      <th>label</th>\n",
              "      <th>comment</th>\n",
              "      <th>morphs</th>\n",
              "    </tr>\n",
              "  </thead>\n",
              "  <tbody>\n",
              "    <tr>\n",
              "      <th>0</th>\n",
              "      <td>0</td>\n",
              "      <td>메종키츠네 테마 폴드3에서는 적용 불가네요 제일 비싼 라인업에서 사용 불가라니 당황스럽네</td>\n",
              "      <td>메종 키츠네 테마 폴드 3 에서는 적용 불가 네 제일 비싸다 라인업 사용 불가라 ...</td>\n",
              "    </tr>\n",
              "    <tr>\n",
              "      <th>1</th>\n",
              "      <td>1</td>\n",
              "      <td>진짜 너무 이쁘다</td>\n",
              "      <td>진짜 너무 이쁘다</td>\n",
              "    </tr>\n",
              "    <tr>\n",
              "      <th>2</th>\n",
              "      <td>1</td>\n",
              "      <td>아 너무 예쁘당</td>\n",
              "      <td>아 너무 예쁘다</td>\n",
              "    </tr>\n",
              "    <tr>\n",
              "      <th>3</th>\n",
              "      <td>1</td>\n",
              "      <td>솔직히 이거는 돈 하나도 안아까울듯  브랜드 이미지만 있어도 충분히 감성적일텐데 디...</td>\n",
              "      <td>솔직 히 돈 아깝다 브랜드 이미지 만 어도 충분 히 감 성적 일텐데 디테일 장난 ...</td>\n",
              "    </tr>\n",
              "    <tr>\n",
              "      <th>4</th>\n",
              "      <td>1</td>\n",
              "      <td>진짜 너무 예쁘네요ㅠㅠ 워치랑 버즈도 이쁜데 폰 테마 진짜 대박 너무 이뻐요</td>\n",
              "      <td>진짜 너무 예쁘다 ㅠㅠ 워치 랑 버즈 이쁘다 폰 테마 진짜 대박 너무 이쁘다</td>\n",
              "    </tr>\n",
              "  </tbody>\n",
              "</table>\n",
              "</div>\n",
              "      <button class=\"colab-df-convert\" onclick=\"convertToInteractive('df-25a763af-9f7a-4481-90fc-9b86816801e4')\"\n",
              "              title=\"Convert this dataframe to an interactive table.\"\n",
              "              style=\"display:none;\">\n",
              "        \n",
              "  <svg xmlns=\"http://www.w3.org/2000/svg\" height=\"24px\"viewBox=\"0 0 24 24\"\n",
              "       width=\"24px\">\n",
              "    <path d=\"M0 0h24v24H0V0z\" fill=\"none\"/>\n",
              "    <path d=\"M18.56 5.44l.94 2.06.94-2.06 2.06-.94-2.06-.94-.94-2.06-.94 2.06-2.06.94zm-11 1L8.5 8.5l.94-2.06 2.06-.94-2.06-.94L8.5 2.5l-.94 2.06-2.06.94zm10 10l.94 2.06.94-2.06 2.06-.94-2.06-.94-.94-2.06-.94 2.06-2.06.94z\"/><path d=\"M17.41 7.96l-1.37-1.37c-.4-.4-.92-.59-1.43-.59-.52 0-1.04.2-1.43.59L10.3 9.45l-7.72 7.72c-.78.78-.78 2.05 0 2.83L4 21.41c.39.39.9.59 1.41.59.51 0 1.02-.2 1.41-.59l7.78-7.78 2.81-2.81c.8-.78.8-2.07 0-2.86zM5.41 20L4 18.59l7.72-7.72 1.47 1.35L5.41 20z\"/>\n",
              "  </svg>\n",
              "      </button>\n",
              "      \n",
              "  <style>\n",
              "    .colab-df-container {\n",
              "      display:flex;\n",
              "      flex-wrap:wrap;\n",
              "      gap: 12px;\n",
              "    }\n",
              "\n",
              "    .colab-df-convert {\n",
              "      background-color: #E8F0FE;\n",
              "      border: none;\n",
              "      border-radius: 50%;\n",
              "      cursor: pointer;\n",
              "      display: none;\n",
              "      fill: #1967D2;\n",
              "      height: 32px;\n",
              "      padding: 0 0 0 0;\n",
              "      width: 32px;\n",
              "    }\n",
              "\n",
              "    .colab-df-convert:hover {\n",
              "      background-color: #E2EBFA;\n",
              "      box-shadow: 0px 1px 2px rgba(60, 64, 67, 0.3), 0px 1px 3px 1px rgba(60, 64, 67, 0.15);\n",
              "      fill: #174EA6;\n",
              "    }\n",
              "\n",
              "    [theme=dark] .colab-df-convert {\n",
              "      background-color: #3B4455;\n",
              "      fill: #D2E3FC;\n",
              "    }\n",
              "\n",
              "    [theme=dark] .colab-df-convert:hover {\n",
              "      background-color: #434B5C;\n",
              "      box-shadow: 0px 1px 3px 1px rgba(0, 0, 0, 0.15);\n",
              "      filter: drop-shadow(0px 1px 2px rgba(0, 0, 0, 0.3));\n",
              "      fill: #FFFFFF;\n",
              "    }\n",
              "  </style>\n",
              "\n",
              "      <script>\n",
              "        const buttonEl =\n",
              "          document.querySelector('#df-25a763af-9f7a-4481-90fc-9b86816801e4 button.colab-df-convert');\n",
              "        buttonEl.style.display =\n",
              "          google.colab.kernel.accessAllowed ? 'block' : 'none';\n",
              "\n",
              "        async function convertToInteractive(key) {\n",
              "          const element = document.querySelector('#df-25a763af-9f7a-4481-90fc-9b86816801e4');\n",
              "          const dataTable =\n",
              "            await google.colab.kernel.invokeFunction('convertToInteractive',\n",
              "                                                     [key], {});\n",
              "          if (!dataTable) return;\n",
              "\n",
              "          const docLinkHtml = 'Like what you see? Visit the ' +\n",
              "            '<a target=\"_blank\" href=https://colab.research.google.com/notebooks/data_table.ipynb>data table notebook</a>'\n",
              "            + ' to learn more about interactive tables.';\n",
              "          element.innerHTML = '';\n",
              "          dataTable['output_type'] = 'display_data';\n",
              "          await google.colab.output.renderOutput(dataTable, element);\n",
              "          const docLink = document.createElement('div');\n",
              "          docLink.innerHTML = docLinkHtml;\n",
              "          element.appendChild(docLink);\n",
              "        }\n",
              "      </script>\n",
              "    </div>\n",
              "  </div>\n",
              "  "
            ]
          },
          "metadata": {},
          "execution_count": 14
        }
      ]
    },
    {
      "cell_type": "code",
      "source": [
        "sum(data_df.isnull().any())"
      ],
      "metadata": {
        "colab": {
          "base_uri": "https://localhost:8080/"
        },
        "id": "W6fivrUcYZr5",
        "outputId": "a2c77106-161d-4128-adff-07a77c61ecd7"
      },
      "execution_count": null,
      "outputs": [
        {
          "output_type": "execute_result",
          "data": {
            "text/plain": [
              "0"
            ]
          },
          "metadata": {},
          "execution_count": 37
        }
      ]
    },
    {
      "cell_type": "code",
      "source": [
        "from sklearn.model_selection import train_test_split\n",
        "\n",
        "X = data_df['morphs']\n",
        "y = data_df['label']\n",
        "X_train , X_test, y_train , y_test = train_test_split(X, y,test_size=0.2)"
      ],
      "metadata": {
        "id": "O_X2K5a8aIEP"
      },
      "execution_count": null,
      "outputs": []
    },
    {
      "cell_type": "code",
      "source": [
        "print('학습 데이터의 수 :',X_train.shape[0] , '테스트 데이터의 수 :',X_test.shape[0] )"
      ],
      "metadata": {
        "colab": {
          "base_uri": "https://localhost:8080/"
        },
        "id": "wQccGf26aKS-",
        "outputId": "e7e735af-cf13-4a1c-f18b-1d71c1e4b41c"
      },
      "execution_count": null,
      "outputs": [
        {
          "output_type": "stream",
          "name": "stdout",
          "text": [
            "학습 데이터의 수 : 27337 테스트 데이터의 수 : 6835\n"
          ]
        }
      ]
    },
    {
      "cell_type": "code",
      "source": [
        "from tensorflow.keras.preprocessing.text import Tokenizer\n",
        "\n",
        "tokenizer = Tokenizer()\n",
        "tokenizer.fit_on_texts(X_train)"
      ],
      "metadata": {
        "id": "fEOxjCj3aLq7"
      },
      "execution_count": null,
      "outputs": []
    },
    {
      "cell_type": "code",
      "source": [
        "len(tokenizer.index_word)"
      ],
      "metadata": {
        "colab": {
          "base_uri": "https://localhost:8080/"
        },
        "id": "JkJXPAfoaNeg",
        "outputId": "fbb4e95b-b7e5-468e-f49a-881193d530d6"
      },
      "execution_count": null,
      "outputs": [
        {
          "output_type": "execute_result",
          "data": {
            "text/plain": [
              "18879"
            ]
          },
          "metadata": {},
          "execution_count": 41
        }
      ]
    },
    {
      "cell_type": "code",
      "source": [
        "X_train.shape"
      ],
      "metadata": {
        "colab": {
          "base_uri": "https://localhost:8080/"
        },
        "id": "e8aHtElgaOuh",
        "outputId": "199822a5-76c5-4a1a-e7d6-54701a765635"
      },
      "execution_count": null,
      "outputs": [
        {
          "output_type": "execute_result",
          "data": {
            "text/plain": [
              "(27337,)"
            ]
          },
          "metadata": {},
          "execution_count": 42
        }
      ]
    },
    {
      "cell_type": "code",
      "source": [
        "threshold = 2\n",
        "total_cnt = len(tokenizer.word_index) # 단어의 수\n",
        "rare_cnt = 0 # 등장 빈도수가 threshold보다 작은 단어의 개수를 카운트\n",
        "total_freq = 0 # 훈련 데이터의 전체 단어 빈도수 총 합\n",
        "rare_freq = 0 # 등장 빈도수가 threshold보다 작은 단어의 등장 빈도수의 총 합\n",
        "\n",
        "# 단어와 빈도수의 쌍(pair)을 key와 value로 받는다.\n",
        "for key, value in tokenizer.word_counts.items():\n",
        "    total_freq = total_freq + value\n",
        "\n",
        "    # 단어의 등장 빈도수가 threshold보다 작으면\n",
        "    if(value < threshold):\n",
        "        rare_cnt = rare_cnt + 1\n",
        "        rare_freq = rare_freq + value\n",
        "\n",
        "print('단어 집합(vocabulary)의 크기 :',total_cnt)\n",
        "print('등장 빈도가 %s번 이하인 희귀 단어의 수: %s'%(threshold - 1, rare_cnt))\n",
        "print(\"단어 집합에서 희귀 단어의 비율:\", (rare_cnt / total_cnt)*100)\n",
        "print(\"전체 등장 빈도에서 희귀 단어 등장 빈도 비율:\", \\\n",
        "      (rare_freq / total_freq)*100)"
      ],
      "metadata": {
        "colab": {
          "base_uri": "https://localhost:8080/"
        },
        "id": "KAe_3_ppcnT2",
        "outputId": "ac656aea-fc30-417a-e77f-9d084b315e47"
      },
      "execution_count": null,
      "outputs": [
        {
          "output_type": "stream",
          "name": "stdout",
          "text": [
            "단어 집합(vocabulary)의 크기 : 18879\n",
            "등장 빈도가 1번 이하인 희귀 단어의 수: 7884\n",
            "단어 집합에서 희귀 단어의 비율: 41.76068647703798\n",
            "전체 등장 빈도에서 희귀 단어 등장 빈도 비율: 1.2713832339964393\n"
          ]
        }
      ]
    },
    {
      "cell_type": "code",
      "source": [
        "# 전체 단어 개수 중 빈도수 2이하인 단어 개수는 제거.\n",
        "# 0번 패딩 토큰과 1번 OOV 토큰을 고려하여 +2\n",
        "vocab_size = total_cnt - rare_cnt + 2\n",
        "print('단어 집합의 크기 :',vocab_size)"
      ],
      "metadata": {
        "colab": {
          "base_uri": "https://localhost:8080/"
        },
        "id": "PQKAElQ0dGeW",
        "outputId": "906a89dd-51b4-4504-cbda-45c739c4ab10"
      },
      "execution_count": null,
      "outputs": [
        {
          "output_type": "stream",
          "name": "stdout",
          "text": [
            "단어 집합의 크기 : 10997\n"
          ]
        }
      ]
    },
    {
      "cell_type": "code",
      "source": [
        "vocab_size"
      ],
      "metadata": {
        "colab": {
          "base_uri": "https://localhost:8080/"
        },
        "id": "mn7Fmf0sdJp-",
        "outputId": "0506595a-fc3a-4a23-d23f-ec3b070a6e3f"
      },
      "execution_count": null,
      "outputs": [
        {
          "output_type": "execute_result",
          "data": {
            "text/plain": [
              "10997"
            ]
          },
          "metadata": {},
          "execution_count": 45
        }
      ]
    },
    {
      "cell_type": "code",
      "source": [
        "tokenizer = Tokenizer(vocab_size, oov_token = 'OOV') \n",
        "tokenizer.fit_on_texts(X_train)\n",
        "X_train = tokenizer.texts_to_sequences(X_train)\n",
        "X_test = tokenizer.texts_to_sequences(X_test)"
      ],
      "metadata": {
        "id": "6Y58mcq1dLQk"
      },
      "execution_count": null,
      "outputs": []
    },
    {
      "cell_type": "code",
      "source": [
        "tokenizer.word_index"
      ],
      "metadata": {
        "colab": {
          "base_uri": "https://localhost:8080/"
        },
        "id": "ZiDAJNm4dO-y",
        "outputId": "f1c3cfab-c5d0-4fda-ec32-b1d7fa65dbe6"
      },
      "execution_count": null,
      "outputs": [
        {
          "output_type": "execute_result",
          "data": {
            "text/plain": [
              "{'OOV': 1,\n",
              " '좋다': 2,\n",
              " '보다': 3,\n",
              " '같다': 4,\n",
              " '너무': 5,\n",
              " '없다': 6,\n",
              " '사용': 7,\n",
              " '하고': 8,\n",
              " '들다': 9,\n",
              " '자다': 10,\n",
              " '다': 11,\n",
              " '쓰다': 12,\n",
              " '이다': 13,\n",
              " '배송': 14,\n",
              " '받다': 15,\n",
              " '구매': 16,\n",
              " '만': 17,\n",
              " '지만': 18,\n",
              " '제품': 19,\n",
              " '않다': 20,\n",
              " '삼성': 21,\n",
              " '오다': 22,\n",
              " '해서': 23,\n",
              " '진짜': 24,\n",
              " '게': 25,\n",
              " '프로': 26,\n",
              " '만족': 27,\n",
              " '가격': 28,\n",
              " '사다': 29,\n",
              " '버즈': 30,\n",
              " '갤럭시': 31,\n",
              " '폰': 32,\n",
              " '노트북': 33,\n",
              " '디자인': 34,\n",
              " '히': 35,\n",
              " '니': 36,\n",
              " '싶다': 37,\n",
              " '이쁘다': 38,\n",
              " '기능': 39,\n",
              " '가다': 40,\n",
              " '빠르다': 41,\n",
              " '정말': 42,\n",
              " '아이폰': 43,\n",
              " '네': 44,\n",
              " '크다': 45,\n",
              " '인': 46,\n",
              " '애플': 47,\n",
              " '서': 48,\n",
              " '예쁘다': 49,\n",
              " '많이': 50,\n",
              " '써다': 51,\n",
              " '성능': 52,\n",
              " '못': 53,\n",
              " '화면': 54,\n",
              " '그냥': 55,\n",
              " '케이스': 56,\n",
              " '이라': 57,\n",
              " '되어다': 58,\n",
              " '나오다': 59,\n",
              " '라': 60,\n",
              " '느낌': 61,\n",
              " '안되다': 62,\n",
              " '이어폰': 63,\n",
              " '이번': 64,\n",
              " '넘다': 65,\n",
              " 'ㅠㅠ': 66,\n",
              " '음질': 67,\n",
              " '그렇다': 68,\n",
              " '보고': 69,\n",
              " '많다': 70,\n",
              " '아쉽다': 71,\n",
              " 'ㅎㅎ': 72,\n",
              " '배터리': 73,\n",
              " '주문': 74,\n",
              " '색상': 75,\n",
              " '인데': 76,\n",
              " '바로': 77,\n",
              " '카메라': 78,\n",
              " '면서': 79,\n",
              " '그리': 80,\n",
              " '고민': 81,\n",
              " '괜찮다': 82,\n",
              " '아': 83,\n",
              " '가볍다': 84,\n",
              " '아주': 85,\n",
              " '끄다': 86,\n",
              " '워치': 87,\n",
              " '늘다': 88,\n",
              " '구입': 89,\n",
              " '기': 90,\n",
              " '불편': 91,\n",
              " '조금': 92,\n",
              " '쓸다': 93,\n",
              " 'ㅋㅋ': 94,\n",
              " '주다': 95,\n",
              " '노트': 96,\n",
              " '스럽다': 97,\n",
              " '선물': 98,\n",
              " '없이': 99,\n",
              " '이네': 100,\n",
              " '바꾸다': 101,\n",
              " '처음': 102,\n",
              " '모르다': 103,\n",
              " '에어팟': 104,\n",
              " '충전': 105,\n",
              " '분': 106,\n",
              " '엄청': 107,\n",
              " '부분': 108,\n",
              " '귀': 109,\n",
              " '펜': 110,\n",
              " '저렴': 111,\n",
              " '터치': 112,\n",
              " '마음': 113,\n",
              " '맞다': 114,\n",
              " '랑': 115,\n",
              " '상품': 116,\n",
              " '아직': 117,\n",
              " '에는': 118,\n",
              " '감사': 119,\n",
              " '맘': 120,\n",
              " '함': 121,\n",
              " '듯': 122,\n",
              " '센터': 123,\n",
              " '필요': 124,\n",
              " '편하다': 125,\n",
              " '통화': 126,\n",
              " '작다': 127,\n",
              " '플러스': 128,\n",
              " '근데': 129,\n",
              " '서비스': 130,\n",
              " '영상': 131,\n",
              " '기대': 132,\n",
              " '돼다': 133,\n",
              " '확실': 134,\n",
              " '구': 135,\n",
              " '아니다': 136,\n",
              " '비싸다': 137,\n",
              " '알다': 138,\n",
              " '포장': 139,\n",
              " '품': 140,\n",
              " '연결': 141,\n",
              " '역시': 142,\n",
              " '노이즈': 143,\n",
              " '가능': 144,\n",
              " '니까': 145,\n",
              " 's': 146,\n",
              " '사고': 147,\n",
              " '걸': 148,\n",
              " '무게': 149,\n",
              " '형': 150,\n",
              " '만원': 151,\n",
              " 'ㅠ': 152,\n",
              " '이상': 153,\n",
              " '아이패드': 154,\n",
              " '그래도': 155,\n",
              " '만들다': 156,\n",
              " '사은': 157,\n",
              " '일단': 158,\n",
              " '건': 159,\n",
              " '뭐': 160,\n",
              " '플립': 161,\n",
              " '지다': 162,\n",
              " '하니': 163,\n",
              " '나다': 164,\n",
              " '캔': 165,\n",
              " '지는': 166,\n",
              " '살다': 167,\n",
              " '슬링': 168,\n",
              " 'ㅋㅋㅋ': 169,\n",
              " '아보': 170,\n",
              " '느끼다': 171,\n",
              " '오래': 172,\n",
              " '감': 173,\n",
              " '착용': 174,\n",
              " '엔': 175,\n",
              " '핸드폰': 176,\n",
              " '야': 177,\n",
              " '이랑': 178,\n",
              " '매우': 179,\n",
              " '별로': 180,\n",
              " '다음': 181,\n",
              " '기존': 182,\n",
              " '처럼': 183,\n",
              " '단점': 184,\n",
              " '선택': 185,\n",
              " '빼다': 186,\n",
              " '서다': 187,\n",
              " '싸다': 188,\n",
              " '에도': 189,\n",
              " '왜': 190,\n",
              " '불량': 191,\n",
              " '세대': 192,\n",
              " '딱': 193,\n",
              " '고요': 194,\n",
              " '해주': 195,\n",
              " '모델': 196,\n",
              " '무선': 197,\n",
              " '다만': 198,\n",
              " '차이': 199,\n",
              " '걱정': 200,\n",
              " '라서': 201,\n",
              " '넣다': 202,\n",
              " '이제': 203,\n",
              " '태블릿': 204,\n",
              " '추천': 205,\n",
              " '13': 206,\n",
              " '편': 207,\n",
              " '북': 208,\n",
              " '리뷰': 209,\n",
              " '4': 210,\n",
              " '최고': 211,\n",
              " '크기': 212,\n",
              " '빨리': 213,\n",
              " '날': 214,\n",
              " '라이브': 215,\n",
              " '이고': 216,\n",
              " '아하': 217,\n",
              " '라고': 218,\n",
              " '비교': 219,\n",
              " '주변': 220,\n",
              " '완전': 221,\n",
              " '필름': 222,\n",
              " '시리즈': 223,\n",
              " '아무': 224,\n",
              " '여': 225,\n",
              " '이렇다': 226,\n",
              " '플렉스': 227,\n",
              " '도착': 228,\n",
              " '기다': 229,\n",
              " '사': 230,\n",
              " '울트라': 231,\n",
              " '새': 232,\n",
              " '가장': 233,\n",
              " '걸리다': 234,\n",
              " '계속': 235,\n",
              " '노캔': 236,\n",
              " '장점': 237,\n",
              " '3': 238,\n",
              " '인치': 239,\n",
              " '부터': 240,\n",
              " '같이': 241,\n",
              " '하루': 242,\n",
              " '사진': 243,\n",
              " '깔다': 244,\n",
              " '자체': 245,\n",
              " '2': 246,\n",
              " '들리다': 247,\n",
              " '솔직': 248,\n",
              " '실버': 249,\n",
              " '만에': 250,\n",
              " '발열': 251,\n",
              " '임': 252,\n",
              " '판매': 253,\n",
              " '차다': 254,\n",
              " '미니': 255,\n",
              " '작업': 256,\n",
              " '품질': 257,\n",
              " '손': 258,\n",
              " 'ㅎ': 259,\n",
              " '매하': 260,\n",
              " '할인': 261,\n",
              " '노치': 262,\n",
              " '착': 263,\n",
              " '버리다': 264,\n",
              " '어떻다': 265,\n",
              " '거나': 266,\n",
              " '아프다': 267,\n",
              " '출시': 268,\n",
              " '교환': 269,\n",
              " '어가': 270,\n",
              " '폴드': 271,\n",
              " '자마자': 272,\n",
              " '돈': 273,\n",
              " '한번': 274,\n",
              " '기분': 275,\n",
              " '줄': 276,\n",
              " '찾다': 277,\n",
              " '잘쓰다': 278,\n",
              " '가성': 279,\n",
              " '드리다': 280,\n",
              " '속도': 281,\n",
              " '이유': 282,\n",
              " '인적': 283,\n",
              " '거의': 284,\n",
              " '들이다': 285,\n",
              " '화질': 286,\n",
              " '이건': 287,\n",
              " '색': 288,\n",
              " '겠다': 289,\n",
              " '귀가': 290,\n",
              " '더니': 291,\n",
              " '듣다': 292,\n",
              " 'ㅜㅜ': 293,\n",
              " '상태': 294,\n",
              " '먹다': 295,\n",
              " '전화': 296,\n",
              " '타다': 297,\n",
              " '만큼': 298,\n",
              " '크게': 299,\n",
              " '게임': 300,\n",
              " '급': 301,\n",
              " '이라고': 302,\n",
              " '여기': 303,\n",
              " '후기': 304,\n",
              " '제일': 305,\n",
              " '오늘': 306,\n",
              " '대다': 307,\n",
              " '해도': 308,\n",
              " '끼다': 309,\n",
              " '혁신': 310,\n",
              " '블루': 311,\n",
              " '훨씬': 312,\n",
              " '소음': 313,\n",
              " '기기': 314,\n",
              " '미치다': 315,\n",
              " '음악': 316,\n",
              " '갖다': 317,\n",
              " '래서': 318,\n",
              " '추가': 319,\n",
              " '이렇게': 320,\n",
              " 'ㅋ': 321,\n",
              " '14': 322,\n",
              " '약간': 323,\n",
              " '앱': 324,\n",
              " '했지만': 325,\n",
              " '느리다': 326,\n",
              " '상': 327,\n",
              " '디스플레이': 328,\n",
              " '1': 329,\n",
              " '충전기': 330,\n",
              " '택배': 331,\n",
              " '확인': 332,\n",
              " '물건': 333,\n",
              " '필기': 334,\n",
              " '지문': 335,\n",
              " '달': 336,\n",
              " '갈다': 337,\n",
              " '얇다': 338,\n",
              " '던데': 339,\n",
              " '박스': 340,\n",
              " '아일랜드': 341,\n",
              " '고급': 342,\n",
              " '두다': 343,\n",
              " '에게': 344,\n",
              " '용감': 345,\n",
              " '민하': 346,\n",
              " '특히': 347,\n",
              " '라는': 348,\n",
              " '에서는': 349,\n",
              " '난': 350,\n",
              " '어도': 351,\n",
              " '아이': 352,\n",
              " '액정': 353,\n",
              " '인식': 354,\n",
              " '휴대폰': 355,\n",
              " '사이즈': 356,\n",
              " '블루투스': 357,\n",
              " '쉬다': 358,\n",
              " '다니다': 359,\n",
              " '시키다': 360,\n",
              " '밉다': 361,\n",
              " '좋아지다': 362,\n",
              " '몇': 363,\n",
              " '12': 364,\n",
              " '활용': 365,\n",
              " '족하': 366,\n",
              " 'ㅋㅋㅋㅋ': 367,\n",
              " '늦다': 368,\n",
              " '꼭': 369,\n",
              " '별': 370,\n",
              " '요즘': 371,\n",
              " '20': 372,\n",
              " '전하': 373,\n",
              " '눈': 374,\n",
              " '기도': 375,\n",
              " '기본': 376,\n",
              " '개다': 377,\n",
              " '중인': 378,\n",
              " '키': 379,\n",
              " '기다리다': 380,\n",
              " '개선': 381,\n",
              " '듣기': 382,\n",
              " '모드': 383,\n",
              " '빠지다': 384,\n",
              " '한쪽': 385,\n",
              " '성': 386,\n",
              " '빨르다': 387,\n",
              " '모두': 388,\n",
              " '탭': 389,\n",
              " '밖에': 390,\n",
              " '블랙': 391,\n",
              " '자급': 392,\n",
              " '대비': 393,\n",
              " '다리': 394,\n",
              " '중이': 395,\n",
              " '이면': 396,\n",
              " '인지': 397,\n",
              " '실물': 398,\n",
              " '제조': 399,\n",
              " '듭니': 400,\n",
              " '생기다': 401,\n",
              " '설치': 402,\n",
              " '결국': 403,\n",
              " '여러': 404,\n",
              " '비다': 405,\n",
              " '음': 406,\n",
              " '윈도우': 407,\n",
              " '여서': 408,\n",
              " '살짝': 409,\n",
              " '으로는': 410,\n",
              " '동영상': 411,\n",
              " '죠': 412,\n",
              " '뭔가': 413,\n",
              " '인터넷': 414,\n",
              " '5': 415,\n",
              " '지원': 416,\n",
              " '전혀': 417,\n",
              " '외': 418,\n",
              " '유저': 419,\n",
              " '지고': 420,\n",
              " '팁': 421,\n",
              " '링': 422,\n",
              " '및': 423,\n",
              " '높다': 424,\n",
              " '에요': 425,\n",
              " '원래': 426,\n",
              " '님': 427,\n",
              " '따로': 428,\n",
              " '편리': 429,\n",
              " '떨다': 430,\n",
              " '스피커': 431,\n",
              " '사서': 432,\n",
              " '7': 433,\n",
              " '쓰기': 434,\n",
              " '건지다': 435,\n",
              " '충분': 436,\n",
              " '내주': 437,\n",
              " '스마트폰': 438,\n",
              " '야하다': 439,\n",
              " '셔': 440,\n",
              " '고장': 441,\n",
              " '이에요': 442,\n",
              " '11': 443,\n",
              " '볼': 444,\n",
              " '드': 445,\n",
              " '기술': 446,\n",
              " '스펙': 447,\n",
              " '밴드': 448,\n",
              " '품다': 449,\n",
              " 'a': 450,\n",
              " '시계': 451,\n",
              " '접다': 452,\n",
              " '다행': 453,\n",
              " '다이나믹': 454,\n",
              " '색깔': 455,\n",
              " '성비': 456,\n",
              " '화이트': 457,\n",
              " '골드': 458,\n",
              " '핑크': 459,\n",
              " '끼': 460,\n",
              " '운동': 461,\n",
              " '놓다': 462,\n",
              " '사전예약': 463,\n",
              " '유튜브': 464,\n",
              " '생': 465,\n",
              " '작동': 466,\n",
              " '업데이트': 467,\n",
              " '각하': 468,\n",
              " '내다': 469,\n",
              " '어보': 470,\n",
              " '직접': 471,\n",
              " '제대로': 472,\n",
              " '페어': 473,\n",
              " '왼쪽': 474,\n",
              " '신경': 475,\n",
              " '나쁘다': 476,\n",
              " '편이': 477,\n",
              " '보기': 478,\n",
              " '보내다': 479,\n",
              " '붙다': 480,\n",
              " '이용': 481,\n",
              " '교체': 482,\n",
              " '설정': 483,\n",
              " '실망': 484,\n",
              " '이전': 485,\n",
              " '뜨다': 486,\n",
              " '한테': 487,\n",
              " '믿다': 488,\n",
              " '하자': 489,\n",
              " '오픈': 490,\n",
              " '떨어지다': 491,\n",
              " '하여': 492,\n",
              " '따르다': 493,\n",
              " 'ㅎㅎㅎ': 494,\n",
              " '문의': 495,\n",
              " '래': 496,\n",
              " '에어': 497,\n",
              " '마다': 498,\n",
              " '마우스': 499,\n",
              " '다그': 500,\n",
              " '깔끔하다': 501,\n",
              " '터': 502,\n",
              " '보다는': 503,\n",
              " '빨': 504,\n",
              " '또한': 505,\n",
              " '쪽': 506,\n",
              " '무엇': 507,\n",
              " '커버': 508,\n",
              " '쿠폰': 509,\n",
              " '무겁다': 510,\n",
              " '일반': 511,\n",
              " '적당': 512,\n",
              " '용량': 513,\n",
              " '보호': 514,\n",
              " '물론': 515,\n",
              " '선': 516,\n",
              " '이지': 517,\n",
              " '10': 518,\n",
              " '카드': 519,\n",
              " '바': 520,\n",
              " '켜다': 521,\n",
              " '문서': 522,\n",
              " '며': 523,\n",
              " '갤탭': 524,\n",
              " '대박': 525,\n",
              " '모든': 526,\n",
              " '참고': 527,\n",
              " '해보다': 528,\n",
              " '분들': 529,\n",
              " '꽤': 530,\n",
              " '는걸': 531,\n",
              " '오히려': 532,\n",
              " '커서': 533,\n",
              " '지도': 534,\n",
              " '굉장하다': 535,\n",
              " '거리': 536,\n",
              " '씩': 537,\n",
              " '위해': 538,\n",
              " '맥북': 539,\n",
              " '타': 540,\n",
              " '굳이': 541,\n",
              " '어플': 542,\n",
              " '부담': 543,\n",
              " '타입': 544,\n",
              " '수준': 545,\n",
              " '끊기다': 546,\n",
              " '온': 547,\n",
              " '너': 548,\n",
              " '후회': 549,\n",
              " '어': 550,\n",
              " '사용자': 551,\n",
              " '휴대': 552,\n",
              " '6': 553,\n",
              " '다르다': 554,\n",
              " '적응': 555,\n",
              " '산': 556,\n",
              " '힘들다': 557,\n",
              " '이라는': 558,\n",
              " '부모님': 559,\n",
              " '그런데': 560,\n",
              " 'ㅜ': 561,\n",
              " '심하다': 562,\n",
              " '우선': 563,\n",
              " '실제': 564,\n",
              " '인거': 565,\n",
              " '하긴': 566,\n",
              " '말다': 567,\n",
              " '항상': 568,\n",
              " '느껴지다': 569,\n",
              " '정품': 570,\n",
              " '저음': 571,\n",
              " '달라': 572,\n",
              " '선명': 573,\n",
              " '틀다': 574,\n",
              " '소프트웨어': 575,\n",
              " '지지': 576,\n",
              " '패드': 577,\n",
              " '존버': 578,\n",
              " '설명': 579,\n",
              " '보급': 580,\n",
              " '반품': 581,\n",
              " '린다': 582,\n",
              " '감다': 583,\n",
              " '장': 584,\n",
              " '적다': 585,\n",
              " '놀라다': 586,\n",
              " '무조건': 587,\n",
              " '처': 588,\n",
              " '보이다': 589,\n",
              " '위': 590,\n",
              " '결정': 591,\n",
              " '사양': 592,\n",
              " '홀': 593,\n",
              " '검색': 594,\n",
              " '바뀌다': 595,\n",
              " '안좋다': 596,\n",
              " '일이': 597,\n",
              " '어렵다': 598,\n",
              " 'ㄹㅇ': 599,\n",
              " '원하다': 600,\n",
              " '예전': 601,\n",
              " '노래': 602,\n",
              " '매장': 603,\n",
              " '그램': 604,\n",
              " '유용': 605,\n",
              " '커널': 606,\n",
              " '대로': 607,\n",
              " '차': 608,\n",
              " '드네': 609,\n",
              " '건가': 610,\n",
              " '사려': 611,\n",
              " '해결': 612,\n",
              " '완벽': 613,\n",
              " '색감': 614,\n",
              " '현상': 615,\n",
              " '치다': 616,\n",
              " '누르다': 617,\n",
              " '외부': 618,\n",
              " '라면': 619,\n",
              " '개봉': 620,\n",
              " '회사': 621,\n",
              " '컬러': 622,\n",
              " '보단': 623,\n",
              " '갈아': 624,\n",
              " '샤오미': 625,\n",
              " '드립': 626,\n",
              " '대한': 627,\n",
              " '자주': 628,\n",
              " '이정': 629,\n",
              " '질': 630,\n",
              " '끝': 631,\n",
              " '비슷하다': 632,\n",
              " '파다': 633,\n",
              " '차라리': 634,\n",
              " '뿐': 635,\n",
              " '그렇게': 636,\n",
              " '상당': 637,\n",
              " '이벤트': 638,\n",
              " '인가': 639,\n",
              " '맥스': 640,\n",
              " '구멍': 641,\n",
              " '엘지': 642,\n",
              " 'ㅠㅠㅠ': 643,\n",
              " '라도': 644,\n",
              " '구성': 645,\n",
              " '펀치': 646,\n",
              " '바이올렛': 647,\n",
              " '시청': 648,\n",
              " '따다': 649,\n",
              " '지르다': 650,\n",
              " '끼우다': 651,\n",
              " '넘어오다': 652,\n",
              " '지네': 653,\n",
              " '짜다': 654,\n",
              " '고객': 655,\n",
              " '오른쪽': 656,\n",
              " '수도': 657,\n",
              " '익숙': 658,\n",
              " '얼마나': 659,\n",
              " '볼때': 660,\n",
              " '잘못': 661,\n",
              " '체적': 662,\n",
              " '좀더': 663,\n",
              " '절대': 664,\n",
              " '마': 665,\n",
              " '버전': 666,\n",
              " '새롭다': 667,\n",
              " '페이': 668,\n",
              " '실': 669,\n",
              " '거슬리다': 670,\n",
              " '고다': 671,\n",
              " '사운드': 672,\n",
              " '어느': 673,\n",
              " '간': 674,\n",
              " '용도': 675,\n",
              " '뒤': 676,\n",
              " '열': 677,\n",
              " '자꾸': 678,\n",
              " '에선': 679,\n",
              " '튀다': 680,\n",
              " '진': 681,\n",
              " '현재': 682,\n",
              " '역대': 683,\n",
              " '지나': 684,\n",
              " '간단': 685,\n",
              " '유선': 686,\n",
              " '아들': 687,\n",
              " '스러운': 688,\n",
              " 'z': 689,\n",
              " '무': 690,\n",
              " '애': 691,\n",
              " '올리다': 692,\n",
              " '아지': 693,\n",
              " '이해': 694,\n",
              " '한데': 695,\n",
              " '어쩔': 696,\n",
              " '당일': 697,\n",
              " '요하': 698,\n",
              " '빠': 699,\n",
              " '8': 700,\n",
              " '갤럭시탭': 701,\n",
              " '말고': 702,\n",
              " '어제': 703,\n",
              " '연동': 704,\n",
              " '휴': 705,\n",
              " '몰다': 706,\n",
              " '신': 707,\n",
              " '테스트': 708,\n",
              " '드디어': 709,\n",
              " '업그레이드': 710,\n",
              " '키보': 711,\n",
              " '운': 712,\n",
              " '혹시': 713,\n",
              " '이미': 714,\n",
              " '언제': 715,\n",
              " '이지만': 716,\n",
              " '아예': 717,\n",
              " '액티브': 718,\n",
              " '엄마': 719,\n",
              " '발송': 720,\n",
              " 'ㅋㅋㅋㅋㅋ': 721,\n",
              " '뽑다': 722,\n",
              " '브랜드': 723,\n",
              " '유심': 724,\n",
              " '싫다': 725,\n",
              " '제발': 726,\n",
              " '아가': 727,\n",
              " 'lg': 728,\n",
              " '가끔': 729,\n",
              " '확': 730,\n",
              " '첫': 731,\n",
              " '짱': 732,\n",
              " '처리': 733,\n",
              " '연락': 734,\n",
              " 'ㄷㄷ': 735,\n",
              " '베젤': 736,\n",
              " '정': 737,\n",
              " '냐': 738,\n",
              " '안해': 739,\n",
              " '사지': 740,\n",
              " '귀엽다': 741,\n",
              " '이야': 742,\n",
              " '리지': 743,\n",
              " '버튼': 744,\n",
              " '보드': 745,\n",
              " '손목': 746,\n",
              " '소비자': 747,\n",
              " '안드로이드': 748,\n",
              " '어디': 749,\n",
              " '업무': 750,\n",
              " '들어오다': 751,\n",
              " '안나': 752,\n",
              " '거지': 753,\n",
              " '당첨': 754,\n",
              " '글': 755,\n",
              " '감성': 756,\n",
              " '체감': 757,\n",
              " '프로그램': 758,\n",
              " '보시': 759,\n",
              " '주시': 760,\n",
              " '재': 761,\n",
              " '구나': 762,\n",
              " '플래그': 763,\n",
              " '거기': 764,\n",
              " '무슨': 765,\n",
              " 'x': 766,\n",
              " '무거': 767,\n",
              " 'm': 768,\n",
              " '시작': 769,\n",
              " '어머니': 770,\n",
              " '자동': 771,\n",
              " '소니': 772,\n",
              " '돌리다': 773,\n",
              " '뒷': 774,\n",
              " '포인트': 775,\n",
              " '었는데': 776,\n",
              " '움': 777,\n",
              " '수가': 778,\n",
              " '사라': 779,\n",
              " '작': 780,\n",
              " '중고': 781,\n",
              " '결과': 782,\n",
              " '이틀': 783,\n",
              " '시원': 784,\n",
              " '그거': 785,\n",
              " '연': 786,\n",
              " '환불': 787,\n",
              " '바라다': 788,\n",
              " '어진': 789,\n",
              " '사드': 790,\n",
              " '찍다': 791,\n",
              " '최신': 792,\n",
              " '땐': 793,\n",
              " '매력': 794,\n",
              " '사이트': 795,\n",
              " '전자': 796,\n",
              " '외관': 797,\n",
              " '니지': 798,\n",
              " '남다': 799,\n",
              " '이후': 800,\n",
              " '만하': 801,\n",
              " '반적': 802,\n",
              " '귀찮다': 803,\n",
              " '수업': 804,\n",
              " '대화': 805,\n",
              " '종이': 806,\n",
              " '궁금하다': 807,\n",
              " '답': 808,\n",
              " '뜯다': 809,\n",
              " '돌': 810,\n",
              " '첨': 811,\n",
              " '가요': 812,\n",
              " '함께': 813,\n",
              " '세요': 814,\n",
              " '쓰레기': 815,\n",
              " '조절': 816,\n",
              " '잇다': 817,\n",
              " '잡다': 818,\n",
              " '브론즈': 819,\n",
              " '생일': 820,\n",
              " '먼저': 821,\n",
              " '음으로': 822,\n",
              " '스마트': 823,\n",
              " '동안': 824,\n",
              " '묻다': 825,\n",
              " '부드럽다': 826,\n",
              " '22': 827,\n",
              " '에서도': 828,\n",
              " '수령': 829,\n",
              " '열다': 830,\n",
              " '입장': 831,\n",
              " '달다': 832,\n",
              " '신세계': 833,\n",
              " '갑자기': 834,\n",
              " '공간': 835,\n",
              " '옆': 836,\n",
              " '팬': 837,\n",
              " '친구': 838,\n",
              " '문자': 839,\n",
              " '쯤': 840,\n",
              " '점점': 841,\n",
              " '붙이': 842,\n",
              " '광고': 843,\n",
              " 'ㅡㅡ': 844,\n",
              " '초기': 845,\n",
              " '신청': 846,\n",
              " '나름': 847,\n",
              " '해지': 848,\n",
              " '가야': 849,\n",
              " '용해': 850,\n",
              " '길': 851,\n",
              " '걸다': 852,\n",
              " '사면': 853,\n",
              " '굿': 854,\n",
              " '주신': 855,\n",
              " '짜증': 856,\n",
              " '한지': 857,\n",
              " '기준': 858,\n",
              " '모양': 859,\n",
              " '덕분': 860,\n",
              " '오후': 861,\n",
              " '상대방': 862,\n",
              " '다양': 863,\n",
              " '카톡': 864,\n",
              " '중간': 865,\n",
              " '저런': 866,\n",
              " '고하': 867,\n",
              " '로운': 868,\n",
              " '강의': 869,\n",
              " '원가': 870,\n",
              " '부족': 871,\n",
              " '재고': 872,\n",
              " '입하': 873,\n",
              " '다운': 874,\n",
              " '최악': 875,\n",
              " '으로도': 876,\n",
              " '중국': 877,\n",
              " '다다': 878,\n",
              " '붙이다': 879,\n",
              " '판': 880,\n",
              " '그대로': 881,\n",
              " '본적': 882,\n",
              " 'pro': 883,\n",
              " '끊다': 884,\n",
              " '전작': 885,\n",
              " '급하다': 886,\n",
              " '꼼꼼': 887,\n",
              " '주말': 888,\n",
              " '맞추다': 889,\n",
              " '딱하다': 890,\n",
              " '아버지': 891,\n",
              " '미리': 892,\n",
              " '적용': 893,\n",
              " '필': 894,\n",
              " '고르다': 895,\n",
              " '나중': 896,\n",
              " '중요': 897,\n",
              " '심': 898,\n",
              " '생산': 899,\n",
              " '상황': 900,\n",
              " '그림': 901,\n",
              " '생기': 902,\n",
              " '평소': 903,\n",
              " '온라인': 904,\n",
              " '이라서': 905,\n",
              " '최근': 906,\n",
              " '발전': 907,\n",
              " '차단': 908,\n",
              " '마감': 909,\n",
              " '공부': 910,\n",
              " '해주다': 911,\n",
              " '컴퓨터': 912,\n",
              " '답변': 913,\n",
              " '방법': 914,\n",
              " '저렇게': 915,\n",
              " '절감': 916,\n",
              " '젠': 917,\n",
              " '영화': 918,\n",
              " '넓다': 919,\n",
              " '각': 920,\n",
              " '남': 921,\n",
              " '카툭': 922,\n",
              " '퍼플': 923,\n",
              " '지면': 924,\n",
              " 'se': 925,\n",
              " '그게': 926,\n",
              " '어차피': 927,\n",
              " '전부': 928,\n",
              " '탑재': 929,\n",
              " '충': 930,\n",
              " '아타': 931,\n",
              " '그린': 932,\n",
              " '덜': 933,\n",
              " '무거워': 934,\n",
              " '었': 935,\n",
              " '아야': 936,\n",
              " '일주일': 937,\n",
              " '결제': 938,\n",
              " '든': 939,\n",
              " '순간': 940,\n",
              " '족': 941,\n",
              " '작고': 942,\n",
              " '방문': 943,\n",
              " '투명': 944,\n",
              " '네이버': 945,\n",
              " '좋아하다': 946,\n",
              " '대해': 947,\n",
              " '그레이': 948,\n",
              " '정확': 949,\n",
              " '께': 950,\n",
              " '램': 951,\n",
              " '답답하다': 952,\n",
              " '등록': 953,\n",
              " '그래픽': 954,\n",
              " '기계': 955,\n",
              " '센서': 956,\n",
              " '스트랩': 957,\n",
              " '사기': 958,\n",
              " '여러가지': 959,\n",
              " '되게': 960,\n",
              " '멀다': 961,\n",
              " '뽁뽁': 962,\n",
              " '나서다': 963,\n",
              " '가면': 964,\n",
              " '무난': 965,\n",
              " '대부분': 966,\n",
              " '꽂다': 967,\n",
              " '고가': 968,\n",
              " '넘어가다': 969,\n",
              " '귓': 970,\n",
              " '번창': 971,\n",
              " '힌지': 972,\n",
              " '위치': 973,\n",
              " '스티커': 974,\n",
              " '즈': 975,\n",
              " '대단하다': 976,\n",
              " '접': 977,\n",
              " '쓰시': 978,\n",
              " '버드': 979,\n",
              " '영': 980,\n",
              " '무리': 981,\n",
              " '서도': 982,\n",
              " '누가': 983,\n",
              " '반': 984,\n",
              " '업': 985,\n",
              " '라이트': 986,\n",
              " '예정': 987,\n",
              " '결론': 988,\n",
              " '모니터': 989,\n",
              " '방수': 990,\n",
              " '훌륭하다': 991,\n",
              " '겁니다': 992,\n",
              " '저가': 993,\n",
              " '혜택': 994,\n",
              " '재생': 995,\n",
              " '나은': 996,\n",
              " '만족도': 997,\n",
              " '테블릿': 998,\n",
              " '호환': 999,\n",
              " '개인': 1000,\n",
              " ...}"
            ]
          },
          "metadata": {},
          "execution_count": 47
        }
      ]
    },
    {
      "cell_type": "code",
      "source": [
        "import matplotlib.pyplot as plt\n",
        "\n",
        "print('문서의 최대 길이 :',max(len(l) for l in X_train))\n",
        "print('문서의 평균 길이 :',sum(map(len, X_train))/len(X_train))\n",
        "plt.hist([len(s) for s in X_train], bins=50)\n",
        "plt.xlabel('length of samples')\n",
        "plt.ylabel('number of samples')\n",
        "plt.show()"
      ],
      "metadata": {
        "colab": {
          "base_uri": "https://localhost:8080/",
          "height": 315
        },
        "id": "TwyrDnaEdTQM",
        "outputId": "ac72b207-febf-4a8a-e39c-2cd1ac1abab1"
      },
      "execution_count": null,
      "outputs": [
        {
          "output_type": "stream",
          "name": "stdout",
          "text": [
            "문서의 최대 길이 : 769\n",
            "문서의 평균 길이 : 22.683981417126972\n"
          ]
        },
        {
          "output_type": "display_data",
          "data": {
            "text/plain": [
              "<Figure size 432x288 with 1 Axes>"
            ],
            "image/png": "[encoded data removed]"
          },
          "metadata": {
            "needs_background": "light"
          }
        }
      ]
    },
    {
      "cell_type": "code",
      "source": [
        "def below_threshold_len(max_len, nested_list):\n",
        "    cnt = 0\n",
        "    for s in nested_list:\n",
        "        if(len(s) <= max_len):\n",
        "            cnt = cnt + 1\n",
        "    print('전체 샘플 중 길이가 %s 이하인 샘플의 비율: %s'%\\\n",
        "          (max_len, (cnt / len(nested_list))*100))"
      ],
      "metadata": {
        "id": "GPnhlerCdUUV"
      },
      "execution_count": null,
      "outputs": []
    },
    {
      "cell_type": "code",
      "source": [
        "max_len = 150\n",
        "below_threshold_len(max_len, X_train)"
      ],
      "metadata": {
        "colab": {
          "base_uri": "https://localhost:8080/"
        },
        "id": "NdkDNEWMdX2x",
        "outputId": "34052a71-b43c-448a-a6e8-76f197d766c2"
      },
      "execution_count": null,
      "outputs": [
        {
          "output_type": "stream",
          "name": "stdout",
          "text": [
            "전체 샘플 중 길이가 150 이하인 샘플의 비율: 98.73797417419614\n"
          ]
        }
      ]
    },
    {
      "cell_type": "code",
      "source": [
        "from tensorflow.keras.preprocessing import sequence\n",
        "\n",
        "print('시퀀스 패딩(sample * time)')\n",
        "X_train=sequence.pad_sequences(X_train,maxlen=max_len)\n",
        "X_test=sequence.pad_sequences(X_test,maxlen=max_len)\n",
        "print('X_train 크기 :',X_train.shape)\n",
        "print('X_test 크기 : ', X_test.shape)"
      ],
      "metadata": {
        "colab": {
          "base_uri": "https://localhost:8080/"
        },
        "id": "j7IKS6yOdY_x",
        "outputId": "73598354-4d35-4771-bac5-d3320a970a14"
      },
      "execution_count": null,
      "outputs": [
        {
          "output_type": "stream",
          "name": "stdout",
          "text": [
            "시퀀스 패딩(sample * time)\n",
            "X_train 크기 : (27337, 150)\n",
            "X_test 크기 :  (6835, 150)\n"
          ]
        }
      ]
    },
    {
      "cell_type": "code",
      "source": [
        "from tensorflow.keras.models import Sequential\n",
        "from tensorflow.keras.layers import Dense, Dropout, Activation, Embedding, LSTM, Conv1D, MaxPooling1D\n",
        "from tensorflow.keras.optimizers import SGD, Adam,RMSprop\n",
        "model = Sequential()\n",
        "\n",
        "model.add(Embedding(input_dim = vocab_size, output_dim = 128))\n",
        "model.add(LSTM(128, return_sequences = True))\n",
        "model.add(Dropout(0.2))\n",
        "model.add(LSTM(32))\n",
        "model.add(Dense(64, activation = 'relu'))\n",
        "model.add(Dropout(0.3))\n",
        "model.add(Dense(32, activation = 'relu'))\n",
        "model.add(Dense(3, activation = 'softmax'))\n",
        "\n",
        "opt = RMSprop(lr=0.0001)\n",
        "model.compile(optimizer=opt,\n",
        "             loss = 'sparse_categorical_crossentropy',\n",
        "             metrics = ['acc'])\n",
        "model.summary()"
      ],
      "metadata": {
        "colab": {
          "base_uri": "https://localhost:8080/"
        },
        "id": "IYknNS1pdbPO",
        "outputId": "4c2c933c-07eb-4638-bc36-48fdbf485b4e"
      },
      "execution_count": null,
      "outputs": [
        {
          "output_type": "stream",
          "name": "stdout",
          "text": [
            "Model: \"sequential_1\"\n",
            "_________________________________________________________________\n",
            " Layer (type)                Output Shape              Param #   \n",
            "=================================================================\n",
            " embedding_1 (Embedding)     (None, None, 128)         1407616   \n",
            "                                                                 \n",
            " lstm_2 (LSTM)               (None, None, 128)         131584    \n",
            "                                                                 \n",
            " dropout_2 (Dropout)         (None, None, 128)         0         \n",
            "                                                                 \n",
            " lstm_3 (LSTM)               (None, 32)                20608     \n",
            "                                                                 \n",
            " dense_4 (Dense)             (None, 64)                2112      \n",
            "                                                                 \n",
            " dropout_3 (Dropout)         (None, 64)                0         \n",
            "                                                                 \n",
            " dense_5 (Dense)             (None, 32)                2080      \n",
            "                                                                 \n",
            " dense_6 (Dense)             (None, 3)                 99        \n",
            "                                                                 \n",
            "=================================================================\n",
            "Total params: 1,564,099\n",
            "Trainable params: 1,564,099\n",
            "Non-trainable params: 0\n",
            "_________________________________________________________________\n"
          ]
        },
        {
          "output_type": "stream",
          "name": "stderr",
          "text": [
            "/usr/local/lib/python3.7/dist-packages/keras/optimizer_v2/rmsprop.py:130: UserWarning: The `lr` argument is deprecated, use `learning_rate` instead.\n",
            "  super(RMSprop, self).__init__(name, **kwargs)\n"
          ]
        }
      ]
    },
    {
      "cell_type": "code",
      "source": [
        "from tensorflow.keras.callbacks import EarlyStopping, ModelCheckpoint\n",
        "# 검증 데이터 손실(val_loss)이 증가하면, \n",
        "# 과적합 징후므로 검증 데이터 손실이 4회 증가하면 \n",
        "# 학습을 조기 종료(Early Stopping)합니다. \n",
        "es = EarlyStopping(monitor='val_loss', mode='min', verbose=1, patience=10)\n",
        "# ModelCheckpoint를 사용하여 검증 데이터의 \n",
        "# 정확도(val_acc)가 이전보다 좋아질 경우에만 모델을 저장합니다.\n",
        "mc = ModelCheckpoint('best_model_LSTM.h5', monitor='val_acc', mode='max', verbose=2, save_best_only=True)"
      ],
      "metadata": {
        "id": "MYIqYVGOddTv"
      },
      "execution_count": null,
      "outputs": []
    },
    {
      "cell_type": "code",
      "source": [
        "history = model.fit(X_train, y_train, epochs=50, callbacks=[es,mc], validation_data = (X_test, y_test))"
      ],
      "metadata": {
        "colab": {
          "base_uri": "https://localhost:8080/"
        },
        "id": "2Cng4smFdfry",
        "outputId": "16533be0-2ed4-45e9-a74f-2feed17f44c4"
      },
      "execution_count": null,
      "outputs": [
        {
          "output_type": "stream",
          "name": "stdout",
          "text": [
            "Epoch 1/50\n",
            "854/855 [============================>.] - ETA: 0s - loss: 0.8934 - acc: 0.6170\n",
            "Epoch 1: val_acc improved from -inf to 0.69466, saving model to best_model_LSTM.h5\n",
            "855/855 [==============================] - 22s 20ms/step - loss: 0.8934 - acc: 0.6171 - val_loss: 0.7475 - val_acc: 0.6947\n",
            "Epoch 2/50\n",
            "853/855 [============================>.] - ETA: 0s - loss: 0.7119 - acc: 0.7200\n",
            "Epoch 2: val_acc improved from 0.69466 to 0.74674, saving model to best_model_LSTM.h5\n",
            "855/855 [==============================] - 16s 19ms/step - loss: 0.7118 - acc: 0.7201 - val_loss: 0.6624 - val_acc: 0.7467\n",
            "Epoch 3/50\n",
            "852/855 [============================>.] - ETA: 0s - loss: 0.6428 - acc: 0.7505\n",
            "Epoch 3: val_acc did not improve from 0.74674\n",
            "855/855 [==============================] - 16s 18ms/step - loss: 0.6427 - acc: 0.7504 - val_loss: 0.6599 - val_acc: 0.7457\n",
            "Epoch 4/50\n",
            "852/855 [============================>.] - ETA: 0s - loss: 0.6123 - acc: 0.7634\n",
            "Epoch 4: val_acc improved from 0.74674 to 0.75962, saving model to best_model_LSTM.h5\n",
            "855/855 [==============================] - 16s 18ms/step - loss: 0.6117 - acc: 0.7636 - val_loss: 0.6323 - val_acc: 0.7596\n",
            "Epoch 5/50\n",
            "854/855 [============================>.] - ETA: 0s - loss: 0.5939 - acc: 0.7698\n",
            "Epoch 5: val_acc improved from 0.75962 to 0.76269, saving model to best_model_LSTM.h5\n",
            "855/855 [==============================] - 16s 18ms/step - loss: 0.5938 - acc: 0.7698 - val_loss: 0.6239 - val_acc: 0.7627\n",
            "Epoch 6/50\n",
            "853/855 [============================>.] - ETA: 0s - loss: 0.5790 - acc: 0.7732\n",
            "Epoch 6: val_acc improved from 0.76269 to 0.76416, saving model to best_model_LSTM.h5\n",
            "855/855 [==============================] - 16s 19ms/step - loss: 0.5789 - acc: 0.7733 - val_loss: 0.6221 - val_acc: 0.7642\n",
            "Epoch 7/50\n",
            "854/855 [============================>.] - ETA: 0s - loss: 0.5675 - acc: 0.7764\n",
            "Epoch 7: val_acc improved from 0.76416 to 0.76445, saving model to best_model_LSTM.h5\n",
            "855/855 [==============================] - 16s 19ms/step - loss: 0.5674 - acc: 0.7765 - val_loss: 0.6182 - val_acc: 0.7644\n",
            "Epoch 8/50\n",
            "853/855 [============================>.] - ETA: 0s - loss: 0.5559 - acc: 0.7802\n",
            "Epoch 8: val_acc improved from 0.76445 to 0.76781, saving model to best_model_LSTM.h5\n",
            "855/855 [==============================] - 16s 18ms/step - loss: 0.5564 - acc: 0.7800 - val_loss: 0.6181 - val_acc: 0.7678\n",
            "Epoch 9/50\n",
            "853/855 [============================>.] - ETA: 0s - loss: 0.5444 - acc: 0.7833\n",
            "Epoch 9: val_acc did not improve from 0.76781\n",
            "855/855 [==============================] - 16s 18ms/step - loss: 0.5447 - acc: 0.7831 - val_loss: 0.6171 - val_acc: 0.7649\n",
            "Epoch 10/50\n",
            "852/855 [============================>.] - ETA: 0s - loss: 0.5333 - acc: 0.7896\n",
            "Epoch 10: val_acc did not improve from 0.76781\n",
            "855/855 [==============================] - 16s 19ms/step - loss: 0.5334 - acc: 0.7895 - val_loss: 0.6371 - val_acc: 0.7503\n",
            "Epoch 11/50\n",
            "854/855 [============================>.] - ETA: 0s - loss: 0.5222 - acc: 0.7962\n",
            "Epoch 11: val_acc did not improve from 0.76781\n",
            "855/855 [==============================] - 16s 19ms/step - loss: 0.5222 - acc: 0.7962 - val_loss: 0.6171 - val_acc: 0.7504\n",
            "Epoch 12/50\n",
            "853/855 [============================>.] - ETA: 0s - loss: 0.5135 - acc: 0.8009\n",
            "Epoch 12: val_acc did not improve from 0.76781\n",
            "855/855 [==============================] - 16s 18ms/step - loss: 0.5131 - acc: 0.8011 - val_loss: 0.6274 - val_acc: 0.7625\n",
            "Epoch 13/50\n",
            "854/855 [============================>.] - ETA: 0s - loss: 0.5050 - acc: 0.8057\n",
            "Epoch 13: val_acc did not improve from 0.76781\n",
            "855/855 [==============================] - 16s 18ms/step - loss: 0.5052 - acc: 0.8056 - val_loss: 0.6124 - val_acc: 0.7577\n",
            "Epoch 14/50\n",
            "854/855 [============================>.] - ETA: 0s - loss: 0.4951 - acc: 0.8085\n",
            "Epoch 14: val_acc did not improve from 0.76781\n",
            "855/855 [==============================] - 16s 18ms/step - loss: 0.4951 - acc: 0.8086 - val_loss: 0.6139 - val_acc: 0.7573\n",
            "Epoch 15/50\n",
            "852/855 [============================>.] - ETA: 0s - loss: 0.4892 - acc: 0.8118\n",
            "Epoch 15: val_acc did not improve from 0.76781\n",
            "855/855 [==============================] - 16s 18ms/step - loss: 0.4894 - acc: 0.8119 - val_loss: 0.6111 - val_acc: 0.7631\n",
            "Epoch 16/50\n",
            "852/855 [============================>.] - ETA: 0s - loss: 0.4788 - acc: 0.8178\n",
            "Epoch 16: val_acc did not improve from 0.76781\n",
            "855/855 [==============================] - 16s 18ms/step - loss: 0.4786 - acc: 0.8180 - val_loss: 0.6387 - val_acc: 0.7601\n",
            "Epoch 17/50\n",
            "853/855 [============================>.] - ETA: 0s - loss: 0.4738 - acc: 0.8204\n",
            "Epoch 17: val_acc did not improve from 0.76781\n",
            "855/855 [==============================] - 16s 18ms/step - loss: 0.4739 - acc: 0.8204 - val_loss: 0.6114 - val_acc: 0.7596\n",
            "Epoch 18/50\n",
            "852/855 [============================>.] - ETA: 0s - loss: 0.4663 - acc: 0.8246\n",
            "Epoch 18: val_acc did not improve from 0.76781\n",
            "855/855 [==============================] - 16s 18ms/step - loss: 0.4660 - acc: 0.8247 - val_loss: 0.6258 - val_acc: 0.7599\n",
            "Epoch 19/50\n",
            "854/855 [============================>.] - ETA: 0s - loss: 0.4550 - acc: 0.8279\n",
            "Epoch 19: val_acc did not improve from 0.76781\n",
            "855/855 [==============================] - 15s 18ms/step - loss: 0.4551 - acc: 0.8279 - val_loss: 0.6364 - val_acc: 0.7557\n",
            "Epoch 20/50\n",
            "853/855 [============================>.] - ETA: 0s - loss: 0.4494 - acc: 0.8326\n",
            "Epoch 20: val_acc did not improve from 0.76781\n",
            "855/855 [==============================] - 16s 19ms/step - loss: 0.4497 - acc: 0.8325 - val_loss: 0.6425 - val_acc: 0.7552\n",
            "Epoch 21/50\n",
            "852/855 [============================>.] - ETA: 0s - loss: 0.4415 - acc: 0.8355\n",
            "Epoch 21: val_acc did not improve from 0.76781\n",
            "855/855 [==============================] - 16s 18ms/step - loss: 0.4414 - acc: 0.8356 - val_loss: 0.6588 - val_acc: 0.7552\n",
            "Epoch 22/50\n",
            "854/855 [============================>.] - ETA: 0s - loss: 0.4342 - acc: 0.8388\n",
            "Epoch 22: val_acc did not improve from 0.76781\n",
            "855/855 [==============================] - 16s 19ms/step - loss: 0.4343 - acc: 0.8388 - val_loss: 0.6527 - val_acc: 0.7567\n",
            "Epoch 23/50\n",
            "853/855 [============================>.] - ETA: 0s - loss: 0.4282 - acc: 0.8418\n",
            "Epoch 23: val_acc did not improve from 0.76781\n",
            "855/855 [==============================] - 16s 19ms/step - loss: 0.4281 - acc: 0.8419 - val_loss: 0.6645 - val_acc: 0.7517\n",
            "Epoch 24/50\n",
            "852/855 [============================>.] - ETA: 0s - loss: 0.4196 - acc: 0.8445\n",
            "Epoch 24: val_acc did not improve from 0.76781\n",
            "855/855 [==============================] - 16s 19ms/step - loss: 0.4199 - acc: 0.8444 - val_loss: 0.6879 - val_acc: 0.7501\n",
            "Epoch 25/50\n",
            "852/855 [============================>.] - ETA: 0s - loss: 0.4121 - acc: 0.8488\n",
            "Epoch 25: val_acc did not improve from 0.76781\n",
            "855/855 [==============================] - 16s 19ms/step - loss: 0.4123 - acc: 0.8486 - val_loss: 0.6812 - val_acc: 0.7535\n",
            "Epoch 25: early stopping\n"
          ]
        }
      ]
    },
    {
      "cell_type": "code",
      "source": [
        "from tensorflow.keras.models import load_model\n",
        "import numpy as np\n",
        "loaded_model_LSTM = load_model('best_model_LSTM.h5')\n",
        "\n",
        "loaded_model_LSTM.evaluate(X_test,y_test)"
      ],
      "metadata": {
        "colab": {
          "base_uri": "https://localhost:8080/"
        },
        "id": "9qCVZB4Pdhgt",
        "outputId": "b4aae84e-8baf-4e5e-ed4f-a3889bf65e9e"
      },
      "execution_count": null,
      "outputs": [
        {
          "output_type": "stream",
          "name": "stdout",
          "text": [
            "214/214 [==============================] - 2s 8ms/step - loss: 0.6181 - acc: 0.7678\n"
          ]
        },
        {
          "output_type": "execute_result",
          "data": {
            "text/plain": [
              "[0.618083119392395, 0.7678127288818359]"
            ]
          },
          "metadata": {},
          "execution_count": 56
        }
      ]
    },
    {
      "cell_type": "code",
      "source": [
        "from tensorflow.keras.models import load_model\n",
        "import numpy as np\n",
        "loaded_model_LSTM = load_model('best_model_LSTM.h5')\n",
        "news_label = ['부정','긍정','중립']\n",
        "\n",
        "def sentiment_predict_LSTM(new_sentence):\n",
        "  new_sentence = twitter.morphs(new_sentence) # 토큰화\n",
        "  new_sentence = [word for word in new_sentence if not word in stopword] # 불용어 제거\n",
        "  encoded = tokenizer.texts_to_sequences([new_sentence]) # 정수 인코딩\n",
        "  pad_new = sequence.pad_sequences(encoded, maxlen = max_len) # 패딩\n",
        "  score = loaded_model_LSTM.predict(pad_new) # 예측\n",
        "  maximum = np.argmax(score)\n",
        "  print(f'해당 리뷰는 {news_label[maximum]}입니다.')\n"
      ],
      "metadata": {
        "id": "QEwUIHiphD2m"
      },
      "execution_count": null,
      "outputs": []
    },
    {
      "cell_type": "code",
      "source": [
        "sentiment_predict_LSTM('디자인은 예쁜데... 배터리가')"
      ],
      "metadata": {
        "colab": {
          "base_uri": "https://localhost:8080/"
        },
        "id": "73LqiS_PhG5m",
        "outputId": "ea3296c2-0f0a-49cb-c707-82973be6121a"
      },
      "execution_count": null,
      "outputs": [
        {
          "output_type": "stream",
          "name": "stdout",
          "text": [
            "해당 리뷰는 부정입니다.\n"
          ]
        }
      ]
    },
    {
      "cell_type": "code",
      "source": [
        "sentiment_predict_LSTM('에어팟 프로는 음질이 그렇게 좋진 않네 고민이다 근데 확실히 노켄은 인정한다')"
      ],
      "metadata": {
        "colab": {
          "base_uri": "https://localhost:8080/"
        },
        "id": "insnyzZElHr7",
        "outputId": "f8b0c9d5-a834-47e3-898c-22ead0ec311f"
      },
      "execution_count": null,
      "outputs": [
        {
          "output_type": "stream",
          "name": "stdout",
          "text": [
            "해당 리뷰는 긍정입니다.\n"
          ]
        }
      ]
    },
    {
      "cell_type": "code",
      "source": [
        "sentiment_predict_LSTM('아 색깔 너무 예쁘다 이번에 꼭 사전예약해서 사야지')"
      ],
      "metadata": {
        "colab": {
          "base_uri": "https://localhost:8080/"
        },
        "id": "YveGiKkAlOdB",
        "outputId": "6b1f2dc7-8fdb-4a8e-8fb0-31536a5ef4be"
      },
      "execution_count": null,
      "outputs": [
        {
          "output_type": "stream",
          "name": "stdout",
          "text": [
            "해당 리뷰는 긍정입니다.\n"
          ]
        }
      ]
    },
    {
      "cell_type": "code",
      "source": [
        "def sentiment_predict_LSTM2(new_sentence):\n",
        "  new_sentence = twitter.morphs(new_sentence) # 토큰화\n",
        "  new_sentence = [word for word in new_sentence if not word in stopword] # 불용어 제거\n",
        "  encoded = tokenizer.texts_to_sequences([new_sentence]) # 정수 인코딩\n",
        "  pad_new = sequence.pad_sequences(encoded, maxlen = max_len) # 패딩\n",
        "  score = loaded_model_LSTM.predict(pad_new) \n",
        "  maximum = np.argmax(score)\n",
        "  per = int(np.max(score)*100)\n",
        "  print(f'해당 리뷰는 {per}% 확률로 {news_label[maximum]}입니다.')"
      ],
      "metadata": {
        "id": "Yvp-AaxAhJMB"
      },
      "execution_count": null,
      "outputs": []
    },
    {
      "cell_type": "code",
      "source": [
        "sentiment_predict_LSTM2('디자인은 예쁜데... 배터리가')"
      ],
      "metadata": {
        "id": "1dz6yR-thT4C",
        "outputId": "99a20884-02c0-4482-ff27-e2363798191b",
        "colab": {
          "base_uri": "https://localhost:8080/"
        }
      },
      "execution_count": null,
      "outputs": [
        {
          "output_type": "stream",
          "name": "stdout",
          "text": [
            "해당 리뷰는 52% 확률로 부정입니다.\n"
          ]
        }
      ]
    },
    {
      "cell_type": "code",
      "source": [
        "sentiment_predict_LSTM2('에어팟 프로는 음질이 그렇게 좋진 않네 고민이다 근데 확실히 노켄은 인정한다')"
      ],
      "metadata": {
        "colab": {
          "base_uri": "https://localhost:8080/"
        },
        "id": "ZgbbzhbGnbQQ",
        "outputId": "544be7ec-fc8e-4988-dd59-0fece4a6cb44"
      },
      "execution_count": null,
      "outputs": [
        {
          "output_type": "stream",
          "name": "stdout",
          "text": [
            "해당 리뷰는 47% 확률로 긍정입니다.\n"
          ]
        }
      ]
    },
    {
      "cell_type": "code",
      "source": [
        "sentiment_predict_LSTM2('아 색깔 너무 예쁘다 이번에 꼭 사전예약해서 사야지')"
      ],
      "metadata": {
        "colab": {
          "base_uri": "https://localhost:8080/"
        },
        "id": "nEbZYCkgneA8",
        "outputId": "13c336d6-6919-4d46-b2d9-4331a6cd0b34"
      },
      "execution_count": null,
      "outputs": [
        {
          "output_type": "stream",
          "name": "stdout",
          "text": [
            "해당 리뷰는 94% 확률로 긍정입니다.\n"
          ]
        }
      ]
    },
    {
      "cell_type": "code",
      "source": [
        "def Datapredict(testdata):\n",
        "  Pos = []\n",
        "  Neg = []\n",
        "  Mid = []\n",
        "  predict = []\n",
        "  k = len(testdata['comment'])\n",
        "  review_label = ['0','1','2']\n",
        "  for i in range(k):\n",
        "    new_sentence = testdata['comment'][i]\n",
        "    new_sentence = twitter.morphs(new_sentence)\n",
        "    new_sentence = [word for word in new_sentence if not word in stopword]\n",
        "    encoded = tokenizer.texts_to_sequences([new_sentence])\n",
        "    pad_new = sequence.pad_sequences(encoded, maxlen = max_len)\n",
        "    score = loaded_model_LSTM.predict(pad_new) \n",
        "    maximum = np.argmax(score)\n",
        "    label = review_label[maximum]\n",
        "    if label == '0':\n",
        "      Neg.append(0)\n",
        "    elif label == '1':\n",
        "      Pos.append(1)\n",
        "    else:\n",
        "      Mid.append(2)\n",
        "  print(f'이 기기의 긍정 비율은 {int((len(Pos)/k)*100)}입니다')\n",
        "  print(f'이 기기의 부정 비율은 {int((len(Neg)/k)*100)}입니다')\n",
        "  print(f'이 기기의 중립 비율은 {int((len(Mid)/k)*100)}입니다')\n"
      ],
      "metadata": {
        "id": "8YzYtbb6hW5S"
      },
      "execution_count": null,
      "outputs": []
    },
    {
      "cell_type": "code",
      "source": [
        "from google.colab import files\n",
        "myfile = files.upload()"
      ],
      "metadata": {
        "colab": {
          "base_uri": "https://localhost:8080/",
          "height": 76
        },
        "id": "jhfxgh3K-u0U",
        "outputId": "17db5cb4-5b50-42c2-d98d-1280c44d28c1"
      },
      "execution_count": null,
      "outputs": [
        {
          "output_type": "display_data",
          "data": {
            "text/plain": [
              "<IPython.core.display.HTML object>"
            ],
            "text/html": [
              "\n",
              "     <input type=\"file\" id=\"files-8fef7700-59a9-4c28-8af3-7390d4768d70\" name=\"files[]\" multiple disabled\n",
              "        style=\"border:none\" />\n",
              "     <output id=\"result-8fef7700-59a9-4c28-8af3-7390d4768d70\">\n",
              "      Upload widget is only available when the cell has been executed in the\n",
              "      current browser session. Please rerun this cell to enable.\n",
              "      </output>\n",
              "      <script>// Copyright 2017 Google LLC\n",
              "//\n",
              "// Licensed under the Apache License, Version 2.0 (the \"License\");\n",
              "// you may not use this file except in compliance with the License.\n",
              "// You may obtain a copy of the License at\n",
              "//\n",
              "//      http://www.apache.org/licenses/LICENSE-2.0\n",
              "//\n",
              "// Unless required by applicable law or agreed to in writing, software\n",
              "// distributed under the License is distributed on an \"AS IS\" BASIS,\n",
              "// WITHOUT WARRANTIES OR CONDITIONS OF ANY KIND, either express or implied.\n",
              "// See the License for the specific language governing permissions and\n",
              "// limitations under the License.\n",
              "\n",
              "/**\n",
              " * @fileoverview Helpers for google.colab Python module.\n",
              " */\n",
              "(function(scope) {\n",
              "function span(text, styleAttributes = {}) {\n",
              "  const element = document.createElement('span');\n",
              "  element.textContent = text;\n",
              "  for (const key of Object.keys(styleAttributes)) {\n",
              "    element.style[key] = styleAttributes[key];\n",
              "  }\n",
              "  return element;\n",
              "}\n",
              "\n",
              "// Max number of bytes which will be uploaded at a time.\n",
              "const MAX_PAYLOAD_SIZE = 100 * 1024;\n",
              "\n",
              "function _uploadFiles(inputId, outputId) {\n",
              "  const steps = uploadFilesStep(inputId, outputId);\n",
              "  const outputElement = document.getElementById(outputId);\n",
              "  // Cache steps on the outputElement to make it available for the next call\n",
              "  // to uploadFilesContinue from Python.\n",
              "  outputElement.steps = steps;\n",
              "\n",
              "  return _uploadFilesContinue(outputId);\n",
              "}\n",
              "\n",
              "// This is roughly an async generator (not supported in the browser yet),\n",
              "// where there are multiple asynchronous steps and the Python side is going\n",
              "// to poll for completion of each step.\n",
              "// This uses a Promise to block the python side on completion of each step,\n",
              "// then passes the result of the previous step as the input to the next step.\n",
              "function _uploadFilesContinue(outputId) {\n",
              "  const outputElement = document.getElementById(outputId);\n",
              "  const steps = outputElement.steps;\n",
              "\n",
              "  const next = steps.next(outputElement.lastPromiseValue);\n",
              "  return Promise.resolve(next.value.promise).then((value) => {\n",
              "    // Cache the last promise value to make it available to the next\n",
              "    // step of the generator.\n",
              "    outputElement.lastPromiseValue = value;\n",
              "    return next.value.response;\n",
              "  });\n",
              "}\n",
              "\n",
              "/**\n",
              " * Generator function which is called between each async step of the upload\n",
              " * process.\n",
              " * @param {string} inputId Element ID of the input file picker element.\n",
              " * @param {string} outputId Element ID of the output display.\n",
              " * @return {!Iterable<!Object>} Iterable of next steps.\n",
              " */\n",
              "function* uploadFilesStep(inputId, outputId) {\n",
              "  const inputElement = document.getElementById(inputId);\n",
              "  inputElement.disabled = false;\n",
              "\n",
              "  const outputElement = document.getElementById(outputId);\n",
              "  outputElement.innerHTML = '';\n",
              "\n",
              "  const pickedPromise = new Promise((resolve) => {\n",
              "    inputElement.addEventListener('change', (e) => {\n",
              "      resolve(e.target.files);\n",
              "    });\n",
              "  });\n",
              "\n",
              "  const cancel = document.createElement('button');\n",
              "  inputElement.parentElement.appendChild(cancel);\n",
              "  cancel.textContent = 'Cancel upload';\n",
              "  const cancelPromise = new Promise((resolve) => {\n",
              "    cancel.onclick = () => {\n",
              "      resolve(null);\n",
              "    };\n",
              "  });\n",
              "\n",
              "  // Wait for the user to pick the files.\n",
              "  const files = yield {\n",
              "    promise: Promise.race([pickedPromise, cancelPromise]),\n",
              "    response: {\n",
              "      action: 'starting',\n",
              "    }\n",
              "  };\n",
              "\n",
              "  cancel.remove();\n",
              "\n",
              "  // Disable the input element since further picks are not allowed.\n",
              "  inputElement.disabled = true;\n",
              "\n",
              "  if (!files) {\n",
              "    return {\n",
              "      response: {\n",
              "        action: 'complete',\n",
              "      }\n",
              "    };\n",
              "  }\n",
              "\n",
              "  for (const file of files) {\n",
              "    const li = document.createElement('li');\n",
              "    li.append(span(file.name, {fontWeight: 'bold'}));\n",
              "    li.append(span(\n",
              "        `(${file.type || 'n/a'}) - ${file.size} bytes, ` +\n",
              "        `last modified: ${\n",
              "            file.lastModifiedDate ? file.lastModifiedDate.toLocaleDateString() :\n",
              "                                    'n/a'} - `));\n",
              "    const percent = span('0% done');\n",
              "    li.appendChild(percent);\n",
              "\n",
              "    outputElement.appendChild(li);\n",
              "\n",
              "    const fileDataPromise = new Promise((resolve) => {\n",
              "      const reader = new FileReader();\n",
              "      reader.onload = (e) => {\n",
              "        resolve(e.target.result);\n",
              "      };\n",
              "      reader.readAsArrayBuffer(file);\n",
              "    });\n",
              "    // Wait for the data to be ready.\n",
              "    let fileData = yield {\n",
              "      promise: fileDataPromise,\n",
              "      response: {\n",
              "        action: 'continue',\n",
              "      }\n",
              "    };\n",
              "\n",
              "    // Use a chunked sending to avoid message size limits. See b/62115660.\n",
              "    let position = 0;\n",
              "    do {\n",
              "      const length = Math.min(fileData.byteLength - position, MAX_PAYLOAD_SIZE);\n",
              "      const chunk = new Uint8Array(fileData, position, length);\n",
              "      position += length;\n",
              "\n",
              "      const base64 = btoa(String.fromCharCode.apply(null, chunk));\n",
              "      yield {\n",
              "        response: {\n",
              "          action: 'append',\n",
              "          file: file.name,\n",
              "          data: base64,\n",
              "        },\n",
              "      };\n",
              "\n",
              "      let percentDone = fileData.byteLength === 0 ?\n",
              "          100 :\n",
              "          Math.round((position / fileData.byteLength) * 100);\n",
              "      percent.textContent = `${percentDone}% done`;\n",
              "\n",
              "    } while (position < fileData.byteLength);\n",
              "  }\n",
              "\n",
              "  // All done.\n",
              "  yield {\n",
              "    response: {\n",
              "      action: 'complete',\n",
              "    }\n",
              "  };\n",
              "}\n",
              "\n",
              "scope.google = scope.google || {};\n",
              "scope.google.colab = scope.google.colab || {};\n",
              "scope.google.colab._files = {\n",
              "  _uploadFiles,\n",
              "  _uploadFilesContinue,\n",
              "};\n",
              "})(self);\n",
              "</script> "
            ]
          },
          "metadata": {}
        },
        {
          "output_type": "stream",
          "name": "stdout",
          "text": [
            "Saving 테스트_리뷰_150개.xlsx to 테스트_리뷰_150개.xlsx\n"
          ]
        }
      ]
    },
    {
      "cell_type": "code",
      "source": [
        "test_set = pd.read_excel('/content/테스트_리뷰_150개.xlsx') \n",
        "test_set = test_set[['label','comment']]\n",
        "test_set = test_set.dropna()\n",
        "test_set = test_set.drop_duplicates(['comment'])\n",
        "test_set.head()"
      ],
      "metadata": {
        "colab": {
          "base_uri": "https://localhost:8080/",
          "height": 206
        },
        "id": "JXoOEYFf-5n-",
        "outputId": "e3c191fb-9b97-4050-ac03-d70424566f78"
      },
      "execution_count": null,
      "outputs": [
        {
          "output_type": "execute_result",
          "data": {
            "text/plain": [
              "   label                                            comment\n",
              "0      1          오~ 확실히 개인적인 취향으로 B&O가 제일 예쁘네요 ㅋㅋ 맘에 쏙 들어요\n",
              "1      0  쫒겨나기 딱이고 이동성 최악이고 민폐라는 이미지를 각인시키는 1등공신스피커네요 이런...\n",
              "2      0  제품 강력 비추합니다. 개인적으로 보스를 좋아해서 휴대용 스피커, 이어셋, 헤드셋을...\n",
              "3      1  사운드스틱4 만족스럽게 쓰고 있습니다 ㅋㅋ 모니터 양 옆에 두고 쓰기엔 참 좋더라구...\n",
              "4      2  블루투스가 없는 치명적인 단점이 있지만 아이폰이나 아이패드 있으면 에어플레이로 블루..."
            ],
            "text/html": [
              "\n",
              "  <div id=\"df-f1ec6e96-7fd5-4bb8-bec9-51590edbf066\">\n",
              "    <div class=\"colab-df-container\">\n",
              "      <div>\n",
              "<style scoped>\n",
              "    .dataframe tbody tr th:only-of-type {\n",
              "        vertical-align: middle;\n",
              "    }\n",
              "\n",
              "    .dataframe tbody tr th {\n",
              "        vertical-align: top;\n",
              "    }\n",
              "\n",
              "    .dataframe thead th {\n",
              "        text-align: right;\n",
              "    }\n",
              "</style>\n",
              "<table border=\"1\" class=\"dataframe\">\n",
              "  <thead>\n",
              "    <tr style=\"text-align: right;\">\n",
              "      <th></th>\n",
              "      <th>label</th>\n",
              "      <th>comment</th>\n",
              "    </tr>\n",
              "  </thead>\n",
              "  <tbody>\n",
              "    <tr>\n",
              "      <th>0</th>\n",
              "      <td>1</td>\n",
              "      <td>오~ 확실히 개인적인 취향으로 B&amp;O가 제일 예쁘네요 ㅋㅋ 맘에 쏙 들어요</td>\n",
              "    </tr>\n",
              "    <tr>\n",
              "      <th>1</th>\n",
              "      <td>0</td>\n",
              "      <td>쫒겨나기 딱이고 이동성 최악이고 민폐라는 이미지를 각인시키는 1등공신스피커네요 이런...</td>\n",
              "    </tr>\n",
              "    <tr>\n",
              "      <th>2</th>\n",
              "      <td>0</td>\n",
              "      <td>제품 강력 비추합니다. 개인적으로 보스를 좋아해서 휴대용 스피커, 이어셋, 헤드셋을...</td>\n",
              "    </tr>\n",
              "    <tr>\n",
              "      <th>3</th>\n",
              "      <td>1</td>\n",
              "      <td>사운드스틱4 만족스럽게 쓰고 있습니다 ㅋㅋ 모니터 양 옆에 두고 쓰기엔 참 좋더라구...</td>\n",
              "    </tr>\n",
              "    <tr>\n",
              "      <th>4</th>\n",
              "      <td>2</td>\n",
              "      <td>블루투스가 없는 치명적인 단점이 있지만 아이폰이나 아이패드 있으면 에어플레이로 블루...</td>\n",
              "    </tr>\n",
              "  </tbody>\n",
              "</table>\n",
              "</div>\n",
              "      <button class=\"colab-df-convert\" onclick=\"convertToInteractive('df-f1ec6e96-7fd5-4bb8-bec9-51590edbf066')\"\n",
              "              title=\"Convert this dataframe to an interactive table.\"\n",
              "              style=\"display:none;\">\n",
              "        \n",
              "  <svg xmlns=\"http://www.w3.org/2000/svg\" height=\"24px\"viewBox=\"0 0 24 24\"\n",
              "       width=\"24px\">\n",
              "    <path d=\"M0 0h24v24H0V0z\" fill=\"none\"/>\n",
              "    <path d=\"M18.56 5.44l.94 2.06.94-2.06 2.06-.94-2.06-.94-.94-2.06-.94 2.06-2.06.94zm-11 1L8.5 8.5l.94-2.06 2.06-.94-2.06-.94L8.5 2.5l-.94 2.06-2.06.94zm10 10l.94 2.06.94-2.06 2.06-.94-2.06-.94-.94-2.06-.94 2.06-2.06.94z\"/><path d=\"M17.41 7.96l-1.37-1.37c-.4-.4-.92-.59-1.43-.59-.52 0-1.04.2-1.43.59L10.3 9.45l-7.72 7.72c-.78.78-.78 2.05 0 2.83L4 21.41c.39.39.9.59 1.41.59.51 0 1.02-.2 1.41-.59l7.78-7.78 2.81-2.81c.8-.78.8-2.07 0-2.86zM5.41 20L4 18.59l7.72-7.72 1.47 1.35L5.41 20z\"/>\n",
              "  </svg>\n",
              "      </button>\n",
              "      \n",
              "  <style>\n",
              "    .colab-df-container {\n",
              "      display:flex;\n",
              "      flex-wrap:wrap;\n",
              "      gap: 12px;\n",
              "    }\n",
              "\n",
              "    .colab-df-convert {\n",
              "      background-color: #E8F0FE;\n",
              "      border: none;\n",
              "      border-radius: 50%;\n",
              "      cursor: pointer;\n",
              "      display: none;\n",
              "      fill: #1967D2;\n",
              "      height: 32px;\n",
              "      padding: 0 0 0 0;\n",
              "      width: 32px;\n",
              "    }\n",
              "\n",
              "    .colab-df-convert:hover {\n",
              "      background-color: #E2EBFA;\n",
              "      box-shadow: 0px 1px 2px rgba(60, 64, 67, 0.3), 0px 1px 3px 1px rgba(60, 64, 67, 0.15);\n",
              "      fill: #174EA6;\n",
              "    }\n",
              "\n",
              "    [theme=dark] .colab-df-convert {\n",
              "      background-color: #3B4455;\n",
              "      fill: #D2E3FC;\n",
              "    }\n",
              "\n",
              "    [theme=dark] .colab-df-convert:hover {\n",
              "      background-color: #434B5C;\n",
              "      box-shadow: 0px 1px 3px 1px rgba(0, 0, 0, 0.15);\n",
              "      filter: drop-shadow(0px 1px 2px rgba(0, 0, 0, 0.3));\n",
              "      fill: #FFFFFF;\n",
              "    }\n",
              "  </style>\n",
              "\n",
              "      <script>\n",
              "        const buttonEl =\n",
              "          document.querySelector('#df-f1ec6e96-7fd5-4bb8-bec9-51590edbf066 button.colab-df-convert');\n",
              "        buttonEl.style.display =\n",
              "          google.colab.kernel.accessAllowed ? 'block' : 'none';\n",
              "\n",
              "        async function convertToInteractive(key) {\n",
              "          const element = document.querySelector('#df-f1ec6e96-7fd5-4bb8-bec9-51590edbf066');\n",
              "          const dataTable =\n",
              "            await google.colab.kernel.invokeFunction('convertToInteractive',\n",
              "                                                     [key], {});\n",
              "          if (!dataTable) return;\n",
              "\n",
              "          const docLinkHtml = 'Like what you see? Visit the ' +\n",
              "            '<a target=\"_blank\" href=https://colab.research.google.com/notebooks/data_table.ipynb>data table notebook</a>'\n",
              "            + ' to learn more about interactive tables.';\n",
              "          element.innerHTML = '';\n",
              "          dataTable['output_type'] = 'display_data';\n",
              "          await google.colab.output.renderOutput(dataTable, element);\n",
              "          const docLink = document.createElement('div');\n",
              "          docLink.innerHTML = docLinkHtml;\n",
              "          element.appendChild(docLink);\n",
              "        }\n",
              "      </script>\n",
              "    </div>\n",
              "  </div>\n",
              "  "
            ]
          },
          "metadata": {},
          "execution_count": 68
        }
      ]
    },
    {
      "cell_type": "code",
      "source": [
        "Datapredict(test_set)"
      ],
      "metadata": {
        "colab": {
          "base_uri": "https://localhost:8080/"
        },
        "id": "9SFZALCj_WpZ",
        "outputId": "c93d3846-6352-4fd0-d8bd-99872ee48789"
      },
      "execution_count": null,
      "outputs": [
        {
          "output_type": "stream",
          "name": "stdout",
          "text": [
            "이 기기의 긍정 비율은 56입니다\n",
            "이 기기의 부정 비율은 43입니다\n",
            "이 기기의 중립 비율은 0입니다\n"
          ]
        }
      ]
    },
    {
      "cell_type": "code",
      "source": [
        "def Datapredict2(testdata):\n",
        "  Pred = []\n",
        "  k = len(testdata['comment'])\n",
        "  review_label = ['0','1','2']\n",
        "  for i in range(k):\n",
        "    new_sentence = testdata['comment'][i]\n",
        "    new_sentence = twitter.morphs(new_sentence)\n",
        "    new_sentence = [word for word in new_sentence if not word in stopword]\n",
        "    encoded = tokenizer.texts_to_sequences([new_sentence])\n",
        "    pad_new = sequence.pad_sequences(encoded, maxlen = max_len)\n",
        "    score = loaded_model_LSTM.predict(pad_new) \n",
        "    maximum = np.argmax(score)\n",
        "    label = review_label[maximum]\n",
        "    Pred.append(label)\n",
        "  testdata['Pred'] = Pred\n",
        "  testdata = testdata[['comment','label','Pred']]\n",
        "  testdata.to_excel('/content/테스트_리뷰_150개_pred.xlsx')"
      ],
      "metadata": {
        "id": "fLNq3AXoATtI"
      },
      "execution_count": null,
      "outputs": []
    },
    {
      "cell_type": "code",
      "source": [
        "Datapredict2(test_set)"
      ],
      "metadata": {
        "id": "DmR6cCNUI-uN"
      },
      "execution_count": null,
      "outputs": []
    },
    {
      "cell_type": "code",
      "source": [
        "Datapredict(test_set)"
      ],
      "metadata": {
        "colab": {
          "base_uri": "https://localhost:8080/"
        },
        "id": "pscLntgKJBZt",
        "outputId": "53b683b2-04f2-4b6a-fe0f-6c709cc37971"
      },
      "execution_count": null,
      "outputs": [
        {
          "output_type": "stream",
          "name": "stdout",
          "text": [
            "이 기기의 긍정 비율은 56입니다\n",
            "이 기기의 부정 비율은 43입니다\n",
            "이 기기의 중립 비율은 0입니다\n"
          ]
        }
      ]
    },
    {
      "cell_type": "markdown",
      "source": [
        "OKT 이용 LSTM"
      ],
      "metadata": {
        "id": "7BbDSDeEFT8o"
      }
    },
    {
      "cell_type": "code",
      "source": [
        "!apt-get update\n",
        "!apt-get install g++ openjdk-8-jdk\n",
        "!pip3 install konlpy"
      ],
      "metadata": {
        "id": "FI7UPm_XJKpl",
        "colab": {
          "base_uri": "https://localhost:8080/"
        },
        "outputId": "ccaa3836-0826-4423-bd08-49052a2af56e"
      },
      "execution_count": null,
      "outputs": [
        {
          "output_type": "stream",
          "name": "stdout",
          "text": [
            "\r0% [Working]\r            \rGet:1 http://security.ubuntu.com/ubuntu bionic-security InRelease [88.7 kB]\n",
            "\r0% [Connecting to archive.ubuntu.com (185.125.190.39)] [1 InRelease 14.2 kB/88.\r                                                                               \rHit:2 http://archive.ubuntu.com/ubuntu bionic InRelease\n",
            "\r0% [1 InRelease 88.7 kB/88.7 kB 100%] [Connecting to cloud.r-project.org] [Conn\r                                                                               \rGet:3 http://archive.ubuntu.com/ubuntu bionic-updates InRelease [88.7 kB]\n",
            "\r                                                                               \rGet:4 http://ppa.launchpad.net/c2d4u.team/c2d4u4.0+/ubuntu bionic InRelease [15.9 kB]\n",
            "\r0% [3 InRelease 33.0 kB/88.7 kB 37%] [Connected to cloud.r-project.org (65.9.86\r0% [2 InRelease gpgv 242 kB] [3 InRelease 38.8 kB/88.7 kB 44%] [Connected to cl\r                                                                               \rHit:5 http://ppa.launchpad.net/cran/libgit2/ubuntu bionic InRelease\n",
            "\r0% [2 InRelease gpgv 242 kB] [3 InRelease 64.9 kB/88.7 kB 73%] [Connected to cl\r0% [2 InRelease gpgv 242 kB] [Connected to cloud.r-project.org (65.9.86.28)] [W\r                                                                               \rGet:6 https://cloud.r-project.org/bin/linux/ubuntu bionic-cran40/ InRelease [3,626 B]\n",
            "\r0% [2 InRelease gpgv 242 kB] [Waiting for headers] [Waiting for headers] [Conne\r                                                                               \rGet:7 http://archive.ubuntu.com/ubuntu bionic-backports InRelease [83.3 kB]\n",
            "\r0% [2 InRelease gpgv 242 kB] [7 InRelease 0 B/83.3 kB 0%] [Waiting for headers]\r                                                                               \rHit:8 http://ppa.launchpad.net/deadsnakes/ppa/ubuntu bionic InRelease\n",
            "Hit:9 http://ppa.launchpad.net/graphics-drivers/ppa/ubuntu bionic InRelease\n",
            "Get:10 http://security.ubuntu.com/ubuntu bionic-security/restricted amd64 Packages [1,183 kB]\n",
            "Get:11 http://security.ubuntu.com/ubuntu bionic-security/universe amd64 Packages [1,550 kB]\n",
            "Get:12 http://security.ubuntu.com/ubuntu bionic-security/main amd64 Packages [3,005 kB]\n",
            "Ign:13 https://developer.download.nvidia.com/compute/machine-learning/repos/ubuntu1804/x86_64  InRelease\n",
            "Hit:14 https://developer.download.nvidia.com/compute/cuda/repos/ubuntu1804/x86_64  InRelease\n",
            "Get:15 http://ppa.launchpad.net/c2d4u.team/c2d4u4.0+/ubuntu bionic/main Sources [2,164 kB]\n",
            "Hit:16 https://developer.download.nvidia.com/compute/machine-learning/repos/ubuntu1804/x86_64  Release\n",
            "Get:17 http://ppa.launchpad.net/c2d4u.team/c2d4u4.0+/ubuntu bionic/main amd64 Packages [1,109 kB]\n",
            "Get:18 http://archive.ubuntu.com/ubuntu bionic-updates/main amd64 Packages [3,440 kB]\n",
            "Get:19 http://archive.ubuntu.com/ubuntu bionic-updates/universe amd64 Packages [2,328 kB]\n",
            "Get:20 http://archive.ubuntu.com/ubuntu bionic-updates/restricted amd64 Packages [1,227 kB]\n",
            "Fetched 16.3 MB in 2s (8,019 kB/s)\n",
            "Reading package lists... Done\n",
            "Reading package lists... Done\n",
            "Building dependency tree       \n",
            "Reading state information... Done\n",
            "g++ is already the newest version (4:7.4.0-1ubuntu2.3).\n",
            "g++ set to manually installed.\n",
            "The following package was automatically installed and is no longer required:\n",
            "  libnvidia-common-460\n",
            "Use 'apt autoremove' to remove it.\n",
            "The following additional packages will be installed:\n",
            "  fonts-dejavu-core fonts-dejavu-extra libatk-wrapper-java\n",
            "  libatk-wrapper-java-jni libgail-common libgail18 libgtk2.0-0 libgtk2.0-bin\n",
            "  libgtk2.0-common libxxf86dga1 openjdk-8-jdk-headless openjdk-8-jre\n",
            "  openjdk-8-jre-headless x11-utils\n",
            "Suggested packages:\n",
            "  gvfs openjdk-8-demo openjdk-8-source visualvm libnss-mdns\n",
            "  fonts-ipafont-gothic fonts-ipafont-mincho fonts-wqy-microhei\n",
            "  fonts-wqy-zenhei fonts-indic mesa-utils\n",
            "The following NEW packages will be installed:\n",
            "  fonts-dejavu-core fonts-dejavu-extra libatk-wrapper-java\n",
            "  libatk-wrapper-java-jni libgail-common libgail18 libgtk2.0-0 libgtk2.0-bin\n",
            "  libgtk2.0-common libxxf86dga1 openjdk-8-jdk openjdk-8-jdk-headless\n",
            "  openjdk-8-jre openjdk-8-jre-headless x11-utils\n",
            "0 upgraded, 15 newly installed, 0 to remove and 22 not upgraded.\n",
            "Need to get 46.0 MB of archives.\n",
            "After this operation, 166 MB of additional disk space will be used.\n",
            "Get:1 http://archive.ubuntu.com/ubuntu bionic/main amd64 libxxf86dga1 amd64 2:1.1.4-1 [13.7 kB]\n",
            "Get:2 http://archive.ubuntu.com/ubuntu bionic/main amd64 fonts-dejavu-core all 2.37-1 [1,041 kB]\n",
            "Get:3 http://archive.ubuntu.com/ubuntu bionic/main amd64 fonts-dejavu-extra all 2.37-1 [1,953 kB]\n",
            "Get:4 http://archive.ubuntu.com/ubuntu bionic/main amd64 x11-utils amd64 7.7+3build1 [196 kB]\n",
            "Get:5 http://archive.ubuntu.com/ubuntu bionic/main amd64 libatk-wrapper-java all 0.33.3-20ubuntu0.1 [34.7 kB]\n",
            "Get:6 http://archive.ubuntu.com/ubuntu bionic/main amd64 libatk-wrapper-java-jni amd64 0.33.3-20ubuntu0.1 [28.3 kB]\n",
            "Get:7 http://archive.ubuntu.com/ubuntu bionic/main amd64 libgtk2.0-common all 2.24.32-1ubuntu1 [125 kB]\n",
            "Get:8 http://archive.ubuntu.com/ubuntu bionic/main amd64 libgtk2.0-0 amd64 2.24.32-1ubuntu1 [1,769 kB]\n",
            "Get:9 http://archive.ubuntu.com/ubuntu bionic/main amd64 libgail18 amd64 2.24.32-1ubuntu1 [14.2 kB]\n",
            "Get:10 http://archive.ubuntu.com/ubuntu bionic/main amd64 libgail-common amd64 2.24.32-1ubuntu1 [112 kB]\n",
            "Get:11 http://archive.ubuntu.com/ubuntu bionic/main amd64 libgtk2.0-bin amd64 2.24.32-1ubuntu1 [7,536 B]\n",
            "Get:12 http://archive.ubuntu.com/ubuntu bionic-updates/universe amd64 openjdk-8-jre-headless amd64 8u342-b07-0ubuntu1~18.04 [28.3 MB]\n",
            "Get:13 http://archive.ubuntu.com/ubuntu bionic-updates/universe amd64 openjdk-8-jre amd64 8u342-b07-0ubuntu1~18.04 [69.6 kB]\n",
            "Get:14 http://archive.ubuntu.com/ubuntu bionic-updates/universe amd64 openjdk-8-jdk-headless amd64 8u342-b07-0ubuntu1~18.04 [8,300 kB]\n",
            "Get:15 http://archive.ubuntu.com/ubuntu bionic-updates/universe amd64 openjdk-8-jdk amd64 8u342-b07-0ubuntu1~18.04 [4,032 kB]\n",
            "Fetched 46.0 MB in 1s (65.0 MB/s)\n",
            "Selecting previously unselected package libxxf86dga1:amd64.\n",
            "(Reading database ... 123934 files and directories currently installed.)\n",
            "Preparing to unpack .../00-libxxf86dga1_2%3a1.1.4-1_amd64.deb ...\n",
            "Unpacking libxxf86dga1:amd64 (2:1.1.4-1) ...\n",
            "Selecting previously unselected package fonts-dejavu-core.\n",
            "Preparing to unpack .../01-fonts-dejavu-core_2.37-1_all.deb ...\n",
            "Unpacking fonts-dejavu-core (2.37-1) ...\n",
            "Selecting previously unselected package fonts-dejavu-extra.\n",
            "Preparing to unpack .../02-fonts-dejavu-extra_2.37-1_all.deb ...\n",
            "Unpacking fonts-dejavu-extra (2.37-1) ...\n",
            "Selecting previously unselected package x11-utils.\n",
            "Preparing to unpack .../03-x11-utils_7.7+3build1_amd64.deb ...\n",
            "Unpacking x11-utils (7.7+3build1) ...\n",
            "Selecting previously unselected package libatk-wrapper-java.\n",
            "Preparing to unpack .../04-libatk-wrapper-java_0.33.3-20ubuntu0.1_all.deb ...\n",
            "Unpacking libatk-wrapper-java (0.33.3-20ubuntu0.1) ...\n",
            "Selecting previously unselected package libatk-wrapper-java-jni:amd64.\n",
            "Preparing to unpack .../05-libatk-wrapper-java-jni_0.33.3-20ubuntu0.1_amd64.deb ...\n",
            "Unpacking libatk-wrapper-java-jni:amd64 (0.33.3-20ubuntu0.1) ...\n",
            "Selecting previously unselected package libgtk2.0-common.\n",
            "Preparing to unpack .../06-libgtk2.0-common_2.24.32-1ubuntu1_all.deb ...\n",
            "Unpacking libgtk2.0-common (2.24.32-1ubuntu1) ...\n",
            "Selecting previously unselected package libgtk2.0-0:amd64.\n",
            "Preparing to unpack .../07-libgtk2.0-0_2.24.32-1ubuntu1_amd64.deb ...\n",
            "Unpacking libgtk2.0-0:amd64 (2.24.32-1ubuntu1) ...\n",
            "Selecting previously unselected package libgail18:amd64.\n",
            "Preparing to unpack .../08-libgail18_2.24.32-1ubuntu1_amd64.deb ...\n",
            "Unpacking libgail18:amd64 (2.24.32-1ubuntu1) ...\n",
            "Selecting previously unselected package libgail-common:amd64.\n",
            "Preparing to unpack .../09-libgail-common_2.24.32-1ubuntu1_amd64.deb ...\n",
            "Unpacking libgail-common:amd64 (2.24.32-1ubuntu1) ...\n",
            "Selecting previously unselected package libgtk2.0-bin.\n",
            "Preparing to unpack .../10-libgtk2.0-bin_2.24.32-1ubuntu1_amd64.deb ...\n",
            "Unpacking libgtk2.0-bin (2.24.32-1ubuntu1) ...\n",
            "Selecting previously unselected package openjdk-8-jre-headless:amd64.\n",
            "Preparing to unpack .../11-openjdk-8-jre-headless_8u342-b07-0ubuntu1~18.04_amd64.deb ...\n",
            "Unpacking openjdk-8-jre-headless:amd64 (8u342-b07-0ubuntu1~18.04) ...\n",
            "Selecting previously unselected package openjdk-8-jre:amd64.\n",
            "Preparing to unpack .../12-openjdk-8-jre_8u342-b07-0ubuntu1~18.04_amd64.deb ...\n",
            "Unpacking openjdk-8-jre:amd64 (8u342-b07-0ubuntu1~18.04) ...\n",
            "Selecting previously unselected package openjdk-8-jdk-headless:amd64.\n",
            "Preparing to unpack .../13-openjdk-8-jdk-headless_8u342-b07-0ubuntu1~18.04_amd64.deb ...\n",
            "Unpacking openjdk-8-jdk-headless:amd64 (8u342-b07-0ubuntu1~18.04) ...\n",
            "Selecting previously unselected package openjdk-8-jdk:amd64.\n",
            "Preparing to unpack .../14-openjdk-8-jdk_8u342-b07-0ubuntu1~18.04_amd64.deb ...\n",
            "Unpacking openjdk-8-jdk:amd64 (8u342-b07-0ubuntu1~18.04) ...\n",
            "Setting up libgtk2.0-common (2.24.32-1ubuntu1) ...\n",
            "Setting up fonts-dejavu-core (2.37-1) ...\n",
            "Setting up libxxf86dga1:amd64 (2:1.1.4-1) ...\n",
            "Setting up fonts-dejavu-extra (2.37-1) ...\n",
            "Setting up openjdk-8-jre-headless:amd64 (8u342-b07-0ubuntu1~18.04) ...\n",
            "update-alternatives: using /usr/lib/jvm/java-8-openjdk-amd64/jre/bin/orbd to provide /usr/bin/orbd (orbd) in auto mode\n",
            "update-alternatives: using /usr/lib/jvm/java-8-openjdk-amd64/jre/bin/servertool to provide /usr/bin/servertool (servertool) in auto mode\n",
            "update-alternatives: using /usr/lib/jvm/java-8-openjdk-amd64/jre/bin/tnameserv to provide /usr/bin/tnameserv (tnameserv) in auto mode\n",
            "Setting up libgtk2.0-0:amd64 (2.24.32-1ubuntu1) ...\n",
            "Setting up libgail18:amd64 (2.24.32-1ubuntu1) ...\n",
            "Setting up openjdk-8-jdk-headless:amd64 (8u342-b07-0ubuntu1~18.04) ...\n",
            "update-alternatives: using /usr/lib/jvm/java-8-openjdk-amd64/bin/idlj to provide /usr/bin/idlj (idlj) in auto mode\n",
            "update-alternatives: using /usr/lib/jvm/java-8-openjdk-amd64/bin/wsimport to provide /usr/bin/wsimport (wsimport) in auto mode\n",
            "update-alternatives: using /usr/lib/jvm/java-8-openjdk-amd64/bin/jsadebugd to provide /usr/bin/jsadebugd (jsadebugd) in auto mode\n",
            "update-alternatives: using /usr/lib/jvm/java-8-openjdk-amd64/bin/native2ascii to provide /usr/bin/native2ascii (native2ascii) in auto mode\n",
            "update-alternatives: using /usr/lib/jvm/java-8-openjdk-amd64/bin/javah to provide /usr/bin/javah (javah) in auto mode\n",
            "update-alternatives: using /usr/lib/jvm/java-8-openjdk-amd64/bin/clhsdb to provide /usr/bin/clhsdb (clhsdb) in auto mode\n",
            "update-alternatives: using /usr/lib/jvm/java-8-openjdk-amd64/bin/xjc to provide /usr/bin/xjc (xjc) in auto mode\n",
            "update-alternatives: using /usr/lib/jvm/java-8-openjdk-amd64/bin/hsdb to provide /usr/bin/hsdb (hsdb) in auto mode\n",
            "update-alternatives: using /usr/lib/jvm/java-8-openjdk-amd64/bin/schemagen to provide /usr/bin/schemagen (schemagen) in auto mode\n",
            "update-alternatives: using /usr/lib/jvm/java-8-openjdk-amd64/bin/extcheck to provide /usr/bin/extcheck (extcheck) in auto mode\n",
            "update-alternatives: using /usr/lib/jvm/java-8-openjdk-amd64/bin/jhat to provide /usr/bin/jhat (jhat) in auto mode\n",
            "update-alternatives: using /usr/lib/jvm/java-8-openjdk-amd64/bin/wsgen to provide /usr/bin/wsgen (wsgen) in auto mode\n",
            "Setting up x11-utils (7.7+3build1) ...\n",
            "Setting up libgail-common:amd64 (2.24.32-1ubuntu1) ...\n",
            "Setting up libatk-wrapper-java (0.33.3-20ubuntu0.1) ...\n",
            "Setting up libgtk2.0-bin (2.24.32-1ubuntu1) ...\n",
            "Setting up libatk-wrapper-java-jni:amd64 (0.33.3-20ubuntu0.1) ...\n",
            "Setting up openjdk-8-jre:amd64 (8u342-b07-0ubuntu1~18.04) ...\n",
            "update-alternatives: using /usr/lib/jvm/java-8-openjdk-amd64/jre/bin/policytool to provide /usr/bin/policytool (policytool) in auto mode\n",
            "Setting up openjdk-8-jdk:amd64 (8u342-b07-0ubuntu1~18.04) ...\n",
            "update-alternatives: using /usr/lib/jvm/java-8-openjdk-amd64/bin/appletviewer to provide /usr/bin/appletviewer (appletviewer) in auto mode\n",
            "update-alternatives: using /usr/lib/jvm/java-8-openjdk-amd64/bin/jconsole to provide /usr/bin/jconsole (jconsole) in auto mode\n",
            "Processing triggers for man-db (2.8.3-2ubuntu0.1) ...\n",
            "Processing triggers for hicolor-icon-theme (0.17-2) ...\n",
            "Processing triggers for fontconfig (2.12.6-0ubuntu2) ...\n",
            "Processing triggers for mime-support (3.60ubuntu1) ...\n",
            "Processing triggers for libc-bin (2.27-3ubuntu1.6) ...\n",
            "Looking in indexes: https://pypi.org/simple, https://us-python.pkg.dev/colab-wheels/public/simple/\n",
            "Requirement already satisfied: konlpy in /usr/local/lib/python3.7/dist-packages (0.6.0)\n",
            "Requirement already satisfied: lxml>=4.1.0 in /usr/local/lib/python3.7/dist-packages (from konlpy) (4.9.1)\n",
            "Requirement already satisfied: JPype1>=0.7.0 in /usr/local/lib/python3.7/dist-packages (from konlpy) (1.4.0)\n",
            "Requirement already satisfied: numpy>=1.6 in /usr/local/lib/python3.7/dist-packages (from konlpy) (1.21.6)\n",
            "Requirement already satisfied: typing-extensions in /usr/local/lib/python3.7/dist-packages (from JPype1>=0.7.0->konlpy) (4.1.1)\n"
          ]
        }
      ]
    },
    {
      "cell_type": "code",
      "source": [
        "data_df.head()"
      ],
      "metadata": {
        "colab": {
          "base_uri": "https://localhost:8080/",
          "height": 206
        },
        "id": "f3U67DqFpSTz",
        "outputId": "bae5dabb-4618-4133-a547-b5429a247be3"
      },
      "execution_count": null,
      "outputs": [
        {
          "output_type": "execute_result",
          "data": {
            "text/plain": [
              "   label                                            comment\n",
              "0      0  메종키츠네 테마 폴드3에서는 적용 불가네요;;; 제일 비싼 라인업에서 사용 불가라니...\n",
              "1      1                                          진짜 너무 이쁘다\n",
              "2      1                                           아 너무 예쁘당\n",
              "3      1  솔직히 이거는 돈 하나도 안아까울듯  브랜드 이미지만 있어도 충분히 감성적일텐데, ...\n",
              "4      1       진짜 너무 예쁘네요ㅠㅠ 워치랑 버즈도 이쁜데 폰 테마 진짜 대박. 너무 이뻐요."
            ],
            "text/html": [
              "\n",
              "  <div id=\"df-f0a1f9e6-e666-42c8-bead-b084b7145f2c\">\n",
              "    <div class=\"colab-df-container\">\n",
              "      <div>\n",
              "<style scoped>\n",
              "    .dataframe tbody tr th:only-of-type {\n",
              "        vertical-align: middle;\n",
              "    }\n",
              "\n",
              "    .dataframe tbody tr th {\n",
              "        vertical-align: top;\n",
              "    }\n",
              "\n",
              "    .dataframe thead th {\n",
              "        text-align: right;\n",
              "    }\n",
              "</style>\n",
              "<table border=\"1\" class=\"dataframe\">\n",
              "  <thead>\n",
              "    <tr style=\"text-align: right;\">\n",
              "      <th></th>\n",
              "      <th>label</th>\n",
              "      <th>comment</th>\n",
              "    </tr>\n",
              "  </thead>\n",
              "  <tbody>\n",
              "    <tr>\n",
              "      <th>0</th>\n",
              "      <td>0</td>\n",
              "      <td>메종키츠네 테마 폴드3에서는 적용 불가네요;;; 제일 비싼 라인업에서 사용 불가라니...</td>\n",
              "    </tr>\n",
              "    <tr>\n",
              "      <th>1</th>\n",
              "      <td>1</td>\n",
              "      <td>진짜 너무 이쁘다</td>\n",
              "    </tr>\n",
              "    <tr>\n",
              "      <th>2</th>\n",
              "      <td>1</td>\n",
              "      <td>아 너무 예쁘당</td>\n",
              "    </tr>\n",
              "    <tr>\n",
              "      <th>3</th>\n",
              "      <td>1</td>\n",
              "      <td>솔직히 이거는 돈 하나도 안아까울듯  브랜드 이미지만 있어도 충분히 감성적일텐데, ...</td>\n",
              "    </tr>\n",
              "    <tr>\n",
              "      <th>4</th>\n",
              "      <td>1</td>\n",
              "      <td>진짜 너무 예쁘네요ㅠㅠ 워치랑 버즈도 이쁜데 폰 테마 진짜 대박. 너무 이뻐요.</td>\n",
              "    </tr>\n",
              "  </tbody>\n",
              "</table>\n",
              "</div>\n",
              "      <button class=\"colab-df-convert\" onclick=\"convertToInteractive('df-f0a1f9e6-e666-42c8-bead-b084b7145f2c')\"\n",
              "              title=\"Convert this dataframe to an interactive table.\"\n",
              "              style=\"display:none;\">\n",
              "        \n",
              "  <svg xmlns=\"http://www.w3.org/2000/svg\" height=\"24px\"viewBox=\"0 0 24 24\"\n",
              "       width=\"24px\">\n",
              "    <path d=\"M0 0h24v24H0V0z\" fill=\"none\"/>\n",
              "    <path d=\"M18.56 5.44l.94 2.06.94-2.06 2.06-.94-2.06-.94-.94-2.06-.94 2.06-2.06.94zm-11 1L8.5 8.5l.94-2.06 2.06-.94-2.06-.94L8.5 2.5l-.94 2.06-2.06.94zm10 10l.94 2.06.94-2.06 2.06-.94-2.06-.94-.94-2.06-.94 2.06-2.06.94z\"/><path d=\"M17.41 7.96l-1.37-1.37c-.4-.4-.92-.59-1.43-.59-.52 0-1.04.2-1.43.59L10.3 9.45l-7.72 7.72c-.78.78-.78 2.05 0 2.83L4 21.41c.39.39.9.59 1.41.59.51 0 1.02-.2 1.41-.59l7.78-7.78 2.81-2.81c.8-.78.8-2.07 0-2.86zM5.41 20L4 18.59l7.72-7.72 1.47 1.35L5.41 20z\"/>\n",
              "  </svg>\n",
              "      </button>\n",
              "      \n",
              "  <style>\n",
              "    .colab-df-container {\n",
              "      display:flex;\n",
              "      flex-wrap:wrap;\n",
              "      gap: 12px;\n",
              "    }\n",
              "\n",
              "    .colab-df-convert {\n",
              "      background-color: #E8F0FE;\n",
              "      border: none;\n",
              "      border-radius: 50%;\n",
              "      cursor: pointer;\n",
              "      display: none;\n",
              "      fill: #1967D2;\n",
              "      height: 32px;\n",
              "      padding: 0 0 0 0;\n",
              "      width: 32px;\n",
              "    }\n",
              "\n",
              "    .colab-df-convert:hover {\n",
              "      background-color: #E2EBFA;\n",
              "      box-shadow: 0px 1px 2px rgba(60, 64, 67, 0.3), 0px 1px 3px 1px rgba(60, 64, 67, 0.15);\n",
              "      fill: #174EA6;\n",
              "    }\n",
              "\n",
              "    [theme=dark] .colab-df-convert {\n",
              "      background-color: #3B4455;\n",
              "      fill: #D2E3FC;\n",
              "    }\n",
              "\n",
              "    [theme=dark] .colab-df-convert:hover {\n",
              "      background-color: #434B5C;\n",
              "      box-shadow: 0px 1px 3px 1px rgba(0, 0, 0, 0.15);\n",
              "      filter: drop-shadow(0px 1px 2px rgba(0, 0, 0, 0.3));\n",
              "      fill: #FFFFFF;\n",
              "    }\n",
              "  </style>\n",
              "\n",
              "      <script>\n",
              "        const buttonEl =\n",
              "          document.querySelector('#df-f0a1f9e6-e666-42c8-bead-b084b7145f2c button.colab-df-convert');\n",
              "        buttonEl.style.display =\n",
              "          google.colab.kernel.accessAllowed ? 'block' : 'none';\n",
              "\n",
              "        async function convertToInteractive(key) {\n",
              "          const element = document.querySelector('#df-f0a1f9e6-e666-42c8-bead-b084b7145f2c');\n",
              "          const dataTable =\n",
              "            await google.colab.kernel.invokeFunction('convertToInteractive',\n",
              "                                                     [key], {});\n",
              "          if (!dataTable) return;\n",
              "\n",
              "          const docLinkHtml = 'Like what you see? Visit the ' +\n",
              "            '<a target=\"_blank\" href=https://colab.research.google.com/notebooks/data_table.ipynb>data table notebook</a>'\n",
              "            + ' to learn more about interactive tables.';\n",
              "          element.innerHTML = '';\n",
              "          dataTable['output_type'] = 'display_data';\n",
              "          await google.colab.output.renderOutput(dataTable, element);\n",
              "          const docLink = document.createElement('div');\n",
              "          docLink.innerHTML = docLinkHtml;\n",
              "          element.appendChild(docLink);\n",
              "        }\n",
              "      </script>\n",
              "    </div>\n",
              "  </div>\n",
              "  "
            ]
          },
          "metadata": {},
          "execution_count": 75
        }
      ]
    },
    {
      "cell_type": "code",
      "source": [
        "from konlpy.tag import Okt\n",
        "okt = Okt()\n",
        "\n",
        "morphs_lst = []\n",
        "for i in data_df.index:\n",
        "    #morphs = []\n",
        "    morphs = \"\"\n",
        "    morph = okt.morphs(data_df.loc[i]['comment'], stem=True)\n",
        "    for txt in morph:\n",
        "      if txt not in stopword:\n",
        "        #morphs.append(txt)\n",
        "        morphs = morphs + \" \" + txt\n",
        "    morphs_lst.append(morphs)\n",
        "data_df['morphs'] = morphs_lst\n",
        "data_df.head()"
      ],
      "metadata": {
        "colab": {
          "base_uri": "https://localhost:8080/",
          "height": 206
        },
        "id": "xuBRao3ipT9R",
        "outputId": "7dd699c6-a780-4708-8b1a-8e174d6e0555"
      },
      "execution_count": null,
      "outputs": [
        {
          "output_type": "execute_result",
          "data": {
            "text/plain": [
              "   label                                            comment  \\\n",
              "0      0  메종키츠네 테마 폴드3에서는 적용 불가네요;;; 제일 비싼 라인업에서 사용 불가라니...   \n",
              "1      1                                          진짜 너무 이쁘다   \n",
              "2      1                                           아 너무 예쁘당   \n",
              "3      1  솔직히 이거는 돈 하나도 안아까울듯  브랜드 이미지만 있어도 충분히 감성적일텐데, ...   \n",
              "4      1       진짜 너무 예쁘네요ㅠㅠ 워치랑 버즈도 이쁜데 폰 테마 진짜 대박. 너무 이뻐요.   \n",
              "\n",
              "                                              morphs  \n",
              "0   메종 키츠네 테마 폴드 3 에서는 적용 불가 네 ;;; 제일 비싸다 라인업 사용 ...  \n",
              "1                                          진짜 너무 이쁘다  \n",
              "2                                           아 너무 예쁘다  \n",
              "3        솔직하다 돈 아깝다 브랜드 이미지 만 충분하다 감성 일텐데 , 디테일 장난없다  \n",
              "4     진짜 너무 예쁘다 ㅠㅠ 워치 랑 버즈 이쁘다 폰 테마 진짜 대박 . 너무 이쁘다 .  "
            ],
            "text/html": [
              "\n",
              "  <div id=\"df-dc795ec0-3496-4ff5-b051-13fb4db57a67\">\n",
              "    <div class=\"colab-df-container\">\n",
              "      <div>\n",
              "<style scoped>\n",
              "    .dataframe tbody tr th:only-of-type {\n",
              "        vertical-align: middle;\n",
              "    }\n",
              "\n",
              "    .dataframe tbody tr th {\n",
              "        vertical-align: top;\n",
              "    }\n",
              "\n",
              "    .dataframe thead th {\n",
              "        text-align: right;\n",
              "    }\n",
              "</style>\n",
              "<table border=\"1\" class=\"dataframe\">\n",
              "  <thead>\n",
              "    <tr style=\"text-align: right;\">\n",
              "      <th></th>\n",
              "      <th>label</th>\n",
              "      <th>comment</th>\n",
              "      <th>morphs</th>\n",
              "    </tr>\n",
              "  </thead>\n",
              "  <tbody>\n",
              "    <tr>\n",
              "      <th>0</th>\n",
              "      <td>0</td>\n",
              "      <td>메종키츠네 테마 폴드3에서는 적용 불가네요;;; 제일 비싼 라인업에서 사용 불가라니...</td>\n",
              "      <td>메종 키츠네 테마 폴드 3 에서는 적용 불가 네 ;;; 제일 비싸다 라인업 사용 ...</td>\n",
              "    </tr>\n",
              "    <tr>\n",
              "      <th>1</th>\n",
              "      <td>1</td>\n",
              "      <td>진짜 너무 이쁘다</td>\n",
              "      <td>진짜 너무 이쁘다</td>\n",
              "    </tr>\n",
              "    <tr>\n",
              "      <th>2</th>\n",
              "      <td>1</td>\n",
              "      <td>아 너무 예쁘당</td>\n",
              "      <td>아 너무 예쁘다</td>\n",
              "    </tr>\n",
              "    <tr>\n",
              "      <th>3</th>\n",
              "      <td>1</td>\n",
              "      <td>솔직히 이거는 돈 하나도 안아까울듯  브랜드 이미지만 있어도 충분히 감성적일텐데, ...</td>\n",
              "      <td>솔직하다 돈 아깝다 브랜드 이미지 만 충분하다 감성 일텐데 , 디테일 장난없다</td>\n",
              "    </tr>\n",
              "    <tr>\n",
              "      <th>4</th>\n",
              "      <td>1</td>\n",
              "      <td>진짜 너무 예쁘네요ㅠㅠ 워치랑 버즈도 이쁜데 폰 테마 진짜 대박. 너무 이뻐요.</td>\n",
              "      <td>진짜 너무 예쁘다 ㅠㅠ 워치 랑 버즈 이쁘다 폰 테마 진짜 대박 . 너무 이쁘다 .</td>\n",
              "    </tr>\n",
              "  </tbody>\n",
              "</table>\n",
              "</div>\n",
              "      <button class=\"colab-df-convert\" onclick=\"convertToInteractive('df-dc795ec0-3496-4ff5-b051-13fb4db57a67')\"\n",
              "              title=\"Convert this dataframe to an interactive table.\"\n",
              "              style=\"display:none;\">\n",
              "        \n",
              "  <svg xmlns=\"http://www.w3.org/2000/svg\" height=\"24px\"viewBox=\"0 0 24 24\"\n",
              "       width=\"24px\">\n",
              "    <path d=\"M0 0h24v24H0V0z\" fill=\"none\"/>\n",
              "    <path d=\"M18.56 5.44l.94 2.06.94-2.06 2.06-.94-2.06-.94-.94-2.06-.94 2.06-2.06.94zm-11 1L8.5 8.5l.94-2.06 2.06-.94-2.06-.94L8.5 2.5l-.94 2.06-2.06.94zm10 10l.94 2.06.94-2.06 2.06-.94-2.06-.94-.94-2.06-.94 2.06-2.06.94z\"/><path d=\"M17.41 7.96l-1.37-1.37c-.4-.4-.92-.59-1.43-.59-.52 0-1.04.2-1.43.59L10.3 9.45l-7.72 7.72c-.78.78-.78 2.05 0 2.83L4 21.41c.39.39.9.59 1.41.59.51 0 1.02-.2 1.41-.59l7.78-7.78 2.81-2.81c.8-.78.8-2.07 0-2.86zM5.41 20L4 18.59l7.72-7.72 1.47 1.35L5.41 20z\"/>\n",
              "  </svg>\n",
              "      </button>\n",
              "      \n",
              "  <style>\n",
              "    .colab-df-container {\n",
              "      display:flex;\n",
              "      flex-wrap:wrap;\n",
              "      gap: 12px;\n",
              "    }\n",
              "\n",
              "    .colab-df-convert {\n",
              "      background-color: #E8F0FE;\n",
              "      border: none;\n",
              "      border-radius: 50%;\n",
              "      cursor: pointer;\n",
              "      display: none;\n",
              "      fill: #1967D2;\n",
              "      height: 32px;\n",
              "      padding: 0 0 0 0;\n",
              "      width: 32px;\n",
              "    }\n",
              "\n",
              "    .colab-df-convert:hover {\n",
              "      background-color: #E2EBFA;\n",
              "      box-shadow: 0px 1px 2px rgba(60, 64, 67, 0.3), 0px 1px 3px 1px rgba(60, 64, 67, 0.15);\n",
              "      fill: #174EA6;\n",
              "    }\n",
              "\n",
              "    [theme=dark] .colab-df-convert {\n",
              "      background-color: #3B4455;\n",
              "      fill: #D2E3FC;\n",
              "    }\n",
              "\n",
              "    [theme=dark] .colab-df-convert:hover {\n",
              "      background-color: #434B5C;\n",
              "      box-shadow: 0px 1px 3px 1px rgba(0, 0, 0, 0.15);\n",
              "      filter: drop-shadow(0px 1px 2px rgba(0, 0, 0, 0.3));\n",
              "      fill: #FFFFFF;\n",
              "    }\n",
              "  </style>\n",
              "\n",
              "      <script>\n",
              "        const buttonEl =\n",
              "          document.querySelector('#df-dc795ec0-3496-4ff5-b051-13fb4db57a67 button.colab-df-convert');\n",
              "        buttonEl.style.display =\n",
              "          google.colab.kernel.accessAllowed ? 'block' : 'none';\n",
              "\n",
              "        async function convertToInteractive(key) {\n",
              "          const element = document.querySelector('#df-dc795ec0-3496-4ff5-b051-13fb4db57a67');\n",
              "          const dataTable =\n",
              "            await google.colab.kernel.invokeFunction('convertToInteractive',\n",
              "                                                     [key], {});\n",
              "          if (!dataTable) return;\n",
              "\n",
              "          const docLinkHtml = 'Like what you see? Visit the ' +\n",
              "            '<a target=\"_blank\" href=https://colab.research.google.com/notebooks/data_table.ipynb>data table notebook</a>'\n",
              "            + ' to learn more about interactive tables.';\n",
              "          element.innerHTML = '';\n",
              "          dataTable['output_type'] = 'display_data';\n",
              "          await google.colab.output.renderOutput(dataTable, element);\n",
              "          const docLink = document.createElement('div');\n",
              "          docLink.innerHTML = docLinkHtml;\n",
              "          element.appendChild(docLink);\n",
              "        }\n",
              "      </script>\n",
              "    </div>\n",
              "  </div>\n",
              "  "
            ]
          },
          "metadata": {},
          "execution_count": 76
        }
      ]
    },
    {
      "cell_type": "code",
      "source": [
        "from sklearn.model_selection import train_test_split\n",
        "\n",
        "X = data_df['morphs']\n",
        "y = data_df['label']\n",
        "X_train , X_test, y_train , y_test = train_test_split(X, y,test_size=0.2)"
      ],
      "metadata": {
        "id": "sn3j5ALjpVVt"
      },
      "execution_count": null,
      "outputs": []
    },
    {
      "cell_type": "code",
      "source": [
        "print('학습 데이터의 수 :',X_train.shape[0] , '테스트 데이터의 수 :',X_test.shape[0] )"
      ],
      "metadata": {
        "colab": {
          "base_uri": "https://localhost:8080/"
        },
        "id": "MxrJUnVopXtj",
        "outputId": "32093647-9e98-416d-d000-721275e4e88c"
      },
      "execution_count": null,
      "outputs": [
        {
          "output_type": "stream",
          "name": "stdout",
          "text": [
            "학습 데이터의 수 : 27337 테스트 데이터의 수 : 6835\n"
          ]
        }
      ]
    },
    {
      "cell_type": "code",
      "source": [
        "from tensorflow.keras.preprocessing.text import Tokenizer\n",
        "\n",
        "tokenizer = Tokenizer()\n",
        "tokenizer.fit_on_texts(X_train)"
      ],
      "metadata": {
        "id": "S-Y8NwVIpYyX"
      },
      "execution_count": null,
      "outputs": []
    },
    {
      "cell_type": "code",
      "source": [
        "len(tokenizer.index_word)"
      ],
      "metadata": {
        "colab": {
          "base_uri": "https://localhost:8080/"
        },
        "id": "8Dr2aDVhpcfq",
        "outputId": "cb463cf8-58ea-41c0-83ca-5867834bf426"
      },
      "execution_count": null,
      "outputs": [
        {
          "output_type": "execute_result",
          "data": {
            "text/plain": [
              "18044"
            ]
          },
          "metadata": {},
          "execution_count": 80
        }
      ]
    },
    {
      "cell_type": "code",
      "source": [
        "X_train.shape"
      ],
      "metadata": {
        "colab": {
          "base_uri": "https://localhost:8080/"
        },
        "id": "5tpXfI1ypeFj",
        "outputId": "cafd5695-c981-42c3-f1b4-184c9259ee37"
      },
      "execution_count": null,
      "outputs": [
        {
          "output_type": "execute_result",
          "data": {
            "text/plain": [
              "(27337,)"
            ]
          },
          "metadata": {},
          "execution_count": 81
        }
      ]
    },
    {
      "cell_type": "code",
      "source": [
        "threshold = 2\n",
        "total_cnt = len(tokenizer.word_index) # 단어의 수\n",
        "rare_cnt = 0 # 등장 빈도수가 threshold보다 작은 단어의 개수를 카운트\n",
        "total_freq = 0 # 훈련 데이터의 전체 단어 빈도수 총 합\n",
        "rare_freq = 0 # 등장 빈도수가 threshold보다 작은 단어의 등장 빈도수의 총 합\n",
        "\n",
        "# 단어와 빈도수의 쌍(pair)을 key와 value로 받는다.\n",
        "for key, value in tokenizer.word_counts.items():\n",
        "    total_freq = total_freq + value\n",
        "\n",
        "    # 단어의 등장 빈도수가 threshold보다 작으면\n",
        "    if(value < threshold):\n",
        "        rare_cnt = rare_cnt + 1\n",
        "        rare_freq = rare_freq + value\n",
        "\n",
        "print('단어 집합(vocabulary)의 크기 :',total_cnt)\n",
        "print('등장 빈도가 %s번 이하인 희귀 단어의 수: %s'%(threshold - 1, rare_cnt))\n",
        "print(\"단어 집합에서 희귀 단어의 비율:\", (rare_cnt / total_cnt)*100)\n",
        "print(\"전체 등장 빈도에서 희귀 단어 등장 빈도 비율:\", \\\n",
        "      (rare_freq / total_freq)*100)"
      ],
      "metadata": {
        "colab": {
          "base_uri": "https://localhost:8080/"
        },
        "id": "ZAq8JnRipe5A",
        "outputId": "73d2da2b-88c9-4634-958e-0bab76d86f78"
      },
      "execution_count": null,
      "outputs": [
        {
          "output_type": "stream",
          "name": "stdout",
          "text": [
            "단어 집합(vocabulary)의 크기 : 18044\n",
            "등장 빈도가 1번 이하인 희귀 단어의 수: 7556\n",
            "단어 집합에서 희귀 단어의 비율: 41.87541565063179\n",
            "전체 등장 빈도에서 희귀 단어 등장 빈도 비율: 1.3248911558781087\n"
          ]
        }
      ]
    },
    {
      "cell_type": "code",
      "source": [
        "# 전체 단어 개수 중 빈도수 2이하인 단어 개수는 제거.\n",
        "# 0번 패딩 토큰과 1번 OOV 토큰을 고려하여 +2\n",
        "vocab_size = total_cnt - rare_cnt + 2\n",
        "print('단어 집합의 크기 :',vocab_size)"
      ],
      "metadata": {
        "colab": {
          "base_uri": "https://localhost:8080/"
        },
        "id": "DRgRB_cOpgS8",
        "outputId": "6130547b-eb86-4269-e956-17d56a767a0f"
      },
      "execution_count": null,
      "outputs": [
        {
          "output_type": "stream",
          "name": "stdout",
          "text": [
            "단어 집합의 크기 : 10490\n"
          ]
        }
      ]
    },
    {
      "cell_type": "code",
      "source": [
        "tokenizer = Tokenizer(vocab_size, oov_token = 'OOV') \n",
        "tokenizer.fit_on_texts(X_train)\n",
        "X_train = tokenizer.texts_to_sequences(X_train)\n",
        "X_test = tokenizer.texts_to_sequences(X_test)"
      ],
      "metadata": {
        "id": "wXMBNViAphn_"
      },
      "execution_count": null,
      "outputs": []
    },
    {
      "cell_type": "code",
      "source": [
        "vocab_size"
      ],
      "metadata": {
        "colab": {
          "base_uri": "https://localhost:8080/"
        },
        "id": "3ue12G6HptiT",
        "outputId": "967f12b1-682a-4363-bddc-efdeb0f102ce"
      },
      "execution_count": null,
      "outputs": [
        {
          "output_type": "execute_result",
          "data": {
            "text/plain": [
              "10490"
            ]
          },
          "metadata": {},
          "execution_count": 85
        }
      ]
    },
    {
      "cell_type": "code",
      "source": [
        "len(tokenizer.word_index)"
      ],
      "metadata": {
        "colab": {
          "base_uri": "https://localhost:8080/"
        },
        "id": "S6SgcL_Zpufd",
        "outputId": "8c047134-40bf-466a-8291-6df1f290f200"
      },
      "execution_count": null,
      "outputs": [
        {
          "output_type": "execute_result",
          "data": {
            "text/plain": [
              "18045"
            ]
          },
          "metadata": {},
          "execution_count": 86
        }
      ]
    },
    {
      "cell_type": "code",
      "source": [
        "import matplotlib.pyplot as plt\n",
        "\n",
        "print('문서의 최대 길이 :',max(len(l) for l in X_train))\n",
        "print('문서의 평균 길이 :',sum(map(len, X_train))/len(X_train))\n",
        "plt.hist([len(s) for s in X_train], bins=50)\n",
        "plt.xlabel('length of samples')\n",
        "plt.ylabel('number of samples')\n",
        "plt.show()"
      ],
      "metadata": {
        "colab": {
          "base_uri": "https://localhost:8080/",
          "height": 315
        },
        "id": "UX2GB6nCpvqU",
        "outputId": "c38f1498-cd74-4080-eebf-6941427eaf0d"
      },
      "execution_count": null,
      "outputs": [
        {
          "output_type": "stream",
          "name": "stdout",
          "text": [
            "문서의 최대 길이 : 1029\n",
            "문서의 평균 길이 : 20.862237992464426\n"
          ]
        },
        {
          "output_type": "display_data",
          "data": {
            "text/plain": [
              "<Figure size 432x288 with 1 Axes>"
            ],
            "image/png": "[encoded data removed]"
          },
          "metadata": {
            "needs_background": "light"
          }
        }
      ]
    },
    {
      "cell_type": "code",
      "source": [
        "def below_threshold_len(max_len, nested_list):\n",
        "    cnt = 0\n",
        "    for s in nested_list:\n",
        "        if(len(s) <= max_len):\n",
        "            cnt = cnt + 1\n",
        "    print('전체 샘플 중 길이가 %s 이하인 샘플의 비율: %s'%\\\n",
        "          (max_len, (cnt / len(nested_list))*100))"
      ],
      "metadata": {
        "id": "qB8tXhKypxkG"
      },
      "execution_count": null,
      "outputs": []
    },
    {
      "cell_type": "code",
      "source": [
        "max_len = 150\n",
        "below_threshold_len(max_len, X_train)"
      ],
      "metadata": {
        "colab": {
          "base_uri": "https://localhost:8080/"
        },
        "id": "svwb4P5apy3w",
        "outputId": "0b59f704-67a9-4319-8e3c-7118574babf6"
      },
      "execution_count": null,
      "outputs": [
        {
          "output_type": "stream",
          "name": "stdout",
          "text": [
            "전체 샘플 중 길이가 150 이하인 샘플의 비율: 98.97940520174123\n"
          ]
        }
      ]
    },
    {
      "cell_type": "code",
      "source": [
        "from tensorflow.keras.preprocessing import sequence\n",
        "\n",
        "print('시퀀스 패딩(sample * time)')\n",
        "X_train=sequence.pad_sequences(X_train,maxlen=max_len)\n",
        "X_test=sequence.pad_sequences(X_test,maxlen=max_len)\n",
        "print('X_train 크기 :',X_train.shape)\n",
        "print('X_test 크기 : ', X_test.shape)"
      ],
      "metadata": {
        "colab": {
          "base_uri": "https://localhost:8080/"
        },
        "id": "J-wO0zLzp4JC",
        "outputId": "d54c4047-da02-4d4e-c085-c8a768f9fca0"
      },
      "execution_count": null,
      "outputs": [
        {
          "output_type": "stream",
          "name": "stdout",
          "text": [
            "시퀀스 패딩(sample * time)\n",
            "X_train 크기 : (27337, 150)\n",
            "X_test 크기 :  (6835, 150)\n"
          ]
        }
      ]
    },
    {
      "cell_type": "code",
      "source": [
        "X_train , X_val , y_train , y_val = train_test_split(X_train, y_train,test_size=0.2)"
      ],
      "metadata": {
        "id": "hQp5yFMbp5Ps"
      },
      "execution_count": null,
      "outputs": []
    },
    {
      "cell_type": "code",
      "source": [
        "print(len(X_train),len(X_val))"
      ],
      "metadata": {
        "colab": {
          "base_uri": "https://localhost:8080/"
        },
        "id": "HkdHiNSzp69I",
        "outputId": "cdefe380-24b9-4d60-de30-1bf93b55b059"
      },
      "execution_count": null,
      "outputs": [
        {
          "output_type": "stream",
          "name": "stdout",
          "text": [
            "21869 5468\n"
          ]
        }
      ]
    },
    {
      "cell_type": "code",
      "source": [
        "print(len(y_train),len(y_val))"
      ],
      "metadata": {
        "colab": {
          "base_uri": "https://localhost:8080/"
        },
        "id": "RtPOsfKvp8Th",
        "outputId": "c5818d52-c2de-4da4-8ca4-25b53fdd89db"
      },
      "execution_count": null,
      "outputs": [
        {
          "output_type": "stream",
          "name": "stdout",
          "text": [
            "21869 5468\n"
          ]
        }
      ]
    },
    {
      "cell_type": "code",
      "source": [
        "from tensorflow.keras.models import Sequential\n",
        "from tensorflow.keras.layers import Dense, Dropout, Activation, Embedding, LSTM, Conv1D, MaxPooling1D\n",
        "from tensorflow.keras.optimizers import SGD, Adam,RMSprop\n",
        "model = Sequential()\n",
        "\n",
        "model.add(Embedding(input_dim = vocab_size, output_dim = 128))\n",
        "model.add(LSTM(128, return_sequences = True))\n",
        "model.add(Dropout(0.2))\n",
        "model.add(LSTM(32))\n",
        "model.add(Dense(64, activation = 'relu'))\n",
        "model.add(Dropout(0.3))\n",
        "model.add(Dense(32, activation = 'relu'))\n",
        "model.add(Dense(3, activation = 'softmax'))\n",
        "\n",
        "opt = RMSprop(lr=0.0001)\n",
        "model.compile(optimizer=opt,\n",
        "             loss = 'sparse_categorical_crossentropy',\n",
        "             metrics = ['acc'])\n",
        "model.summary()"
      ],
      "metadata": {
        "colab": {
          "base_uri": "https://localhost:8080/"
        },
        "id": "6Uu0MVLop9CL",
        "outputId": "38edf843-c0f7-418b-ce79-a583dfd93482"
      },
      "execution_count": null,
      "outputs": [
        {
          "output_type": "stream",
          "name": "stdout",
          "text": [
            "Model: \"sequential_2\"\n",
            "_________________________________________________________________\n",
            " Layer (type)                Output Shape              Param #   \n",
            "=================================================================\n",
            " embedding_2 (Embedding)     (None, None, 128)         1342720   \n",
            "                                                                 \n",
            " lstm_4 (LSTM)               (None, None, 128)         131584    \n",
            "                                                                 \n",
            " dropout_4 (Dropout)         (None, None, 128)         0         \n",
            "                                                                 \n",
            " lstm_5 (LSTM)               (None, 32)                20608     \n",
            "                                                                 \n",
            " dense_7 (Dense)             (None, 64)                2112      \n",
            "                                                                 \n",
            " dropout_5 (Dropout)         (None, 64)                0         \n",
            "                                                                 \n",
            " dense_8 (Dense)             (None, 32)                2080      \n",
            "                                                                 \n",
            " dense_9 (Dense)             (None, 3)                 99        \n",
            "                                                                 \n",
            "=================================================================\n",
            "Total params: 1,499,203\n",
            "Trainable params: 1,499,203\n",
            "Non-trainable params: 0\n",
            "_________________________________________________________________\n"
          ]
        },
        {
          "output_type": "stream",
          "name": "stderr",
          "text": [
            "/usr/local/lib/python3.7/dist-packages/keras/optimizer_v2/rmsprop.py:130: UserWarning: The `lr` argument is deprecated, use `learning_rate` instead.\n",
            "  super(RMSprop, self).__init__(name, **kwargs)\n"
          ]
        }
      ]
    },
    {
      "cell_type": "code",
      "source": [
        "from tensorflow.keras.callbacks import EarlyStopping, ModelCheckpoint\n",
        "# 검증 데이터 손실(val_loss)이 증가하면, \n",
        "# 과적합 징후므로 검증 데이터 손실이 4회 증가하면 \n",
        "# 학습을 조기 종료(Early Stopping)합니다. \n",
        "es = EarlyStopping(monitor='val_loss', \n",
        "                   mode='min', verbose=1, patience=10)\n",
        "# ModelCheckpoint를 사용하여 검증 데이터의 \n",
        "# 정확도(val_acc)가 이전보다 좋아질 경우에만 모델을 저장합니다.\n",
        "mc = ModelCheckpoint('best_model_LSTM2.h5', monitor='val_acc', mode='max', verbose=2, save_best_only=True)"
      ],
      "metadata": {
        "id": "pzhEc36YqD21"
      },
      "execution_count": null,
      "outputs": []
    },
    {
      "cell_type": "code",
      "source": [
        "history2 = model.fit(X_train, y_train, epochs=50, callbacks=[es,mc], validation_data = (X_val, y_val))"
      ],
      "metadata": {
        "colab": {
          "base_uri": "https://localhost:8080/"
        },
        "id": "CIGunlYCp_yV",
        "outputId": "685a2da4-2233-4e88-ee32-15ede4e5e66a"
      },
      "execution_count": null,
      "outputs": [
        {
          "output_type": "stream",
          "name": "stdout",
          "text": [
            "Epoch 1/50\n",
            "683/684 [============================>.] - ETA: 0s - loss: 0.9432 - acc: 0.5917\n",
            "Epoch 1: val_acc improved from -inf to 0.60004, saving model to best_model_LSTM2.h5\n",
            "684/684 [==============================] - 18s 22ms/step - loss: 0.9433 - acc: 0.5917 - val_loss: 0.8824 - val_acc: 0.6000\n",
            "Epoch 2/50\n",
            "682/684 [============================>.] - ETA: 0s - loss: 0.8051 - acc: 0.6584\n",
            "Epoch 2: val_acc improved from 0.60004 to 0.71982, saving model to best_model_LSTM2.h5\n",
            "684/684 [==============================] - 14s 21ms/step - loss: 0.8050 - acc: 0.6583 - val_loss: 0.7055 - val_acc: 0.7198\n",
            "Epoch 3/50\n",
            "683/684 [============================>.] - ETA: 0s - loss: 0.6988 - acc: 0.7286\n",
            "Epoch 3: val_acc improved from 0.71982 to 0.74451, saving model to best_model_LSTM2.h5\n",
            "684/684 [==============================] - 13s 18ms/step - loss: 0.6988 - acc: 0.7286 - val_loss: 0.6627 - val_acc: 0.7445\n",
            "Epoch 4/50\n",
            "683/684 [============================>.] - ETA: 0s - loss: 0.6481 - acc: 0.7498\n",
            "Epoch 4: val_acc improved from 0.74451 to 0.75951, saving model to best_model_LSTM2.h5\n",
            "684/684 [==============================] - 13s 19ms/step - loss: 0.6481 - acc: 0.7497 - val_loss: 0.6210 - val_acc: 0.7595\n",
            "Epoch 5/50\n",
            "683/684 [============================>.] - ETA: 0s - loss: 0.6213 - acc: 0.7595\n",
            "Epoch 5: val_acc did not improve from 0.75951\n",
            "684/684 [==============================] - 14s 20ms/step - loss: 0.6214 - acc: 0.7594 - val_loss: 0.6379 - val_acc: 0.7469\n",
            "Epoch 6/50\n",
            "681/684 [============================>.] - ETA: 0s - loss: 0.6026 - acc: 0.7669\n",
            "Epoch 6: val_acc improved from 0.75951 to 0.76591, saving model to best_model_LSTM2.h5\n",
            "684/684 [==============================] - 13s 19ms/step - loss: 0.6021 - acc: 0.7672 - val_loss: 0.6166 - val_acc: 0.7659\n",
            "Epoch 7/50\n",
            "682/684 [============================>.] - ETA: 0s - loss: 0.5889 - acc: 0.7722\n",
            "Epoch 7: val_acc improved from 0.76591 to 0.76865, saving model to best_model_LSTM2.h5\n",
            "684/684 [==============================] - 13s 19ms/step - loss: 0.5886 - acc: 0.7723 - val_loss: 0.5979 - val_acc: 0.7687\n",
            "Epoch 8/50\n",
            "682/684 [============================>.] - ETA: 0s - loss: 0.5773 - acc: 0.7758\n",
            "Epoch 8: val_acc improved from 0.76865 to 0.76920, saving model to best_model_LSTM2.h5\n",
            "684/684 [==============================] - 13s 19ms/step - loss: 0.5771 - acc: 0.7759 - val_loss: 0.6020 - val_acc: 0.7692\n",
            "Epoch 9/50\n",
            "682/684 [============================>.] - ETA: 0s - loss: 0.5678 - acc: 0.7789\n",
            "Epoch 9: val_acc did not improve from 0.76920\n",
            "684/684 [==============================] - 13s 19ms/step - loss: 0.5677 - acc: 0.7790 - val_loss: 0.6095 - val_acc: 0.7668\n",
            "Epoch 10/50\n",
            "682/684 [============================>.] - ETA: 0s - loss: 0.5588 - acc: 0.7805\n",
            "Epoch 10: val_acc improved from 0.76920 to 0.77103, saving model to best_model_LSTM2.h5\n",
            "684/684 [==============================] - 14s 20ms/step - loss: 0.5588 - acc: 0.7806 - val_loss: 0.5946 - val_acc: 0.7710\n",
            "Epoch 11/50\n",
            "684/684 [==============================] - ETA: 0s - loss: 0.5516 - acc: 0.7828\n",
            "Epoch 11: val_acc improved from 0.77103 to 0.77213, saving model to best_model_LSTM2.h5\n",
            "684/684 [==============================] - 13s 19ms/step - loss: 0.5516 - acc: 0.7828 - val_loss: 0.5935 - val_acc: 0.7721\n",
            "Epoch 12/50\n",
            "682/684 [============================>.] - ETA: 0s - loss: 0.5425 - acc: 0.7846\n",
            "Epoch 12: val_acc did not improve from 0.77213\n",
            "684/684 [==============================] - 12s 18ms/step - loss: 0.5427 - acc: 0.7845 - val_loss: 0.5900 - val_acc: 0.7719\n",
            "Epoch 13/50\n",
            "684/684 [==============================] - ETA: 0s - loss: 0.5351 - acc: 0.7888\n",
            "Epoch 13: val_acc did not improve from 0.77213\n",
            "684/684 [==============================] - 13s 18ms/step - loss: 0.5351 - acc: 0.7888 - val_loss: 0.5910 - val_acc: 0.7716\n",
            "Epoch 14/50\n",
            "682/684 [============================>.] - ETA: 0s - loss: 0.5242 - acc: 0.7962\n",
            "Epoch 14: val_acc did not improve from 0.77213\n",
            "684/684 [==============================] - 12s 18ms/step - loss: 0.5239 - acc: 0.7965 - val_loss: 0.5884 - val_acc: 0.7716\n",
            "Epoch 15/50\n",
            "684/684 [==============================] - ETA: 0s - loss: 0.5172 - acc: 0.7991\n",
            "Epoch 15: val_acc did not improve from 0.77213\n",
            "684/684 [==============================] - 12s 18ms/step - loss: 0.5172 - acc: 0.7991 - val_loss: 0.6008 - val_acc: 0.7632\n",
            "Epoch 16/50\n",
            "682/684 [============================>.] - ETA: 0s - loss: 0.5088 - acc: 0.8051\n",
            "Epoch 16: val_acc did not improve from 0.77213\n",
            "684/684 [==============================] - 12s 18ms/step - loss: 0.5088 - acc: 0.8051 - val_loss: 0.5892 - val_acc: 0.7676\n",
            "Epoch 17/50\n",
            "681/684 [============================>.] - ETA: 0s - loss: 0.5018 - acc: 0.8069\n",
            "Epoch 17: val_acc did not improve from 0.77213\n",
            "684/684 [==============================] - 13s 18ms/step - loss: 0.5016 - acc: 0.8071 - val_loss: 0.5969 - val_acc: 0.7665\n",
            "Epoch 18/50\n",
            "684/684 [==============================] - ETA: 0s - loss: 0.4929 - acc: 0.8125\n",
            "Epoch 18: val_acc did not improve from 0.77213\n",
            "684/684 [==============================] - 12s 18ms/step - loss: 0.4929 - acc: 0.8125 - val_loss: 0.5861 - val_acc: 0.7698\n",
            "Epoch 19/50\n",
            "682/684 [============================>.] - ETA: 0s - loss: 0.4910 - acc: 0.8146\n",
            "Epoch 19: val_acc did not improve from 0.77213\n",
            "684/684 [==============================] - 12s 18ms/step - loss: 0.4911 - acc: 0.8147 - val_loss: 0.5976 - val_acc: 0.7681\n",
            "Epoch 20/50\n",
            "683/684 [============================>.] - ETA: 0s - loss: 0.4783 - acc: 0.8198\n",
            "Epoch 20: val_acc did not improve from 0.77213\n",
            "684/684 [==============================] - 12s 18ms/step - loss: 0.4783 - acc: 0.8198 - val_loss: 0.6155 - val_acc: 0.7665\n",
            "Epoch 21/50\n",
            "684/684 [==============================] - ETA: 0s - loss: 0.4697 - acc: 0.8236\n",
            "Epoch 21: val_acc did not improve from 0.77213\n",
            "684/684 [==============================] - 12s 18ms/step - loss: 0.4697 - acc: 0.8236 - val_loss: 0.5952 - val_acc: 0.7648\n",
            "Epoch 22/50\n",
            "683/684 [============================>.] - ETA: 0s - loss: 0.4641 - acc: 0.8270\n",
            "Epoch 22: val_acc did not improve from 0.77213\n",
            "684/684 [==============================] - 12s 18ms/step - loss: 0.4642 - acc: 0.8270 - val_loss: 0.5998 - val_acc: 0.7714\n",
            "Epoch 23/50\n",
            "684/684 [==============================] - ETA: 0s - loss: 0.4576 - acc: 0.8296\n",
            "Epoch 23: val_acc did not improve from 0.77213\n",
            "684/684 [==============================] - 12s 18ms/step - loss: 0.4576 - acc: 0.8296 - val_loss: 0.5987 - val_acc: 0.7634\n",
            "Epoch 24/50\n",
            "682/684 [============================>.] - ETA: 0s - loss: 0.4580 - acc: 0.8310\n",
            "Epoch 24: val_acc did not improve from 0.77213\n",
            "684/684 [==============================] - 13s 19ms/step - loss: 0.4580 - acc: 0.8311 - val_loss: 0.6055 - val_acc: 0.7698\n",
            "Epoch 25/50\n",
            "681/684 [============================>.] - ETA: 0s - loss: 0.4466 - acc: 0.8380\n",
            "Epoch 25: val_acc did not improve from 0.77213\n",
            "684/684 [==============================] - 12s 18ms/step - loss: 0.4465 - acc: 0.8380 - val_loss: 0.6310 - val_acc: 0.7674\n",
            "Epoch 26/50\n",
            "681/684 [============================>.] - ETA: 0s - loss: 0.4345 - acc: 0.8409\n",
            "Epoch 26: val_acc did not improve from 0.77213\n",
            "684/684 [==============================] - 12s 18ms/step - loss: 0.4351 - acc: 0.8407 - val_loss: 0.6099 - val_acc: 0.7612\n",
            "Epoch 27/50\n",
            "684/684 [==============================] - ETA: 0s - loss: 0.4294 - acc: 0.8437\n",
            "Epoch 27: val_acc did not improve from 0.77213\n",
            "684/684 [==============================] - 12s 18ms/step - loss: 0.4294 - acc: 0.8437 - val_loss: 0.6372 - val_acc: 0.7624\n",
            "Epoch 28/50\n",
            "681/684 [============================>.] - ETA: 0s - loss: 0.4221 - acc: 0.8471\n",
            "Epoch 28: val_acc did not improve from 0.77213\n",
            "684/684 [==============================] - 12s 18ms/step - loss: 0.4222 - acc: 0.8471 - val_loss: 0.6402 - val_acc: 0.7621\n",
            "Epoch 28: early stopping\n"
          ]
        }
      ]
    },
    {
      "cell_type": "code",
      "source": [
        "from tensorflow.keras.models import load_model\n",
        "import numpy as np\n",
        "loaded_model_LSTM = load_model('best_model_LSTM2.h5')\n",
        "\n",
        "loaded_model_LSTM.evaluate(X_test,y_test)"
      ],
      "metadata": {
        "colab": {
          "base_uri": "https://localhost:8080/"
        },
        "id": "pTR2E9UGqGpk",
        "outputId": "b5279ecc-4fa5-4558-c104-94afdd3f75e1"
      },
      "execution_count": null,
      "outputs": [
        {
          "output_type": "stream",
          "name": "stdout",
          "text": [
            "214/214 [==============================] - 2s 8ms/step - loss: 0.6101 - acc: 0.7599\n"
          ]
        },
        {
          "output_type": "execute_result",
          "data": {
            "text/plain": [
              "[0.6100675463676453, 0.7599121928215027]"
            ]
          },
          "metadata": {},
          "execution_count": 99
        }
      ]
    },
    {
      "cell_type": "code",
      "source": [
        "from tensorflow.keras.models import load_model\n",
        "import numpy as np\n",
        "loaded_model_LSTM = load_model('best_model_LSTM2.h5')\n",
        "news_label = ['부정','긍정','중립']\n",
        "\n",
        "def sentiment_predict_LSTM_okt(new_sentence):\n",
        "  new_sentence = okt.morphs(new_sentence) # 토큰화\n",
        "  new_sentence = [word for word in new_sentence if not word in stopword] # 불용어 제거\n",
        "  encoded = tokenizer.texts_to_sequences([new_sentence]) # 정수 인코딩\n",
        "  pad_new = sequence.pad_sequences(encoded, maxlen = max_len) # 패딩\n",
        "  score = loaded_model_LSTM.predict(pad_new) # 예측\n",
        "  maximum = np.argmax(score)\n",
        "  print(f'해당 리뷰는 {news_label[maximum]}입니다.')"
      ],
      "metadata": {
        "id": "gB2YGNP3qKDb"
      },
      "execution_count": null,
      "outputs": []
    },
    {
      "cell_type": "code",
      "source": [
        "sentiment_predict_LSTM_okt('디자인은 예쁜데... 배터리가')"
      ],
      "metadata": {
        "colab": {
          "base_uri": "https://localhost:8080/"
        },
        "id": "tx_xblUZqOB4",
        "outputId": "d658a12a-9080-4827-dd18-65a7e390cee0"
      },
      "execution_count": null,
      "outputs": [
        {
          "output_type": "stream",
          "name": "stdout",
          "text": [
            "해당 리뷰는 부정입니다.\n"
          ]
        }
      ]
    },
    {
      "cell_type": "code",
      "source": [
        "sentiment_predict_LSTM_okt('에어팟 프로는 음질이 그렇게 좋진 않네 고민이다 근데 확실히 노켄은 인정한다')"
      ],
      "metadata": {
        "colab": {
          "base_uri": "https://localhost:8080/"
        },
        "id": "QMdqS0hyqOxj",
        "outputId": "8b408334-b05b-479c-f8ab-3e90cf64e595"
      },
      "execution_count": null,
      "outputs": [
        {
          "output_type": "stream",
          "name": "stdout",
          "text": [
            "해당 리뷰는 긍정입니다.\n"
          ]
        }
      ]
    },
    {
      "cell_type": "code",
      "source": [
        "def sentiment_predict_LSTM_okt(new_sentence):\n",
        "  new_sentence = okt.morphs(new_sentence) # 토큰화\n",
        "  new_sentence = [word for word in new_sentence if not word in stopword] # 불용어 제거\n",
        "  encoded = tokenizer.texts_to_sequences([new_sentence]) # 정수 인코딩\n",
        "  pad_new = sequence.pad_sequences(encoded, maxlen = max_len) # 패딩\n",
        "  score = loaded_model_LSTM.predict(pad_new) \n",
        "  maximum = np.argmax(score)\n",
        "  per = int(np.max(score)*100)\n",
        "  print(f'해당 리뷰는 {per}% 확률로 {news_label[maximum]}입니다.')"
      ],
      "metadata": {
        "id": "itbtACUYqQzT"
      },
      "execution_count": null,
      "outputs": []
    },
    {
      "cell_type": "code",
      "source": [],
      "metadata": {
        "id": "_VDOOTmVryPH"
      },
      "execution_count": null,
      "outputs": []
    }
  ]
}